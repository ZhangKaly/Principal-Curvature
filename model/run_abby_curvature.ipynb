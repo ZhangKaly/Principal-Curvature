{
 "cells": [
  {
   "cell_type": "code",
   "execution_count": 2,
   "metadata": {},
   "outputs": [],
   "source": [
    "from manifolds import ellipsoid_ground_truth, hyperboloid_ground_truth_a_eql_b\n",
    "from abby_manifold import Sphere, Torus, Hyperboloid\n",
    "from abby_curvature import scalar_curvature_est\n",
    "from manifolds import hyperboloid_ground_truth\n",
    "import numpy as np"
   ]
  },
  {
   "cell_type": "code",
   "execution_count": 9,
   "metadata": {},
   "outputs": [],
   "source": [
    "def run_torus(seed):\n",
    "    N = 5000\n",
    "    r = 0.375\n",
    "    R = 1.\n",
    "    np.random.seed(seed)\n",
    "    torus, thetas = Torus.sample(N, r, R)\n",
    "    true_curv_torus = Torus.exact_curvatures(thetas, r, R)\n",
    "    sce_torus = scalar_curvature_est(2, torus)\n",
    "    ab_curv_torus = sce_torus.estimate(rmax=np.pi/2)\n",
    "    return true_curv_torus, ab_curv_torus"
   ]
  },
  {
   "cell_type": "code",
   "execution_count": 11,
   "metadata": {},
   "outputs": [
    {
     "name": "stdout",
     "output_type": "stream",
     "text": [
      "0 start\n",
      "computed Rdist\n",
      "computed density\n",
      "computed nearest neighbor matrices\n",
      "0 finish\n",
      "1 start\n",
      "computed Rdist\n",
      "computed density\n",
      "computed nearest neighbor matrices\n",
      "1 finish\n",
      "2 start\n",
      "computed Rdist\n",
      "computed density\n",
      "computed nearest neighbor matrices\n",
      "2 finish\n",
      "3 start\n",
      "computed Rdist\n",
      "computed density\n",
      "computed nearest neighbor matrices\n",
      "3 finish\n",
      "4 start\n",
      "computed Rdist\n",
      "computed density\n",
      "computed nearest neighbor matrices\n",
      "4 finish\n"
     ]
    }
   ],
   "source": [
    "true_curvs, ab_curvs = [], []\n",
    "for i in range(5):\n",
    "    print(i, 'start')\n",
    "    true_curv, ab_curv = run_torus(i * 34)\n",
    "    true_curvs.append(true_curv)\n",
    "    ab_curvs.append(ab_curv)\n",
    "    print(i, 'finish')"
   ]
  },
  {
   "cell_type": "code",
   "execution_count": 15,
   "metadata": {},
   "outputs": [
    {
     "name": "stdout",
     "output_type": "stream",
     "text": [
      "torus\n",
      "[0.9945530033745643, 0.9945025599401106, 0.9943777790237298, 0.9943930816673924, 0.9943254694132992]\n",
      "mean: 0.9944303786838192\n",
      "std: 8.41554457620325e-05\n"
     ]
    }
   ],
   "source": [
    "import numpy as np\n",
    "corrs = []\n",
    "assert len(true_curvs) == len(ab_curvs)\n",
    "for i in range(len(true_curvs)):\n",
    "    corrs.append(np.corrcoef(true_curvs[i], ab_curvs[i])[0, 1])\n",
    "print(\"torus\")\n",
    "print(corrs)\n",
    "print(\"mean:\", np.mean(corrs))\n",
    "print(\"std:\", np.std(corrs))"
   ]
  },
  {
   "cell_type": "code",
   "execution_count": null,
   "metadata": {},
   "outputs": [],
   "source": [
    "def run_hyperboloid(seed):\n",
    "    N = 5000\n",
    "    np.random.seed(seed)\n",
    "    hyperboloid = Hyperboloid.sample(N)\n",
    "    true_curv_hyperboloid = Hyperboloid.S(hyperboloid[:, 2])\n",
    "    true_curv_hyperboloid2 = hyperboloid_ground_truth()\n",
    "    sce_hyperboloid = scalar_curvature_est(2, hyperboloid)\n",
    "    ab_curv_hyperboloid = sce_hyperboloid.estimate(rmax=np.pi/2)\n",
    "    return true_curv_hyperboloid, ab_curv_hyperboloid"
   ]
  },
  {
   "cell_type": "code",
   "execution_count": 2,
   "metadata": {},
   "outputs": [
    {
     "name": "stdout",
     "output_type": "stream",
     "text": [
      "True\n",
      "a =  2\n",
      "c =  1\n",
      "B =  2\n"
     ]
    }
   ],
   "source": [
    "N = 5000\n",
    "# np.random.seed(seed)\n",
    "hyperboloid = Hyperboloid.sample(N)\n",
    "true_curv_hyperboloid = Hyperboloid.S(hyperboloid[:, 2])\n",
    "true_curv_hyperboloid2 = hyperboloid_ground_truth_a_eql_b(hyperboloid, 2, 1)\n",
    "# sce_hyperboloid = scalar_curvature_est(2, hyperboloid)\n",
    "# ab_curv_hyperboloid = sce_hyperboloid.estimate(rmax=np.pi/2)"
   ]
  },
  {
   "cell_type": "code",
   "execution_count": 3,
   "metadata": {},
   "outputs": [
    {
     "data": {
      "text/plain": [
       "<matplotlib.collections.PathCollection at 0x151fc8ebabe0>"
      ]
     },
     "execution_count": 3,
     "metadata": {},
     "output_type": "execute_result"
    },
    {
     "data": {
      "image/png": "[encoded data removed]",
      "text/plain": [
       "<Figure size 640x480 with 1 Axes>"
      ]
     },
     "metadata": {},
     "output_type": "display_data"
    }
   ],
   "source": [
    "import matplotlib.pyplot as plt\n",
    "plt.scatter(true_curv_hyperboloid, np.array(true_curv_hyperboloid2))"
   ]
  },
  {
   "cell_type": "code",
   "execution_count": 4,
   "metadata": {},
   "outputs": [
    {
     "data": {
      "text/plain": [
       "array([-0.04446814, -0.2708004 , -0.01885564, ..., -0.0191848 ,\n",
       "       -0.01263043, -0.24374013])"
      ]
     },
     "execution_count": 4,
     "metadata": {},
     "output_type": "execute_result"
    }
   ],
   "source": [
    "true_curv_hyperboloid"
   ]
  },
  {
   "cell_type": "code",
   "execution_count": 5,
   "metadata": {},
   "outputs": [
    {
     "data": {
      "text/plain": [
       "array([-0.02223407, -0.1354002 , -0.00942782, ..., -0.0095924 ,\n",
       "       -0.00631521, -0.12187006])"
      ]
     },
     "execution_count": 5,
     "metadata": {},
     "output_type": "execute_result"
    }
   ],
   "source": [
    "np.array(true_curv_hyperboloid2)"
   ]
  },
  {
   "cell_type": "code",
   "execution_count": 31,
   "metadata": {},
   "outputs": [
    {
     "data": {
      "text/plain": [
       "(16140, 3)"
      ]
     },
     "execution_count": 31,
     "metadata": {},
     "output_type": "execute_result"
    }
   ],
   "source": [
    "hyperboloid.shape"
   ]
  },
  {
   "cell_type": "code",
   "execution_count": null,
   "metadata": {},
   "outputs": [],
   "source": []
  }
 ],
 "metadata": {
  "kernelspec": {
   "display_name": "Python 3.9.16 ('base')",
   "language": "python",
   "name": "python3"
  },
  "language_info": {
   "codemirror_mode": {
    "name": "ipython",
    "version": 3
   },
   "file_extension": ".py",
   "mimetype": "text/x-python",
   "name": "python",
   "nbconvert_exporter": "python",
   "pygments_lexer": "ipython3",
   "version": "3.9.16"
  },
  "orig_nbformat": 4,
  "vscode": {
   "interpreter": {
    "hash": "f892df00ecb07e6260892f3004287131d6aaa2fdfaba8f0a2144f0d9d605d0e1"
   }
  }
 },
 "nbformat": 4,
 "nbformat_minor": 2
}
