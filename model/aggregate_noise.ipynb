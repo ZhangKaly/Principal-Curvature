{
 "cells": [
  {
   "cell_type": "code",
   "execution_count": 9,
   "metadata": {},
   "outputs": [],
   "source": [
    "import numpy as np\n",
    "import os\n",
    "import re\n",
    "import pandas as pd\n",
    "from abby_curvature import scalar_curvature_est\n",
    "from diffusion_curvature import diffusion_curvature"
   ]
  },
  {
   "cell_type": "code",
   "execution_count": 16,
   "metadata": {},
   "outputs": [],
   "source": [
    "def aggr_res(i):\n",
    "    data_dir = f\"torus_noise_0.{i}/\"\n",
    "    # Initialize an empty list to store dataframes\n",
    "    df_list = []\n",
    "\n",
    "    # Regular expression to match the filenames and extract IDs\n",
    "    pattern = re.compile(r\"curvature_from_(\\d+)_to_(\\d+)\\.csv\")\n",
    "\n",
    "    # Iterate over all files in the directory (replace '.' with your directory path)\n",
    "    for filename in os.listdir(data_dir):\n",
    "        match = pattern.match(filename)\n",
    "        if match:\n",
    "            # Extract the range of ids from the filename\n",
    "            start_id, end_id = map(int, match.groups())\n",
    "\n",
    "            # Read the csv file into a DataFrame\n",
    "            df = pd.read_csv(data_dir + filename, header=None)\n",
    "            \n",
    "            # Create a new column for the ids\n",
    "            df['id'] = range(start_id, end_id)\n",
    "            \n",
    "            # Append the DataFrame to the list\n",
    "            df_list.append(df)\n",
    "\n",
    "    # Concatenate all DataFrames in the list\n",
    "    final_df = pd.concat(df_list, ignore_index=True)\n",
    "    final_df = final_df.set_index('id').sort_index()\n",
    "    # Save the final DataFrame to a new csv file\n",
    "    # final_df.to_csv('curvature_torus_ratio_4_combined.csv', index=False)\n",
    "    # np.savetxt(\"curvature_torus_ratio_4.0_combined.csv\", final_df.values)\n",
    "    # Show the head of the final DataFrame as a sample\n",
    "\n",
    "    assert final_df.shape[0] == 5000\n",
    "    # print(final_df.shape[0])\n",
    "    torus = np.loadtxt(data_dir + 'point_cloud.csv', delimiter=',')\n",
    "    torus_noiseless = np.loadtxt(data_dir + 'point_cloud_noiseless.csv', delimiter=',')\n",
    "    true_torus = np.loadtxt(data_dir + \"K.csv\")\n",
    "    our_torus = final_df.values.flatten()\n",
    "    # dc_torus = diffusion_curvature(torus)\n",
    "    # sce_torus = scalar_curvature_est(2, torus)\n",
    "    # ab_torus = np.array(sce_torus.estimate(rmax=np.pi/2))\n",
    "    non_na_id = ~np.isnan(our_torus)\n",
    "    print(i)\n",
    "    print(\"ours:\", np.corrcoef(-our_torus[non_na_id], true_torus[non_na_id])[0, 1])\n",
    "    # print(\"diffusion:\", np.corrcoef(dc_torus, true_torus)[0, 1])\n",
    "    # print(\"abby:\", np.corrcoef(ab_torus, true_torus)[0, 1])\n",
    "    return {\n",
    "        \"noise\": i * 0.1,\n",
    "        \"ours\": np.corrcoef(-our_torus[non_na_id], true_torus[non_na_id])[0, 1],\n",
    "        \"non-na percentage\": non_na_id.mean()\n",
    "        }\n",
    "        # \"diffusion\": np.corrcoef(dc_torus, true_torus)[0, 1],\n",
    "        # \"abby\": np.corrcoef(ab_torus, true_torus)[0, 1]\n",
    "    # }"
   ]
  },
  {
   "cell_type": "code",
   "execution_count": 17,
   "metadata": {},
   "outputs": [
    {
     "name": "stdout",
     "output_type": "stream",
     "text": [
      "0\n",
      "ours: 0.9077682680676546\n",
      "1\n",
      "ours: 0.8381280411184178\n",
      "2\n",
      "ours: 0.37979938623327253\n",
      "3\n",
      "ours: 0.18660555836089163\n",
      "4\n",
      "ours: 0.0963262912298727\n",
      "5\n",
      "ours: 0.1433454140374379\n",
      "6\n",
      "ours: 0.10033093565493838\n",
      "7\n",
      "ours: 0.07014304946721052\n",
      "8\n",
      "ours: 0.02717263688298611\n"
     ]
    }
   ],
   "source": [
    "# res_df = pd.DataFrame([aggr_res(i) for i in range(10)])\n",
    "res_df = pd.DataFrame([aggr_res(i) for i in range(9)])"
   ]
  },
  {
   "cell_type": "code",
   "execution_count": null,
   "metadata": {},
   "outputs": [],
   "source": [
    "res_df.to_csv(\"noise_aggregates.csv\")"
   ]
  },
  {
   "cell_type": "code",
   "execution_count": 18,
   "metadata": {},
   "outputs": [
    {
     "data": {
      "text/html": [
       "<div>\n",
       "<style scoped>\n",
       "    .dataframe tbody tr th:only-of-type {\n",
       "        vertical-align: middle;\n",
       "    }\n",
       "\n",
       "    .dataframe tbody tr th {\n",
       "        vertical-align: top;\n",
       "    }\n",
       "\n",
       "    .dataframe thead th {\n",
       "        text-align: right;\n",
       "    }\n",
       "</style>\n",
       "<table border=\"1\" class=\"dataframe\">\n",
       "  <thead>\n",
       "    <tr style=\"text-align: right;\">\n",
       "      <th></th>\n",
       "      <th>noise</th>\n",
       "      <th>ours</th>\n",
       "      <th>non-na percentage</th>\n",
       "    </tr>\n",
       "  </thead>\n",
       "  <tbody>\n",
       "    <tr>\n",
       "      <th>0</th>\n",
       "      <td>0.0</td>\n",
       "      <td>0.907768</td>\n",
       "      <td>0.9882</td>\n",
       "    </tr>\n",
       "    <tr>\n",
       "      <th>1</th>\n",
       "      <td>0.1</td>\n",
       "      <td>0.838128</td>\n",
       "      <td>0.9942</td>\n",
       "    </tr>\n",
       "    <tr>\n",
       "      <th>2</th>\n",
       "      <td>0.2</td>\n",
       "      <td>0.379799</td>\n",
       "      <td>0.4802</td>\n",
       "    </tr>\n",
       "    <tr>\n",
       "      <th>3</th>\n",
       "      <td>0.3</td>\n",
       "      <td>0.186606</td>\n",
       "      <td>0.3228</td>\n",
       "    </tr>\n",
       "    <tr>\n",
       "      <th>4</th>\n",
       "      <td>0.4</td>\n",
       "      <td>0.096326</td>\n",
       "      <td>0.2606</td>\n",
       "    </tr>\n",
       "    <tr>\n",
       "      <th>5</th>\n",
       "      <td>0.5</td>\n",
       "      <td>0.143345</td>\n",
       "      <td>0.2424</td>\n",
       "    </tr>\n",
       "    <tr>\n",
       "      <th>6</th>\n",
       "      <td>0.6</td>\n",
       "      <td>0.100331</td>\n",
       "      <td>0.2118</td>\n",
       "    </tr>\n",
       "    <tr>\n",
       "      <th>7</th>\n",
       "      <td>0.7</td>\n",
       "      <td>0.070143</td>\n",
       "      <td>0.1642</td>\n",
       "    </tr>\n",
       "    <tr>\n",
       "      <th>8</th>\n",
       "      <td>0.8</td>\n",
       "      <td>0.027173</td>\n",
       "      <td>0.1142</td>\n",
       "    </tr>\n",
       "  </tbody>\n",
       "</table>\n",
       "</div>"
      ],
      "text/plain": [
       "   noise      ours  non-na percentage\n",
       "0    0.0  0.907768             0.9882\n",
       "1    0.1  0.838128             0.9942\n",
       "2    0.2  0.379799             0.4802\n",
       "3    0.3  0.186606             0.3228\n",
       "4    0.4  0.096326             0.2606\n",
       "5    0.5  0.143345             0.2424\n",
       "6    0.6  0.100331             0.2118\n",
       "7    0.7  0.070143             0.1642\n",
       "8    0.8  0.027173             0.1142"
      ]
     },
     "execution_count": 18,
     "metadata": {},
     "output_type": "execute_result"
    }
   ],
   "source": [
    "res_df"
   ]
  },
  {
   "cell_type": "code",
   "execution_count": null,
   "metadata": {},
   "outputs": [],
   "source": []
  }
 ],
 "metadata": {
  "kernelspec": {
   "display_name": "Python 3.9.16 ('py39')",
   "language": "python",
   "name": "python3"
  },
  "language_info": {
   "codemirror_mode": {
    "name": "ipython",
    "version": 3
   },
   "file_extension": ".py",
   "mimetype": "text/x-python",
   "name": "python",
   "nbconvert_exporter": "python",
   "pygments_lexer": "ipython3",
   "version": "3.9.16"
  },
  "orig_nbformat": 4,
  "vscode": {
   "interpreter": {
    "hash": "f892df00ecb07e6260892f3004287131d6aaa2fdfaba8f0a2144f0d9d605d0e1"
   }
  }
 },
 "nbformat": 4,
 "nbformat_minor": 2
}
