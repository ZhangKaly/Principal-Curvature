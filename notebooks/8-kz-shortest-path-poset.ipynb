{
 "cells": [
  {
   "cell_type": "code",
   "execution_count": 1,
   "metadata": {},
   "outputs": [],
   "source": [
    "import networkx as nx\n",
    "import matplotlib.pyplot as plt\n",
    "import numpy as np\n",
    "import torch\n"
   ]
  },
  {
   "cell_type": "code",
   "execution_count": 2,
   "metadata": {},
   "outputs": [],
   "source": [
    "def n_walk_matrix(A, k):\n",
    "    #A is the adjacency matrix of the graph\n",
    "    W = {}\n",
    "    W[1] = A\n",
    "    for i in range(2, A.shape[1]):\n",
    "        A_power_i = W[i - 1] * A\n",
    "        W[i] = A_power_i - np.diag(np.diag(A_power_i))\n",
    "    return W[k]"
   ]
  },
  {
   "cell_type": "code",
   "execution_count": 3,
   "metadata": {},
   "outputs": [],
   "source": [
    "def compare_vector_lists(list1, list2):\n",
    "    if len(list1) != len(list2):\n",
    "        return 0\n",
    "\n",
    "    # Create a copy of list2\n",
    "    remaining_vectors = list2[:]\n",
    "\n",
    "    for vector1 in list1:\n",
    "        found = 0\n",
    "\n",
    "        for vector2 in remaining_vectors:\n",
    "            if vector1 == vector2:\n",
    "                found = 1\n",
    "                remaining_vectors.remove(vector2)\n",
    "                break\n",
    "\n",
    "        if not found:\n",
    "            return 0\n",
    "\n",
    "    return 1\n",
    "\n",
    "# Example usage:\n",
    "list1 = [[1, 2, 3], [4, 5, 6], [7, 8, 9]]\n",
    "list2 = [[7, 8, 9], [1, 2, 3], [4, 0, 6]]\n",
    "compare_vector_lists(list1, list2)\n",
    "\n",
    "\n",
    "\n",
    "def find_vector_index(vectors, p):\n",
    "    # vectors has form of [[1, 2, 3], [4, 6]] (list of vectors) format, and p has form [[1, 2, 3], [4, 5]]\n",
    "    index_set = []\n",
    "    for k in range(len(p)):\n",
    "        index = []\n",
    "        for i, vector in enumerate(vectors):\n",
    "            for j in p[k]:\n",
    "                if j in vector:\n",
    "                    index.append(i)\n",
    "        index_set.append(index)\n",
    "    return index_set\n",
    "# Example usage:\n",
    "vectors = [[1, 2, 3], [4, 5, 6], [7, 8, 9]]\n",
    "p = [[1, 4, 9], [2, 6]]\n",
    "result = find_vector_index(vectors, p) # the result of this is [[0, 1, 2], [0, 1]] \n",
    "\n",
    "def categorize_dictionary(dictionary):\n",
    "    categories = []\n",
    "\n",
    "    for key, lst in dictionary.items():\n",
    "        found = False\n",
    "\n",
    "        for category in categories:\n",
    "            if compare_vector_lists(lst, category[0][1]):\n",
    "                category.append((key, lst))\n",
    "                found = True\n",
    "                break\n",
    "\n",
    "        if not found:\n",
    "            categories.append([(key, lst)])\n",
    "    cat_keys = []\n",
    "    for category in categories:\n",
    "        keys = []\n",
    "        for key, _ in category:\n",
    "            keys.append(key)\n",
    "        cat_keys.append(keys)\n",
    "\n",
    "    return cat_keys\n",
    "\n",
    "# Example usage:\n",
    "dictionary = {\n",
    "    1: [[1, 2, 3], [4, 5, 6], [7, 8, 9]],\n",
    "    2: [[7, 8, 9], [1, 2, 3], [4, 5, 6]],\n",
    "    3: [[4, 5, 6], [1, 2, 3], [7, 8, 9]],\n",
    "    4: [[10, 11, 12], [13, 14, 15]],\n",
    "    5: [[7, 8, 9], [1, 2, 3], [4, 5, 6]],\n",
    "    6: [[16, 17, 18], [19, 20, 21]],\n",
    "    7: [[13, 14, 15], [10, 11, 12]]\n",
    "}\n",
    "\n",
    "result = categorize_dictionary(dictionary) # the result is [[1, 2, 3, 5], [4, 7], [6]]\n",
    "\n"
   ]
  },
  {
   "cell_type": "code",
   "execution_count": 4,
   "metadata": {},
   "outputs": [],
   "source": [
    "def shortest_paths(G):\n",
    "    #this gives a dictionary of all shortest paths from all nodes\n",
    "    #G is a nx.graph, can compute either from G=nx.Graph or G=nx.from_numpy_matrix(A) where A is adjacency matrix\n",
    "    P = [ {} for _ in range(1, len(G._node) + 1) ]\n",
    "    Q = {}\n",
    "    for i in range(0, len(G._node) ):\n",
    "        for j in range(1, len(G._node) + 1):\n",
    "            P[i][j] = [v for v in nx.all_shortest_paths(G, source=i + 1, target=j)]\n",
    "        Q[i + 1] = P[i] \n",
    "    return Q\n",
    "\n",
    "def find_shortest_Paths_from_node(G, u, n):\n",
    "    #this gives the shortest paths from node u of length n\n",
    "    #u: source node.  n: path length\n",
    "    if n==0:\n",
    "        return [[u]]\n",
    "    paths = []\n",
    "    T = shortest_paths(G)[u]\n",
    "    for i in T:\n",
    "        for j in range(len(T[i])):\n",
    "            if len(T[i][0]) == n: \n",
    "                paths.append(T[i][j])\n",
    "    return paths"
   ]
  },
  {
   "cell_type": "code",
   "execution_count": 5,
   "metadata": {},
   "outputs": [
    {
     "data": {
      "image/png": "[encoded data removed]",
      "text/plain": [
       "<Figure size 432x288 with 2 Axes>"
      ]
     },
     "metadata": {},
     "output_type": "display_data"
    }
   ],
   "source": [
    "alpha = nx.Graph()\n",
    "beta = nx.Graph()\n",
    "\n",
    "alpha.add_edges_from([(1, 2), (2, 3), (3, 4), (4, 5), (5, 6), (6, 1), (6, 7), (7, 8), (8, 9), (9, 10), (10, 5)])\n",
    "beta.add_edges_from([(1, 2), (2, 3), (3, 4), (4, 5), (5, 1), (5, 6), (6, 7), (7, 8), (8, 9), (9, 10), (10, 6)])\n",
    "subax1 = plt.subplot(121)\n",
    "nx.draw(alpha, with_labels=True, font_weight='bold')\n",
    "subax2 = plt.subplot(122)\n",
    "nx.draw(beta, with_labels=True, font_weight='bold')"
   ]
  },
  {
   "cell_type": "code",
   "execution_count": 6,
   "metadata": {},
   "outputs": [
    {
     "name": "stderr",
     "output_type": "stream",
     "text": [
      "/tmp/ipykernel_13966/769908133.py:1: FutureWarning: adjacency_matrix will return a scipy.sparse array instead of a matrix in Networkx 3.0.\n",
      "  adj = nx.adjacency_matrix(alpha).todense()\n"
     ]
    },
    {
     "data": {
      "text/plain": [
       "matrix([[0, 0, 3, 0, 5, 0, 3, 0, 2, 0],\n",
       "        [0, 0, 0, 3, 0, 4, 0, 1, 0, 2],\n",
       "        [3, 0, 0, 0, 4, 0, 2, 0, 1, 0],\n",
       "        [0, 3, 0, 0, 0, 5, 0, 2, 0, 3],\n",
       "        [4, 0, 3, 0, 0, 0, 4, 0, 3, 0],\n",
       "        [0, 3, 0, 4, 0, 0, 0, 3, 0, 4],\n",
       "        [3, 0, 2, 0, 5, 0, 0, 0, 3, 0],\n",
       "        [0, 1, 0, 2, 0, 4, 0, 0, 0, 3],\n",
       "        [2, 0, 1, 0, 4, 0, 3, 0, 0, 0],\n",
       "        [0, 2, 0, 3, 0, 5, 0, 3, 0, 0]])"
      ]
     },
     "execution_count": 6,
     "metadata": {},
     "output_type": "execute_result"
    }
   ],
   "source": [
    "adj = nx.adjacency_matrix(alpha).todense()\n",
    "adj\n",
    "\n",
    "n_walk_matrix(adj, 4)"
   ]
  },
  {
   "cell_type": "code",
   "execution_count": 7,
   "metadata": {},
   "outputs": [
    {
     "data": {
      "text/plain": [
       "{1: {1: [[1]],\n",
       "  2: [[1, 2]],\n",
       "  3: [[1, 2, 3]],\n",
       "  4: [[1, 2, 3, 4], [1, 6, 5, 4]],\n",
       "  5: [[1, 6, 5]],\n",
       "  6: [[1, 6]],\n",
       "  7: [[1, 6, 7]],\n",
       "  8: [[1, 6, 7, 8]],\n",
       "  9: [[1, 6, 5, 10, 9], [1, 6, 7, 8, 9]],\n",
       "  10: [[1, 6, 5, 10]]},\n",
       " 2: {1: [[2, 1]],\n",
       "  2: [[2]],\n",
       "  3: [[2, 3]],\n",
       "  4: [[2, 3, 4]],\n",
       "  5: [[2, 1, 6, 5], [2, 3, 4, 5]],\n",
       "  6: [[2, 1, 6]],\n",
       "  7: [[2, 1, 6, 7]],\n",
       "  8: [[2, 1, 6, 7, 8]],\n",
       "  9: [[2, 1, 6, 5, 10, 9], [2, 3, 4, 5, 10, 9], [2, 1, 6, 7, 8, 9]],\n",
       "  10: [[2, 1, 6, 5, 10], [2, 3, 4, 5, 10]]},\n",
       " 3: {1: [[3, 2, 1]],\n",
       "  2: [[3, 2]],\n",
       "  3: [[3]],\n",
       "  4: [[3, 4]],\n",
       "  5: [[3, 4, 5]],\n",
       "  6: [[3, 2, 1, 6], [3, 4, 5, 6]],\n",
       "  7: [[3, 2, 1, 6, 7], [3, 4, 5, 6, 7]],\n",
       "  8: [[3, 2, 1, 6, 7, 8], [3, 4, 5, 6, 7, 8], [3, 4, 5, 10, 9, 8]],\n",
       "  9: [[3, 4, 5, 10, 9]],\n",
       "  10: [[3, 4, 5, 10]]},\n",
       " 4: {1: [[4, 3, 2, 1], [4, 5, 6, 1]],\n",
       "  2: [[4, 3, 2]],\n",
       "  3: [[4, 3]],\n",
       "  4: [[4]],\n",
       "  5: [[4, 5]],\n",
       "  6: [[4, 5, 6]],\n",
       "  7: [[4, 5, 6, 7]],\n",
       "  8: [[4, 5, 6, 7, 8], [4, 5, 10, 9, 8]],\n",
       "  9: [[4, 5, 10, 9]],\n",
       "  10: [[4, 5, 10]]},\n",
       " 5: {1: [[5, 6, 1]],\n",
       "  2: [[5, 4, 3, 2], [5, 6, 1, 2]],\n",
       "  3: [[5, 4, 3]],\n",
       "  4: [[5, 4]],\n",
       "  5: [[5]],\n",
       "  6: [[5, 6]],\n",
       "  7: [[5, 6, 7]],\n",
       "  8: [[5, 6, 7, 8], [5, 10, 9, 8]],\n",
       "  9: [[5, 10, 9]],\n",
       "  10: [[5, 10]]},\n",
       " 6: {1: [[6, 1]],\n",
       "  2: [[6, 1, 2]],\n",
       "  3: [[6, 5, 4, 3], [6, 1, 2, 3]],\n",
       "  4: [[6, 5, 4]],\n",
       "  5: [[6, 5]],\n",
       "  6: [[6]],\n",
       "  7: [[6, 7]],\n",
       "  8: [[6, 7, 8]],\n",
       "  9: [[6, 5, 10, 9], [6, 7, 8, 9]],\n",
       "  10: [[6, 5, 10]]},\n",
       " 7: {1: [[7, 6, 1]],\n",
       "  2: [[7, 6, 1, 2]],\n",
       "  3: [[7, 6, 5, 4, 3], [7, 6, 1, 2, 3]],\n",
       "  4: [[7, 6, 5, 4]],\n",
       "  5: [[7, 6, 5]],\n",
       "  6: [[7, 6]],\n",
       "  7: [[7]],\n",
       "  8: [[7, 8]],\n",
       "  9: [[7, 8, 9]],\n",
       "  10: [[7, 6, 5, 10], [7, 8, 9, 10]]},\n",
       " 8: {1: [[8, 7, 6, 1]],\n",
       "  2: [[8, 7, 6, 1, 2]],\n",
       "  3: [[8, 7, 6, 5, 4, 3], [8, 9, 10, 5, 4, 3], [8, 7, 6, 1, 2, 3]],\n",
       "  4: [[8, 7, 6, 5, 4], [8, 9, 10, 5, 4]],\n",
       "  5: [[8, 7, 6, 5], [8, 9, 10, 5]],\n",
       "  6: [[8, 7, 6]],\n",
       "  7: [[8, 7]],\n",
       "  8: [[8]],\n",
       "  9: [[8, 9]],\n",
       "  10: [[8, 9, 10]]},\n",
       " 9: {1: [[9, 8, 7, 6, 1], [9, 10, 5, 6, 1]],\n",
       "  2: [[9, 8, 7, 6, 1, 2], [9, 10, 5, 6, 1, 2], [9, 10, 5, 4, 3, 2]],\n",
       "  3: [[9, 10, 5, 4, 3]],\n",
       "  4: [[9, 10, 5, 4]],\n",
       "  5: [[9, 10, 5]],\n",
       "  6: [[9, 8, 7, 6], [9, 10, 5, 6]],\n",
       "  7: [[9, 8, 7]],\n",
       "  8: [[9, 8]],\n",
       "  9: [[9]],\n",
       "  10: [[9, 10]]},\n",
       " 10: {1: [[10, 5, 6, 1]],\n",
       "  2: [[10, 5, 4, 3, 2], [10, 5, 6, 1, 2]],\n",
       "  3: [[10, 5, 4, 3]],\n",
       "  4: [[10, 5, 4]],\n",
       "  5: [[10, 5]],\n",
       "  6: [[10, 5, 6]],\n",
       "  7: [[10, 9, 8, 7], [10, 5, 6, 7]],\n",
       "  8: [[10, 9, 8]],\n",
       "  9: [[10, 9]],\n",
       "  10: [[10]]}}"
      ]
     },
     "execution_count": 7,
     "metadata": {},
     "output_type": "execute_result"
    }
   ],
   "source": [
    "T = shortest_paths(alpha)\n",
    "T"
   ]
  },
  {
   "cell_type": "code",
   "execution_count": 8,
   "metadata": {},
   "outputs": [],
   "source": [
    "def num_of_elements_of_length_k(lst, k):\n",
    "    #lst: a list in the form {1: [[a, b], [c, d]], 2: [[e]]}\n",
    "    #k: the required length\n",
    "    i = 0\n",
    "    idx_set = {}\n",
    "    for idx in range(1, len(lst) + 1):\n",
    "        if len(lst[idx][0]) == k:\n",
    "            idx_set[i] = idx\n",
    "            i = i + len(lst[idx])\n",
    "    return i, idx_set\n",
    "\n",
    "def path_length_num_set(G):\n",
    "    #G is a nx.graph, can compute either from G=nx.Graph or G=nx.from_numpy_matrix(A) where A is adjacency matrix\n",
    "    \"\"\"this returns a list of lengths\n",
    "    for example: \n",
    "    [[1, 4, 6],\n",
    "     [1, 3, 5],\n",
    "     [1, 2, 4]]\n",
    "     the first row of the list tells us the number of paths that are connected to node one of length = index - 1\n",
    "     in this case, first row in second column entry 4 tells us that there are 4 paths that are connected to node 1 with length 2 - 1.\n",
    "    \"\"\" \n",
    "    path_set = shortest_paths(G)\n",
    "    length_set = [ {} for _ in range(len(G._node)) ]\n",
    "    \n",
    "    for i in range(len(G._node)):\n",
    "        for j in range(len(G._node)):\n",
    "            length_set[i][j], the_set = num_of_elements_of_length_k(path_set[i + 1], j +1)\n",
    "    length_set = [list(idx.values()) for idx in length_set] #convert to a list of lists\n",
    "    return length_set\n",
    "\n",
    "def shortest_path_length_poset(G):\n",
    "    #G is a nx.graph, can compute either from G=nx.Graph or G=nx.from_numpy_matrix(A) where A is adjacency matrix\n",
    "    \"\"\"this returns the list of aggregated nodes by the hash(num_of_shortest_paths, previous color)\n",
    "    \"\"\" \n",
    "    p = np.array(path_length_num_set(G)).T\n",
    "    class_set = {}\n",
    "    d_1 = []\n",
    "    for j in list(set(p[0])):\n",
    "        t = [i + 1 for i, n in enumerate(p[0]) if n == j]\n",
    "        d_1.append(t)\n",
    "    class_set[0] = d_1\n",
    "    for k in range(1, len(G._node)):\n",
    "        d = []\n",
    "        num_previous_class = len(class_set[k - 1])  \n",
    "        for i in range(num_previous_class):\n",
    "            new_class_index = class_set[k - 1][i]  #pick the class nodes to be refined\n",
    "            new_class = [ p[k][v - 1] for v in new_class_index ]  #cat the corresponding labels\n",
    "            for j in list(set(new_class)):\n",
    "                #refine the previous class by the number of paths of length k\n",
    "                t = [new_class_index[i] for i, n in enumerate(new_class) \n",
    "                     if n == j] #bin the same labels, i.e., refine the class by num_paths\n",
    "                \n",
    "                # refine the class by the colors of paths of length k\n",
    "                pathset = {}\n",
    "                previous_color_set = {}\n",
    "                for m in t:\n",
    "                    pathset[m] = find_shortest_Paths_from_node(G, m, k)\n",
    "                    previous_color = find_vector_index(class_set[k - 1], pathset[m])\n",
    "                    previous_color_set[m] = previous_color\n",
    "                \n",
    "                #t: contains the nodes of the currrent class,\n",
    "                #pathset: contains the paths of current class of length k\n",
    "                #previous_color_set: contains the colors of the paths labeled in the previous color set\n",
    "                \n",
    "                refined_by_color = categorize_dictionary(previous_color_set)\n",
    "                for q in range(len(refined_by_color)):\n",
    "                    d.append(refined_by_color[q])\n",
    "                \n",
    "        class_set[k] = d\n",
    "        if class_set[k] == class_set[k - 1]:\n",
    "            class_set.popitem()\n",
    "            break\n",
    "            \n",
    "    return class_set\n",
    "    \n",
    "        "
   ]
  },
  {
   "cell_type": "code",
   "execution_count": 9,
   "metadata": {},
   "outputs": [
    {
     "data": {
      "text/plain": [
       "{1: [[1]],\n",
       " 2: [[1, 2]],\n",
       " 3: [[1, 2, 3]],\n",
       " 4: [[1, 2, 3, 4], [1, 6, 5, 4]],\n",
       " 5: [[1, 6, 5]],\n",
       " 6: [[1, 6]],\n",
       " 7: [[1, 6, 7]],\n",
       " 8: [[1, 6, 7, 8]],\n",
       " 9: [[1, 6, 5, 10, 9], [1, 6, 7, 8, 9]],\n",
       " 10: [[1, 6, 5, 10]]}"
      ]
     },
     "execution_count": 9,
     "metadata": {},
     "output_type": "execute_result"
    }
   ],
   "source": [
    "T[1]"
   ]
  },
  {
   "cell_type": "code",
   "execution_count": 10,
   "metadata": {},
   "outputs": [
    {
     "data": {
      "text/plain": [
       "(4, {0: 4, 2: 8, 3: 10})"
      ]
     },
     "execution_count": 10,
     "metadata": {},
     "output_type": "execute_result"
    }
   ],
   "source": [
    "num_of_elements_of_length_k(T[1], 4)"
   ]
  },
  {
   "cell_type": "code",
   "execution_count": 11,
   "metadata": {},
   "outputs": [
    {
     "data": {
      "text/plain": [
       "[[1, 2, 3, 4, 2, 0, 0, 0, 0, 0],\n",
       " [1, 2, 2, 3, 3, 3, 0, 0, 0, 0],\n",
       " [1, 2, 2, 3, 3, 3, 0, 0, 0, 0],\n",
       " [1, 2, 3, 4, 2, 0, 0, 0, 0, 0],\n",
       " [1, 3, 4, 4, 0, 0, 0, 0, 0, 0],\n",
       " [1, 3, 4, 4, 0, 0, 0, 0, 0, 0],\n",
       " [1, 2, 3, 4, 2, 0, 0, 0, 0, 0],\n",
       " [1, 2, 2, 3, 3, 3, 0, 0, 0, 0],\n",
       " [1, 2, 2, 3, 3, 3, 0, 0, 0, 0],\n",
       " [1, 2, 3, 4, 2, 0, 0, 0, 0, 0]]"
      ]
     },
     "execution_count": 11,
     "metadata": {},
     "output_type": "execute_result"
    }
   ],
   "source": [
    "path_length_num_set(alpha)"
   ]
  },
  {
   "cell_type": "code",
   "execution_count": 12,
   "metadata": {},
   "outputs": [
    {
     "data": {
      "image/png": "[encoded data removed]",
      "text/plain": [
       "<Figure size 432x288 with 2 Axes>"
      ]
     },
     "metadata": {},
     "output_type": "display_data"
    }
   ],
   "source": [
    "subax1 = plt.subplot(121)\n",
    "nx.draw(alpha, with_labels=True, font_weight='bold')\n",
    "subax2 = plt.subplot(122)\n",
    "nx.draw(beta, with_labels=True, font_weight='bold')"
   ]
  },
  {
   "cell_type": "code",
   "execution_count": 13,
   "metadata": {},
   "outputs": [
    {
     "data": {
      "text/plain": [
       "{0: [[1, 2, 3, 4, 5, 6, 7, 8, 9, 10]],\n",
       " 1: [[1, 2, 3, 4, 7, 8, 9, 10], [5, 6]],\n",
       " 2: [[2, 3, 8, 9], [1, 4, 7, 10], [5, 6]]}"
      ]
     },
     "execution_count": 13,
     "metadata": {},
     "output_type": "execute_result"
    }
   ],
   "source": [
    "shortest_path_length_poset(alpha)"
   ]
  },
  {
   "cell_type": "code",
   "execution_count": 14,
   "metadata": {},
   "outputs": [
    {
     "data": {
      "text/plain": [
       "{0: [[1, 2, 3, 4, 5, 6, 7, 8, 9, 10]],\n",
       " 1: [[1, 2, 3, 4, 7, 8, 9, 10], [5, 6]],\n",
       " 2: [[2, 3, 8, 9], [1, 4, 7, 10], [5, 6]]}"
      ]
     },
     "execution_count": 14,
     "metadata": {},
     "output_type": "execute_result"
    }
   ],
   "source": [
    "shortest_path_length_poset(beta)"
   ]
  },
  {
   "cell_type": "code",
   "execution_count": 15,
   "metadata": {},
   "outputs": [
    {
     "data": {
      "image/png": "[encoded data removed]",
      "text/plain": [
       "<Figure size 432x288 with 2 Axes>"
      ]
     },
     "metadata": {},
     "output_type": "display_data"
    }
   ],
   "source": [
    "gamma = nx.Graph()\n",
    "theta = nx.Graph()\n",
    "\n",
    "gamma.add_edges_from([(1, 2), (2, 3), (3, 4), (4, 5), (5, 6), (6, 1), (6, 7), (7, 8), (8, 9), \n",
    "                      (9, 10), (10, 5), (9, 11), (11, 12),(12, 13),(13, 14), (14, 8)])\n",
    "theta.add_edges_from([(1, 2), (2, 3), (3, 4), (4, 5), (5, 1), (5, 6), (6, 7), (7, 8), (8, 9),\n",
    "                      (9, 10), (10, 6), (9, 11), (11, 12), (12, 13), (13, 14), (14, 11)])\n",
    "subax1 = plt.subplot(121)\n",
    "nx.draw(gamma, with_labels=True, font_weight='bold')\n",
    "subax2 = plt.subplot(122)\n",
    "nx.draw(theta, with_labels=True, font_weight='bold')"
   ]
  },
  {
   "cell_type": "code",
   "execution_count": 16,
   "metadata": {},
   "outputs": [
    {
     "data": {
      "text/plain": [
       "{0: [[1, 2, 3, 4, 5, 6, 7, 8, 9, 10, 11, 12, 13, 14]],\n",
       " 1: [[1, 2, 3, 4, 7, 10, 11, 12, 13, 14], [5, 6, 8, 9]],\n",
       " 2: [[2, 3, 12, 13], [1, 4, 11, 14], [7, 10], [5, 6, 8, 9]]}"
      ]
     },
     "execution_count": 16,
     "metadata": {},
     "output_type": "execute_result"
    }
   ],
   "source": [
    "shortest_path_length_poset(gamma)"
   ]
  },
  {
   "cell_type": "code",
   "execution_count": 17,
   "metadata": {},
   "outputs": [
    {
     "data": {
      "text/plain": [
       "{0: [[1, 2, 3, 4, 5, 6, 7, 8, 9, 10, 11, 12, 13, 14]],\n",
       " 1: [[1, 2, 3, 4, 7, 8, 10, 12, 13, 14], [5, 6, 9, 11]],\n",
       " 2: [[2, 3, 13], [1, 4, 7, 8, 12, 14], [10], [5, 6, 9, 11]],\n",
       " 3: [[2, 3], [13], [1, 4], [12, 14], [7, 8], [10], [5, 11], [6, 9]],\n",
       " 4: [[2, 3], [13], [1, 4], [12, 14], [7], [8], [10], [5, 11], [6], [9]]}"
      ]
     },
     "execution_count": 17,
     "metadata": {},
     "output_type": "execute_result"
    }
   ],
   "source": [
    "shortest_path_length_poset(theta)"
   ]
  },
  {
   "cell_type": "code",
   "execution_count": 18,
   "metadata": {},
   "outputs": [
    {
     "data": {
      "text/plain": [
       "[[1, 6, 5, 10, 9], [1, 6, 7, 8, 9]]"
      ]
     },
     "execution_count": 18,
     "metadata": {},
     "output_type": "execute_result"
    }
   ],
   "source": [
    "find_shortest_Paths_from_node(alpha, 1, 5)"
   ]
  },
  {
   "cell_type": "code",
   "execution_count": null,
   "metadata": {},
   "outputs": [],
   "source": []
  }
 ],
 "metadata": {
  "kernelspec": {
   "display_name": "otenv",
   "language": "python",
   "name": "otenv"
  },
  "language_info": {
   "codemirror_mode": {
    "name": "ipython",
    "version": 3
   },
   "file_extension": ".py",
   "mimetype": "text/x-python",
   "name": "python",
   "nbconvert_exporter": "python",
   "pygments_lexer": "ipython3",
   "version": "3.10.4"
  }
 },
 "nbformat": 4,
 "nbformat_minor": 4
}
