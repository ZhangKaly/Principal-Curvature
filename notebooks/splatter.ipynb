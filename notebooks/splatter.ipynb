{
 "cells": [
  {
   "cell_type": "code",
   "execution_count": 7,
   "metadata": {},
   "outputs": [],
   "source": [
    "import argparse\n",
    "import os, sys\n",
    "from scsim import scsim\n",
    "import numpy as np\n",
    "import time\n",
    "\n",
    "\n",
    "\n",
    "def save_df(obj, filename):\n",
    "    '''Save pandas dataframe in compressed format'''\n",
    "    np.savez_compressed(filename, data=obj.values, index=obj.index.values, columns=obj.columns.values)\n",
    "\n",
    "\n",
    "def load_df(filename):\n",
    "    with np.load(filename, allow_pickle=True) as f:\n",
    "        obj = pd.DataFrame(**f)\n",
    "    return obj\n",
    "    \n",
    "    \n",
    "def parse_args():\n",
    "    parser = argparse.ArgumentParser(description='Run scsim with specified input arguments')\n",
    "    parser.add_argument('--outdir', type=str, default='scsim-%s-%s-%s-%s-%s-%s-%s-%s',\n",
    "                        help='Output directory base')\n",
    "    parser.add_argument('--seed', type=int, help='simulation seed')\n",
    "    parser.add_argument('--numsims', type=int, help='number of sims to run',\n",
    "                        default=20)\n",
    "    parser.add_argument('--deloc', type=float,\n",
    "                        help='devalue',\n",
    "                        default=1.)\n",
    "    parser.add_argument('--K', type=int,\n",
    "                        help='Number of identity programs',\n",
    "                        default=10)\n",
    "    parser.add_argument('--nproggoups', type=int,\n",
    "                        help='Number of groups expressing activity program. Default is 1/3 of K rounded down',\n",
    "                        default=None)\n",
    "    parser.add_argument('--ncells', type=int,\n",
    "                        help='Total number of cells',\n",
    "                        default=10000)\n",
    "    parser.add_argument('--doubletfrac', type=float,\n",
    "                        help='Percentage of doublet cells',\n",
    "                        default=0.)\n",
    "    a = parser.parse_args()\n",
    "    return(a.outdir, a.seed, a.numsims, a.deloc, a.K, a.nproggoups, a.ncells, a.doubletfrac)\n",
    "\n",
    "\n",
    "\n",
    "\n",
    "\n",
    "\n",
    "    "
   ]
  },
  {
   "cell_type": "code",
   "execution_count": 9,
   "metadata": {},
   "outputs": [
    {
     "name": "stderr",
     "output_type": "stream",
     "text": [
      "usage: ipykernel_launcher.py [-h] [--outdir OUTDIR] [--seed SEED]\n",
      "                             [--numsims NUMSIMS] [--deloc DELOC] [--K K]\n",
      "                             [--nproggoups NPROGGOUPS] [--ncells NCELLS]\n",
      "                             [--doubletfrac DOUBLETFRAC]\n",
      "ipykernel_launcher.py: error: unrecognized arguments: -f /home/mila/y/yanlei.zhang/.local/share/jupyter/runtime/kernel-c8b3e042-be6a-444e-acec-364a3f2d9bb9.json\n"
     ]
    },
    {
     "ename": "SystemExit",
     "evalue": "2",
     "output_type": "error",
     "traceback": [
      "An exception has occurred, use %tb to see the full traceback.\n",
      "\u001b[0;31mSystemExit\u001b[0m\u001b[0;31m:\u001b[0m 2\n"
     ]
    }
   ],
   "source": [
    "(outdir, randseed, numsims, deval, K, nproggroups, ncells, doubletfrac) = parse_args()\n",
    "ngenes=10000\n",
    "nproggenes = 400\n",
    "ndoublets=int(doubletfrac*ncells)\n",
    "    \n",
    "deloc=deval\n",
    "progdeloc=deval\n",
    "descale=1.0\n",
    "progcellfrac = .35\n",
    "deprob = .025\n",
    "\n",
    "if nproggroups is None:\n",
    "    nproggroups = int(K/3)\n",
    "        \n",
    "proggroups = list(range(1, nproggroups+1))\n",
    "\n",
    "simulator = scsim(ngenes=ngenes, ncells=ncells, ngroups=K, libloc=7.64, libscale=0.78,\n",
    "                  mean_rate=7.68,mean_shape=0.34, expoutprob=0.00286,\n",
    "                  expoutloc=6.15, expoutscale=0.49,\n",
    "                  diffexpprob=deprob, diffexpdownprob=0., diffexploc=deloc, diffexpscale=descale,\n",
    "                  bcv_dispersion=0.448, bcv_dof=22.087, ndoublets=ndoublets,\n",
    "                  nproggenes=nproggenes, progdownprob=0., progdeloc=progdeloc,\n",
    "                  progdescale=descale, progcellfrac=progcellfrac, proggoups=proggroups,\n",
    "                  minprogusage=.1, maxprogusage=.7, seed=randseed)\n",
    "\n",
    "\n",
    "start_time = time.time()\n",
    "simulator.simulate()\n",
    "end_time = time.time()\n",
    "print('%.3f minutes elapsed for seed %d' % ((end_time-start_time)/60, randseed))\n",
    "\n",
    "save_df(simulator.cellparams, os.path.join(outdir, 'cellparams'))\n",
    "save_df(simulator.geneparams, os.path.join(outdir, 'geneparams'))\n",
    "save_df(simulator.counts, os.path.join(outdir, 'counts'))"
   ]
  },
  {
   "cell_type": "code",
   "execution_count": null,
   "metadata": {},
   "outputs": [],
   "source": []
  }
 ],
 "metadata": {
  "kernelspec": {
   "display_name": "sheafnn",
   "language": "python",
   "name": "sheafnn"
  },
  "language_info": {
   "codemirror_mode": {
    "name": "ipython",
    "version": 3
   },
   "file_extension": ".py",
   "mimetype": "text/x-python",
   "name": "python",
   "nbconvert_exporter": "python",
   "pygments_lexer": "ipython3",
   "version": "3.10.4"
  }
 },
 "nbformat": 4,
 "nbformat_minor": 4
}
