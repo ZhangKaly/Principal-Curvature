{
 "cells": [
  {
   "cell_type": "code",
   "execution_count": 46,
   "metadata": {},
   "outputs": [],
   "source": [
    "import networkx as nx\n",
    "import matplotlib.pyplot as plt\n",
    "import numpy as np\n",
    "import torch\n",
    "import sys\n",
    "\n",
    "sys.path.append('../src/models/')\n",
    "import pysheaf as ps \n",
    "\"\"\"Note that this \"import\" is not from the python env, it is from the pysheaf.py in '../src/models/' \"\"\"\n"
   ]
  },
  {
   "cell_type": "code",
   "execution_count": 14,
   "metadata": {},
   "outputs": [],
   "source": [
    "def compare_vector_lists(list1, list2):\n",
    "    if len(list1) != len(list2):\n",
    "        return 0\n",
    "\n",
    "    # Create a copy of list2\n",
    "    remaining_vectors = list2[:]\n",
    "\n",
    "    for vector1 in list1:\n",
    "        found = 0\n",
    "\n",
    "        for vector2 in remaining_vectors:\n",
    "            if vector1 == vector2:\n",
    "                found = 1\n",
    "                remaining_vectors.remove(vector2)\n",
    "                break\n",
    "\n",
    "        if not found:\n",
    "            return 0\n",
    "\n",
    "    return 1\n",
    "\n",
    "# Example usage:\n",
    "list1 = [[1, 2, 3], [4, 5, 6], [7, 8, 9]]\n",
    "list2 = [[7, 8, 9], [1, 2, 3], [4, 0, 6]]\n",
    "compare_vector_lists(list1, list2)\n",
    "\n",
    "\n",
    "\n",
    "def find_vector_index(vectors, p):\n",
    "    # vectors has form of [[1, 2, 3], [4, 6]] (list of vectors) format, and p has form [[1, 2, 3], [4, 5]]\n",
    "    index_set = []\n",
    "    for k in range(len(p)):\n",
    "        index = []\n",
    "        for i, vector in enumerate(vectors):\n",
    "            for j in p[k]:\n",
    "                if j in vector:\n",
    "                    index.append(i)\n",
    "        index_set.append(index)\n",
    "    return index_set\n",
    "# Example usage:\n",
    "vectors = [[1, 2, 3], [4, 5, 6], [7, 8, 9]]\n",
    "p = [[1, 4, 9], [2, 6]]\n",
    "result = find_vector_index(vectors, p) # the result of this is [[0, 1, 2], [0, 1]] \n",
    "\n",
    "def categorize_dictionary(dictionary):\n",
    "    categories = []\n",
    "\n",
    "    for key, lst in dictionary.items():\n",
    "        found = False\n",
    "\n",
    "        for category in categories:\n",
    "            if compare_vector_lists(lst, category[0][1]):\n",
    "                category.append((key, lst))\n",
    "                found = True\n",
    "                break\n",
    "\n",
    "        if not found:\n",
    "            categories.append([(key, lst)])\n",
    "    cat_keys = []\n",
    "    for category in categories:\n",
    "        keys = []\n",
    "        for key, _ in category:\n",
    "            keys.append(key)\n",
    "        cat_keys.append(keys)\n",
    "\n",
    "    return cat_keys\n",
    "\n",
    "# Example usage:\n",
    "dictionary = {\n",
    "    1: [[1, 2, 3], [4, 5, 6], [7, 8, 9]],\n",
    "    2: [[7, 8, 9], [1, 2, 3], [4, 5, 6]],\n",
    "    3: [[4, 5, 6], [1, 2, 3], [7, 8, 9]],\n",
    "    4: [[10, 11, 12], [13, 14, 15]],\n",
    "    5: [[7, 8, 9], [1, 2, 3], [4, 5, 6]],\n",
    "    6: [[16, 17, 18], [19, 20, 21]],\n",
    "    7: [[13, 14, 15], [10, 11, 12]]\n",
    "}\n",
    "\n",
    "result = categorize_dictionary(dictionary) # the result is [[1, 2, 3, 5], [4, 7], [6]]\n",
    "\n"
   ]
  },
  {
   "cell_type": "code",
   "execution_count": 3,
   "metadata": {},
   "outputs": [],
   "source": [
    "def findPaths(G,u,n):\n",
    "    #u: source node.  n: path length\n",
    "    if n==0:\n",
    "        return [[u]]\n",
    "    paths = []\n",
    "    for neighbor in G.neighbors(u):\n",
    "        for path in findPaths(G,neighbor,n-1):\n",
    "            if u not in path:\n",
    "                paths.append([u]+path)\n",
    "    return paths\n",
    "\n",
    "def node_path_lengths_set(G):\n",
    "    #G is a nx.graph, can compute either from G=nx.Graph or G=nx.from_numpy_matrix(A) where A is adjacency matrix\n",
    "    \"\"\"this returns the list of aggregated nodes by the function hash(num_of_all_paths_of_length_n, previous color)\n",
    "    \"\"\"\n",
    "    node_path_lengths = {}\n",
    "    for i in range(1, len(G) + 1):\n",
    "        num_of_paths = []\n",
    "        for j in range(len(G)):\n",
    "            num = len(findPaths(G, i, j))\n",
    "            num_of_paths.append(num)  \n",
    "        node_path_lengths[i] = num_of_paths\n",
    "    node_path_lengths = [list(node_path_lengths[i]) for i in range(1, len(node_path_lengths) + 1)]\n",
    "    return node_path_lengths\n",
    "      \n",
    "def all_path_length_poset(G):\n",
    "    #G is a nx.graph, can compute either from G=nx.Graph or G=nx.from_numpy_matrix(A) where A is adjacency matrix\n",
    "    \"\"\"this returns the list of aggregated nodes by the hash(num_of_all_paths, previous color)\n",
    "    \"\"\" \n",
    "    p = np.array(node_path_lengths_set(G)).T\n",
    "    class_set = {}\n",
    "    d_1 = []\n",
    "    for j in list(set(p[0])):\n",
    "        t = [i + 1 for i, n in enumerate(p[0]) if n == j]\n",
    "        d_1.append(t)\n",
    "    class_set[0] = d_1\n",
    "    for k in range(1, len(G._node)):\n",
    "        d = []\n",
    "        num_previous_class = len(class_set[k - 1])  \n",
    "        for i in range(num_previous_class):\n",
    "            new_class_index = class_set[k - 1][i]  #pick the class nodes to be refined\n",
    "            new_class = [ p[k][v - 1] for v in new_class_index ]  #cat the corresponding labels\n",
    "            for j in list(set(new_class)):\n",
    "                #refine the previous class by the number of paths of length k\n",
    "                t = [new_class_index[i] for i, n in enumerate(new_class) \n",
    "                     if n == j] #bin the same labels, i.e., refine the class by num_paths\n",
    "                \n",
    "                # refine the class by the colors of paths of length k\n",
    "                pathset = {}\n",
    "                previous_color_set = {}\n",
    "                for m in t:\n",
    "                    pathset[m] = findPaths(G, m, k)\n",
    "                    previous_color = find_vector_index(class_set[k - 1], pathset[m])\n",
    "                    previous_color_set[m] = previous_color\n",
    "                \n",
    "                #t: contains the nodes of the currrent class,\n",
    "                #pathset: contains the paths of current class of length k\n",
    "                #previous_color_set: contains the colors of the paths labeled in the previous color set\n",
    "                \n",
    "                refined_by_color = categorize_dictionary(previous_color_set)\n",
    "                for q in range(len(refined_by_color)):\n",
    "                    d.append(refined_by_color[q])\n",
    "                \n",
    "        class_set[k] = d\n",
    "        if class_set[k] == class_set[k - 1]:\n",
    "            class_set.popitem()\n",
    "            break\n",
    "            \n",
    "    return class_set\n",
    "    \n",
    "        "
   ]
  },
  {
   "cell_type": "markdown",
   "metadata": {},
   "source": [
    "## The following is an example of useage of pysheaf"
   ]
  },
  {
   "cell_type": "code",
   "execution_count": 4,
   "metadata": {},
   "outputs": [],
   "source": [
    "## From p. 98 Example 4.9:\n",
    "\n",
    "## Restriction Maps:\n",
    "restAD = np.matrix([1,0,0,0])\n",
    "restAG = np.matrix([0,0,1,-1])\n",
    "restBD = np.matrix([1,0,0])\n",
    "restBE = np.matrix([[0,0,3],[0,2,0]])\n",
    "restBF = np.matrix([0,1,0])\n",
    "restCE = np.matrix([[0,0,3,0],[0,0,0,2]])\n",
    "restCF = np.matrix([0,0,0,1])\n",
    "restCG = np.matrix([1,-1,0,0])\n",
    "\n",
    "#note the SheafCoface(index, orientation, restriction)\n",
    "#here the index is labeled on the edges, not on nodes\n",
    "\n",
    "cofaceAD = ps.SheafCoface(3,1,restAD)\n",
    "cofaceAG = ps.SheafCoface(6,1,restAG)\n",
    "cofaceBD = ps.SheafCoface(3,-1,restBD)\n",
    "cofaceBE = ps.SheafCoface(4,1,restBE)\n",
    "cofaceBF = ps.SheafCoface(5,1,restBF)\n",
    "cofaceCE = ps.SheafCoface(4,-1,restCE)\n",
    "cofaceCF = ps.SheafCoface(5,-1,restCF)\n",
    "cofaceCG = ps.SheafCoface(6,-1,restCG)\n",
    "\n",
    "cellA = ps.SheafCell(dimension=0,stalkDim=4,\n",
    "                     cofaces=[cofaceAD,cofaceAG])\n",
    "cellB = ps.SheafCell(dimension=0,stalkDim=3,\n",
    "                     cofaces=[cofaceBD,cofaceBE,cofaceBF])\n",
    "cellC = ps.SheafCell(dimension=0,stalkDim=4,\n",
    "                     cofaces=[cofaceCE,cofaceCF,cofaceCG])\n",
    "cellD = ps.SheafCell(dimension=1,stalkDim=1)\n",
    "cellE = ps.SheafCell(dimension=1,stalkDim=2)\n",
    "cellF = ps.SheafCell(dimension=1,stalkDim=1)\n",
    "cellG = ps.SheafCell(dimension=1,stalkDim=1)\n",
    "\n",
    "sheaf = ps.Sheaf([cellA,cellB,cellC,cellD,cellE,cellF,cellG])"
   ]
  },
  {
   "cell_type": "code",
   "execution_count": 5,
   "metadata": {},
   "outputs": [
    {
     "name": "stdout",
     "output_type": "stream",
     "text": [
      "True\n"
     ]
    }
   ],
   "source": [
    "print(isinstance(cofaceAD,ps.SheafCoface))"
   ]
  },
  {
   "cell_type": "code",
   "execution_count": 6,
   "metadata": {},
   "outputs": [
    {
     "data": {
      "text/plain": [
       "array([[ 1.+0.j,  0.+0.j,  0.+0.j,  0.+0.j, -1.+0.j,  0.+0.j,  0.+0.j,\n",
       "         0.+0.j,  0.+0.j,  0.+0.j,  0.+0.j],\n",
       "       [ 0.+0.j,  0.+0.j,  0.+0.j,  0.+0.j,  0.+0.j,  0.+0.j,  3.+0.j,\n",
       "         0.+0.j,  0.+0.j, -3.+0.j,  0.+0.j],\n",
       "       [ 0.+0.j,  0.+0.j,  0.+0.j,  0.+0.j,  0.+0.j,  2.+0.j,  0.+0.j,\n",
       "         0.+0.j,  0.+0.j,  0.+0.j, -2.+0.j],\n",
       "       [ 0.+0.j,  0.+0.j,  0.+0.j,  0.+0.j,  0.+0.j,  1.+0.j,  0.+0.j,\n",
       "         0.+0.j,  0.+0.j,  0.+0.j, -1.+0.j],\n",
       "       [ 0.+0.j,  0.+0.j,  1.+0.j, -1.+0.j,  0.+0.j,  0.+0.j,  0.+0.j,\n",
       "        -1.+0.j,  1.+0.j,  0.+0.j,  0.+0.j]])"
      ]
     },
     "execution_count": 6,
     "metadata": {},
     "output_type": "execute_result"
    }
   ],
   "source": [
    "sheaf.coboundary(0)"
   ]
  },
  {
   "cell_type": "code",
   "execution_count": 7,
   "metadata": {},
   "outputs": [
    {
     "data": {
      "text/plain": [
       "7"
      ]
     },
     "execution_count": 7,
     "metadata": {},
     "output_type": "execute_result"
    }
   ],
   "source": [
    "sheaf.betti(0)"
   ]
  },
  {
   "cell_type": "markdown",
   "metadata": {},
   "source": [
    "## Now the sheaf defined on our posets"
   ]
  },
  {
   "cell_type": "code",
   "execution_count": 8,
   "metadata": {},
   "outputs": [
    {
     "data": {
      "image/png": "[encoded data removed]",
      "text/plain": [
       "<Figure size 432x288 with 2 Axes>"
      ]
     },
     "metadata": {},
     "output_type": "display_data"
    }
   ],
   "source": [
    "alpha = nx.Graph()\n",
    "beta = nx.Graph()\n",
    "\n",
    "alpha.add_edges_from([(1, 2), (2, 3), (3, 4), (4, 5), (5, 6), (6, 1), (6, 7), (7, 8), (8, 9), (9, 10), (10, 5)])\n",
    "beta.add_edges_from([(1, 2), (2, 3), (3, 4), (4, 5), (5, 1), (5, 6), (6, 7), (7, 8), (8, 9), (9, 10), (10, 6)])\n",
    "subax1 = plt.subplot(121)\n",
    "nx.draw(alpha, with_labels=True, font_weight='bold')\n",
    "subax2 = plt.subplot(122)\n",
    "nx.draw(beta, with_labels=True, font_weight='bold')"
   ]
  },
  {
   "cell_type": "code",
   "execution_count": 9,
   "metadata": {},
   "outputs": [
    {
     "data": {
      "text/plain": [
       "{0: [[1, 2, 3, 4, 5, 6, 7, 8, 9, 10]],\n",
       " 1: [[1, 2, 3, 4, 7, 8, 9, 10], [5, 6]],\n",
       " 2: [[2, 3, 8, 9], [1, 4, 7, 10], [5, 6]]}"
      ]
     },
     "execution_count": 9,
     "metadata": {},
     "output_type": "execute_result"
    }
   ],
   "source": [
    "all_path_length_poset(alpha)"
   ]
  },
  {
   "cell_type": "code",
   "execution_count": 10,
   "metadata": {},
   "outputs": [
    {
     "data": {
      "image/png": "[encoded data removed]",
      "text/plain": [
       "<Figure size 432x288 with 1 Axes>"
      ]
     },
     "metadata": {},
     "output_type": "display_data"
    }
   ],
   "source": [
    "G = nx.Graph()\n",
    "# Add nodes and edges\n",
    "edges = [['A', 'B'], ['A', 'C'], ['B', 'D'], ['B', 'E'], ['C', 'F']]\n",
    "G.add_edges_from(edges)\n",
    "pos = nx.spring_layout(G)\n",
    "\"\"\"nx.draw_networkx_edge_labels(\n",
    "    G, pos, \n",
    "    edge_labels={('A', 'B'): 'AB', \n",
    "                 ('A', 'C'): 'AC', \n",
    "                 ('B', 'D'): 'BD',\n",
    "                 ('B', 'E'): 'BE',\n",
    "                 ('C', 'F'): 'CF'},\n",
    "    font_color='red'\n",
    ")\n",
    "\"\"\"\n",
    "\n",
    "\n",
    "nx.draw(G, pos, with_labels = True)"
   ]
  },
  {
   "cell_type": "code",
   "execution_count": 38,
   "metadata": {},
   "outputs": [],
   "source": [
    "# Restriction maps\n",
    "restAB=np.block([[np.eye(4), np.zeros((4, 6))], [np.zeros((4, 6)), np.eye(4)]])\n",
    "restAC=np.block([[np.zeros((2, 4)), np.eye(2), np.zeros((2, 4))]])\n",
    "restBD=np.block([[np.zeros((2, 1)), np.eye(2), np.zeros((2, 5))],[np.zeros((2, 5)), np.eye(2), np.zeros((2,1))]])\n",
    "restBE=np.block([[np.eye(1),np.zeros((1,7))], [np.zeros((2, 3)), np.eye(2), np.zeros((2, 3))], \n",
    "               [np.zeros((1, 7)), np.eye(1)]])\n",
    "restCF=np.eye(2)"
   ]
  },
  {
   "cell_type": "code",
   "execution_count": 39,
   "metadata": {},
   "outputs": [
    {
     "data": {
      "text/plain": [
       "array([ 1.,  2.,  3.,  4.,  7.,  8.,  9., 10.])"
      ]
     },
     "execution_count": 39,
     "metadata": {},
     "output_type": "execute_result"
    }
   ],
   "source": [
    "restAB @ np.array([1, 2, 3, 4, 5, 6, 7, 8, 9, 10]).T"
   ]
  },
  {
   "cell_type": "code",
   "execution_count": 41,
   "metadata": {},
   "outputs": [
    {
     "data": {
      "text/plain": [
       "array([5., 6.])"
      ]
     },
     "execution_count": 41,
     "metadata": {},
     "output_type": "execute_result"
    }
   ],
   "source": [
    "restAC @ np.array([1, 2, 3, 4, 5, 6, 7, 8, 9, 10]).T"
   ]
  },
  {
   "cell_type": "code",
   "execution_count": 42,
   "metadata": {},
   "outputs": [
    {
     "data": {
      "text/plain": [
       "array([2., 3., 8., 9.])"
      ]
     },
     "execution_count": 42,
     "metadata": {},
     "output_type": "execute_result"
    }
   ],
   "source": [
    "restBD @ np.array([1, 2, 3, 4, 7, 8, 9, 10]).T"
   ]
  },
  {
   "cell_type": "code",
   "execution_count": 43,
   "metadata": {},
   "outputs": [
    {
     "data": {
      "text/plain": [
       "array([ 1.,  4.,  7., 10.])"
      ]
     },
     "execution_count": 43,
     "metadata": {},
     "output_type": "execute_result"
    }
   ],
   "source": [
    "restBE @ np.array([1, 2, 3, 4, 7, 8, 9, 10]).T"
   ]
  },
  {
   "cell_type": "code",
   "execution_count": 45,
   "metadata": {},
   "outputs": [],
   "source": [
    "#note the SheafCoface(index, orientation, restriction maps)! Here the \"index\" is the label of the edge, not the node\n",
    "\n",
    "cofaceAB = ps.SheafCoface('AB', -1, restAB)\n",
    "cofaceAC = ps.SheafCoface('AC', -1, restAC)\n",
    "cofaceBD = ps.SheafCoface('BD', -1, restBD)\n",
    "cofaceBE = ps.SheafCoface('BE', -1, restBE)\n",
    "cofaceCF = ps.SheafCoface('CF', -1, restCF)\n",
    "\n",
    "cellA = ps.SheafCell(dimension=0,stalkDim=10,\n",
    "                     cofaces=[cofaceAD,cofaceAC])\n",
    "cellB = ps.SheafCell(dimension=0,stalkDim=8,\n",
    "                     cofaces=[cofaceBD,cofaceBE])\n",
    "cellC = ps.SheafCell(dimension=0,stalkDim=2,\n",
    "                     cofaces=[cofaceCF])\n",
    "cellD = ps.SheafCell(dimension=0,stalkDim=4)\n",
    "cellE = ps.SheafCell(dimension=0,stalkDim=4)\n",
    "cellF = ps.SheafCell(dimension=0,stalkDim=2)\n",
    "\n",
    "sheaf = ps.Sheaf([cellA,cellB,cellC,cellD,cellE,cellF])"
   ]
  },
  {
   "cell_type": "code",
   "execution_count": 35,
   "metadata": {},
   "outputs": [
    {
     "data": {
      "text/plain": [
       "array([], shape=(0, 30), dtype=complex128)"
      ]
     },
     "execution_count": 35,
     "metadata": {},
     "output_type": "execute_result"
    }
   ],
   "source": [
    "sheaf.coboundary(0)"
   ]
  },
  {
   "cell_type": "code",
   "execution_count": 36,
   "metadata": {},
   "outputs": [
    {
     "data": {
      "text/plain": [
       "30"
      ]
     },
     "execution_count": 36,
     "metadata": {},
     "output_type": "execute_result"
    }
   ],
   "source": [
    "sheaf.betti(0)"
   ]
  },
  {
   "cell_type": "code",
   "execution_count": 37,
   "metadata": {},
   "outputs": [
    {
     "data": {
      "text/plain": [
       "array([[ True,  True,  True,  True,  True,  True,  True,  True,  True,\n",
       "         True,  True,  True,  True,  True,  True,  True,  True,  True,\n",
       "         True,  True,  True,  True,  True,  True,  True,  True,  True,\n",
       "         True,  True,  True],\n",
       "       [ True,  True,  True,  True,  True,  True,  True,  True,  True,\n",
       "         True,  True,  True,  True,  True,  True,  True,  True,  True,\n",
       "         True,  True,  True,  True,  True,  True,  True,  True,  True,\n",
       "         True,  True,  True],\n",
       "       [ True,  True,  True,  True,  True,  True,  True,  True,  True,\n",
       "         True,  True,  True,  True,  True,  True,  True,  True,  True,\n",
       "         True,  True,  True,  True,  True,  True,  True,  True,  True,\n",
       "         True,  True,  True],\n",
       "       [ True,  True,  True,  True,  True,  True,  True,  True,  True,\n",
       "         True,  True,  True,  True,  True,  True,  True,  True,  True,\n",
       "         True,  True,  True,  True,  True,  True,  True,  True,  True,\n",
       "         True,  True,  True],\n",
       "       [ True,  True,  True,  True,  True,  True,  True,  True,  True,\n",
       "         True,  True,  True,  True,  True,  True,  True,  True,  True,\n",
       "         True,  True,  True,  True,  True,  True,  True,  True,  True,\n",
       "         True,  True,  True],\n",
       "       [ True,  True,  True,  True,  True,  True,  True,  True,  True,\n",
       "         True,  True,  True,  True,  True,  True,  True,  True,  True,\n",
       "         True,  True,  True,  True,  True,  True,  True,  True,  True,\n",
       "         True,  True,  True],\n",
       "       [ True,  True,  True,  True,  True,  True,  True,  True,  True,\n",
       "         True,  True,  True,  True,  True,  True,  True,  True,  True,\n",
       "         True,  True,  True,  True,  True,  True,  True,  True,  True,\n",
       "         True,  True,  True],\n",
       "       [ True,  True,  True,  True,  True,  True,  True,  True,  True,\n",
       "         True,  True,  True,  True,  True,  True,  True,  True,  True,\n",
       "         True,  True,  True,  True,  True,  True,  True,  True,  True,\n",
       "         True,  True,  True],\n",
       "       [ True,  True,  True,  True,  True,  True,  True,  True,  True,\n",
       "         True,  True,  True,  True,  True,  True,  True,  True,  True,\n",
       "         True,  True,  True,  True,  True,  True,  True,  True,  True,\n",
       "         True,  True,  True],\n",
       "       [ True,  True,  True,  True,  True,  True,  True,  True,  True,\n",
       "         True,  True,  True,  True,  True,  True,  True,  True,  True,\n",
       "         True,  True,  True,  True,  True,  True,  True,  True,  True,\n",
       "         True,  True,  True],\n",
       "       [ True,  True,  True,  True,  True,  True,  True,  True,  True,\n",
       "         True,  True,  True,  True,  True,  True,  True,  True,  True,\n",
       "         True,  True,  True,  True,  True,  True,  True,  True,  True,\n",
       "         True,  True,  True],\n",
       "       [ True,  True,  True,  True,  True,  True,  True,  True,  True,\n",
       "         True,  True,  True,  True,  True,  True,  True,  True,  True,\n",
       "         True,  True,  True,  True,  True,  True,  True,  True,  True,\n",
       "         True,  True,  True],\n",
       "       [ True,  True,  True,  True,  True,  True,  True,  True,  True,\n",
       "         True,  True,  True,  True,  True,  True,  True,  True,  True,\n",
       "         True,  True,  True,  True,  True,  True,  True,  True,  True,\n",
       "         True,  True,  True],\n",
       "       [ True,  True,  True,  True,  True,  True,  True,  True,  True,\n",
       "         True,  True,  True,  True,  True,  True,  True,  True,  True,\n",
       "         True,  True,  True,  True,  True,  True,  True,  True,  True,\n",
       "         True,  True,  True],\n",
       "       [ True,  True,  True,  True,  True,  True,  True,  True,  True,\n",
       "         True,  True,  True,  True,  True,  True,  True,  True,  True,\n",
       "         True,  True,  True,  True,  True,  True,  True,  True,  True,\n",
       "         True,  True,  True],\n",
       "       [ True,  True,  True,  True,  True,  True,  True,  True,  True,\n",
       "         True,  True,  True,  True,  True,  True,  True,  True,  True,\n",
       "         True,  True,  True,  True,  True,  True,  True,  True,  True,\n",
       "         True,  True,  True],\n",
       "       [ True,  True,  True,  True,  True,  True,  True,  True,  True,\n",
       "         True,  True,  True,  True,  True,  True,  True,  True,  True,\n",
       "         True,  True,  True,  True,  True,  True,  True,  True,  True,\n",
       "         True,  True,  True],\n",
       "       [ True,  True,  True,  True,  True,  True,  True,  True,  True,\n",
       "         True,  True,  True,  True,  True,  True,  True,  True,  True,\n",
       "         True,  True,  True,  True,  True,  True,  True,  True,  True,\n",
       "         True,  True,  True],\n",
       "       [ True,  True,  True,  True,  True,  True,  True,  True,  True,\n",
       "         True,  True,  True,  True,  True,  True,  True,  True,  True,\n",
       "         True,  True,  True,  True,  True,  True,  True,  True,  True,\n",
       "         True,  True,  True],\n",
       "       [ True,  True,  True,  True,  True,  True,  True,  True,  True,\n",
       "         True,  True,  True,  True,  True,  True,  True,  True,  True,\n",
       "         True,  True,  True,  True,  True,  True,  True,  True,  True,\n",
       "         True,  True,  True],\n",
       "       [ True,  True,  True,  True,  True,  True,  True,  True,  True,\n",
       "         True,  True,  True,  True,  True,  True,  True,  True,  True,\n",
       "         True,  True,  True,  True,  True,  True,  True,  True,  True,\n",
       "         True,  True,  True],\n",
       "       [ True,  True,  True,  True,  True,  True,  True,  True,  True,\n",
       "         True,  True,  True,  True,  True,  True,  True,  True,  True,\n",
       "         True,  True,  True,  True,  True,  True,  True,  True,  True,\n",
       "         True,  True,  True],\n",
       "       [ True,  True,  True,  True,  True,  True,  True,  True,  True,\n",
       "         True,  True,  True,  True,  True,  True,  True,  True,  True,\n",
       "         True,  True,  True,  True,  True,  True,  True,  True,  True,\n",
       "         True,  True,  True],\n",
       "       [ True,  True,  True,  True,  True,  True,  True,  True,  True,\n",
       "         True,  True,  True,  True,  True,  True,  True,  True,  True,\n",
       "         True,  True,  True,  True,  True,  True,  True,  True,  True,\n",
       "         True,  True,  True],\n",
       "       [ True,  True,  True,  True,  True,  True,  True,  True,  True,\n",
       "         True,  True,  True,  True,  True,  True,  True,  True,  True,\n",
       "         True,  True,  True,  True,  True,  True,  True,  True,  True,\n",
       "         True,  True,  True],\n",
       "       [ True,  True,  True,  True,  True,  True,  True,  True,  True,\n",
       "         True,  True,  True,  True,  True,  True,  True,  True,  True,\n",
       "         True,  True,  True,  True,  True,  True,  True,  True,  True,\n",
       "         True,  True,  True],\n",
       "       [ True,  True,  True,  True,  True,  True,  True,  True,  True,\n",
       "         True,  True,  True,  True,  True,  True,  True,  True,  True,\n",
       "         True,  True,  True,  True,  True,  True,  True,  True,  True,\n",
       "         True,  True,  True],\n",
       "       [ True,  True,  True,  True,  True,  True,  True,  True,  True,\n",
       "         True,  True,  True,  True,  True,  True,  True,  True,  True,\n",
       "         True,  True,  True,  True,  True,  True,  True,  True,  True,\n",
       "         True,  True,  True],\n",
       "       [ True,  True,  True,  True,  True,  True,  True,  True,  True,\n",
       "         True,  True,  True,  True,  True,  True,  True,  True,  True,\n",
       "         True,  True,  True,  True,  True,  True,  True,  True,  True,\n",
       "         True,  True,  True],\n",
       "       [ True,  True,  True,  True,  True,  True,  True,  True,  True,\n",
       "         True,  True,  True,  True,  True,  True,  True,  True,  True,\n",
       "         True,  True,  True,  True,  True,  True,  True,  True,  True,\n",
       "         True,  True,  True]])"
      ]
     },
     "execution_count": 37,
     "metadata": {},
     "output_type": "execute_result"
    }
   ],
   "source": [
    "sheaf.cohomology(0) == np.eye(30)"
   ]
  },
  {
   "cell_type": "code",
   "execution_count": null,
   "metadata": {},
   "outputs": [],
   "source": []
  }
 ],
 "metadata": {
  "kernelspec": {
   "display_name": "sheafnn",
   "language": "python",
   "name": "sheafnn"
  },
  "language_info": {
   "codemirror_mode": {
    "name": "ipython",
    "version": 3
   },
   "file_extension": ".py",
   "mimetype": "text/x-python",
   "name": "python",
   "nbconvert_exporter": "python",
   "pygments_lexer": "ipython3",
   "version": "3.10.4"
  }
 },
 "nbformat": 4,
 "nbformat_minor": 4
}
