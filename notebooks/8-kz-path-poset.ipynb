{
 "cells": [
  {
   "cell_type": "code",
   "execution_count": 1,
   "metadata": {},
   "outputs": [],
   "source": [
    "import networkx as nx\n",
    "import matplotlib.pyplot as plt\n",
    "import numpy as np\n",
    "import torch\n"
   ]
  },
  {
   "cell_type": "code",
   "execution_count": 78,
   "metadata": {},
   "outputs": [],
   "source": [
    "def n_walk_matrix(A, k):\n",
    "    #A is the adjacency matrix of the graph\n",
    "    W = {}\n",
    "    W[1] = A\n",
    "    for i in range(2, A.shape[1]):\n",
    "        A_power_i = W[i - 1] * A\n",
    "        W[i] = A_power_i - np.diag(np.diag(A_power_i))\n",
    "    return W[k]"
   ]
  },
  {
   "cell_type": "code",
   "execution_count": 2,
   "metadata": {},
   "outputs": [
    {
     "data": {
      "image/png": "[encoded data removed]",
      "text/plain": [
       "<Figure size 432x288 with 2 Axes>"
      ]
     },
     "metadata": {},
     "output_type": "display_data"
    }
   ],
   "source": [
    "alpha = nx.Graph()\n",
    "beta = nx.Graph()\n",
    "\n",
    "alpha.add_edges_from([(1, 2), (2, 3), (3, 4), (4, 5), (5, 6), (6, 1), (6, 7), (7, 8), (8, 9), (9, 10), (10, 5)])\n",
    "beta.add_edges_from([(1, 2), (2, 3), (3, 4), (4, 5), (5, 1), (5, 6), (6, 7), (7, 8), (8, 9), (9, 10), (10, 6)])\n",
    "subax1 = plt.subplot(121)\n",
    "nx.draw(alpha, with_labels=True, font_weight='bold')\n",
    "subax2 = plt.subplot(122)\n",
    "nx.draw(beta, with_labels=True, font_weight='bold')"
   ]
  },
  {
   "cell_type": "code",
   "execution_count": 79,
   "metadata": {},
   "outputs": [
    {
     "data": {
      "text/plain": [
       "matrix([[0, 3, 0, 8, 0, 8, 0, 5, 0, 7],\n",
       "        [4, 0, 3, 0, 9, 0, 5, 0, 3, 0],\n",
       "        [0, 3, 0, 4, 0, 9, 0, 3, 0, 5],\n",
       "        [8, 0, 3, 0, 8, 0, 7, 0, 5, 0],\n",
       "        [0, 7, 0, 3, 0, 8, 0, 7, 0, 3],\n",
       "        [3, 0, 7, 0, 8, 0, 3, 0, 7, 0],\n",
       "        [0, 5, 0, 7, 0, 8, 0, 3, 0, 8],\n",
       "        [5, 0, 3, 0, 9, 0, 4, 0, 3, 0],\n",
       "        [0, 3, 0, 5, 0, 9, 0, 3, 0, 4],\n",
       "        [7, 0, 5, 0, 8, 0, 8, 0, 3, 0]])"
      ]
     },
     "execution_count": 79,
     "metadata": {},
     "output_type": "execute_result"
    }
   ],
   "source": [
    "n_walk_matrix(adj, 5)"
   ]
  },
  {
   "cell_type": "code",
   "execution_count": 80,
   "metadata": {},
   "outputs": [
    {
     "data": {
      "text/plain": [
       "<generator object _build_paths_from_predecessors at 0x7fc183d5f990>"
      ]
     },
     "execution_count": 80,
     "metadata": {},
     "output_type": "execute_result"
    }
   ],
   "source": [
    "nx.all_shortest_paths(alpha, 1, 1)"
   ]
  },
  {
   "cell_type": "code",
   "execution_count": 154,
   "metadata": {},
   "outputs": [
    {
     "data": {
      "text/plain": [
       "[[1, 2, 3, 4], [1, 6, 5, 4]]"
      ]
     },
     "execution_count": 154,
     "metadata": {},
     "output_type": "execute_result"
    }
   ],
   "source": [
    "[p for p in nx.all_shortest_paths(alpha, source=1, target=4)]\n"
   ]
  },
  {
   "cell_type": "code",
   "execution_count": 171,
   "metadata": {},
   "outputs": [],
   "source": [
    "def shortest_paths(G):\n",
    "    #G is a nx.graph, can compute either from G=nx.Graph or G=nx.from_numpy_matrix(A) where A is adjacency matrix\n",
    "    P = [ {} for _ in range(1, len(G._node) + 1) ]\n",
    "    Q = {}\n",
    "    for i in range(0, len(G._node) ):\n",
    "        for j in range(1, len(G._node) + 1):\n",
    "            P[i][j] = [v for v in nx.all_shortest_paths(alpha, source=i + 1, target=j)]\n",
    "        Q[i + 1] = P[i] \n",
    "    return Q"
   ]
  },
  {
   "cell_type": "code",
   "execution_count": 180,
   "metadata": {},
   "outputs": [
    {
     "data": {
      "text/plain": [
       "{1: {1: [[1]],\n",
       "  2: [[1, 2]],\n",
       "  3: [[1, 2, 3]],\n",
       "  4: [[1, 2, 3, 4], [1, 6, 5, 4]],\n",
       "  5: [[1, 6, 5]],\n",
       "  6: [[1, 6]],\n",
       "  7: [[1, 6, 7]],\n",
       "  8: [[1, 6, 7, 8]],\n",
       "  9: [[1, 6, 5, 10, 9], [1, 6, 7, 8, 9]],\n",
       "  10: [[1, 6, 5, 10]]},\n",
       " 2: {1: [[2, 1]],\n",
       "  2: [[2]],\n",
       "  3: [[2, 3]],\n",
       "  4: [[2, 3, 4]],\n",
       "  5: [[2, 1, 6, 5], [2, 3, 4, 5]],\n",
       "  6: [[2, 1, 6]],\n",
       "  7: [[2, 1, 6, 7]],\n",
       "  8: [[2, 1, 6, 7, 8]],\n",
       "  9: [[2, 1, 6, 5, 10, 9], [2, 3, 4, 5, 10, 9], [2, 1, 6, 7, 8, 9]],\n",
       "  10: [[2, 1, 6, 5, 10], [2, 3, 4, 5, 10]]},\n",
       " 3: {1: [[3, 2, 1]],\n",
       "  2: [[3, 2]],\n",
       "  3: [[3]],\n",
       "  4: [[3, 4]],\n",
       "  5: [[3, 4, 5]],\n",
       "  6: [[3, 2, 1, 6], [3, 4, 5, 6]],\n",
       "  7: [[3, 2, 1, 6, 7], [3, 4, 5, 6, 7]],\n",
       "  8: [[3, 2, 1, 6, 7, 8], [3, 4, 5, 6, 7, 8], [3, 4, 5, 10, 9, 8]],\n",
       "  9: [[3, 4, 5, 10, 9]],\n",
       "  10: [[3, 4, 5, 10]]},\n",
       " 4: {1: [[4, 3, 2, 1], [4, 5, 6, 1]],\n",
       "  2: [[4, 3, 2]],\n",
       "  3: [[4, 3]],\n",
       "  4: [[4]],\n",
       "  5: [[4, 5]],\n",
       "  6: [[4, 5, 6]],\n",
       "  7: [[4, 5, 6, 7]],\n",
       "  8: [[4, 5, 6, 7, 8], [4, 5, 10, 9, 8]],\n",
       "  9: [[4, 5, 10, 9]],\n",
       "  10: [[4, 5, 10]]},\n",
       " 5: {1: [[5, 6, 1]],\n",
       "  2: [[5, 4, 3, 2], [5, 6, 1, 2]],\n",
       "  3: [[5, 4, 3]],\n",
       "  4: [[5, 4]],\n",
       "  5: [[5]],\n",
       "  6: [[5, 6]],\n",
       "  7: [[5, 6, 7]],\n",
       "  8: [[5, 6, 7, 8], [5, 10, 9, 8]],\n",
       "  9: [[5, 10, 9]],\n",
       "  10: [[5, 10]]},\n",
       " 6: {1: [[6, 1]],\n",
       "  2: [[6, 1, 2]],\n",
       "  3: [[6, 5, 4, 3], [6, 1, 2, 3]],\n",
       "  4: [[6, 5, 4]],\n",
       "  5: [[6, 5]],\n",
       "  6: [[6]],\n",
       "  7: [[6, 7]],\n",
       "  8: [[6, 7, 8]],\n",
       "  9: [[6, 5, 10, 9], [6, 7, 8, 9]],\n",
       "  10: [[6, 5, 10]]},\n",
       " 7: {1: [[7, 6, 1]],\n",
       "  2: [[7, 6, 1, 2]],\n",
       "  3: [[7, 6, 5, 4, 3], [7, 6, 1, 2, 3]],\n",
       "  4: [[7, 6, 5, 4]],\n",
       "  5: [[7, 6, 5]],\n",
       "  6: [[7, 6]],\n",
       "  7: [[7]],\n",
       "  8: [[7, 8]],\n",
       "  9: [[7, 8, 9]],\n",
       "  10: [[7, 6, 5, 10], [7, 8, 9, 10]]},\n",
       " 8: {1: [[8, 7, 6, 1]],\n",
       "  2: [[8, 7, 6, 1, 2]],\n",
       "  3: [[8, 7, 6, 5, 4, 3], [8, 9, 10, 5, 4, 3], [8, 7, 6, 1, 2, 3]],\n",
       "  4: [[8, 7, 6, 5, 4], [8, 9, 10, 5, 4]],\n",
       "  5: [[8, 7, 6, 5], [8, 9, 10, 5]],\n",
       "  6: [[8, 7, 6]],\n",
       "  7: [[8, 7]],\n",
       "  8: [[8]],\n",
       "  9: [[8, 9]],\n",
       "  10: [[8, 9, 10]]},\n",
       " 9: {1: [[9, 8, 7, 6, 1], [9, 10, 5, 6, 1]],\n",
       "  2: [[9, 8, 7, 6, 1, 2], [9, 10, 5, 6, 1, 2], [9, 10, 5, 4, 3, 2]],\n",
       "  3: [[9, 10, 5, 4, 3]],\n",
       "  4: [[9, 10, 5, 4]],\n",
       "  5: [[9, 10, 5]],\n",
       "  6: [[9, 8, 7, 6], [9, 10, 5, 6]],\n",
       "  7: [[9, 8, 7]],\n",
       "  8: [[9, 8]],\n",
       "  9: [[9]],\n",
       "  10: [[9, 10]]},\n",
       " 10: {1: [[10, 5, 6, 1]],\n",
       "  2: [[10, 5, 4, 3, 2], [10, 5, 6, 1, 2]],\n",
       "  3: [[10, 5, 4, 3]],\n",
       "  4: [[10, 5, 4]],\n",
       "  5: [[10, 5]],\n",
       "  6: [[10, 5, 6]],\n",
       "  7: [[10, 9, 8, 7], [10, 5, 6, 7]],\n",
       "  8: [[10, 9, 8]],\n",
       "  9: [[10, 9]],\n",
       "  10: [[10]]}}"
      ]
     },
     "execution_count": 180,
     "metadata": {},
     "output_type": "execute_result"
    }
   ],
   "source": [
    "T = shortest_paths(alpha)\n",
    "T"
   ]
  },
  {
   "cell_type": "code",
   "execution_count": 292,
   "metadata": {},
   "outputs": [],
   "source": [
    "def num_of_elements_of_length_k(lst, k):\n",
    "    #lst: a list in the form {1: [[a, b], [c, d]], 2: [[e]]}\n",
    "    #k: the required length\n",
    "    i = 0\n",
    "    idx_set = {}\n",
    "    for idx in range(1, len(lst) + 1):\n",
    "        if len(lst[idx][0]) == k:\n",
    "            idx_set[i] = idx\n",
    "            i = i + len(lst[idx])\n",
    "    return i, idx_set\n",
    "\n",
    "def path_length_num_set(G):\n",
    "    #G is a nx.graph, can compute either from G=nx.Graph or G=nx.from_numpy_matrix(A) where A is adjacency matrix\n",
    "    \"\"\"this returns a list of lengths\n",
    "    for example: \n",
    "    [[1, 4, 6],\n",
    "     [1, 3, 5],\n",
    "     [1, 2, 4]]\n",
    "     the first row of the list tells us the number of paths that are connected to node one of length = index - 1\n",
    "     in this case, first row in second column entry 4 tells us that there are 4 paths that are connected to node 1 with length 2 - 1.\n",
    "    \"\"\" \n",
    "    path_set = shortest_paths(G)\n",
    "    length_set = [ {} for _ in range(len(G._node)) ]\n",
    "    \n",
    "    for i in range(len(G._node)):\n",
    "        for j in range(len(G._node)):\n",
    "            length_set[i][j], the_set = num_of_elements_of_length_k(path_set[i + 1], j +1)\n",
    "    length_set = [list(idx.values()) for idx in length_set] #convert to a list of lists\n",
    "    return length_set\n",
    "\n",
    "def path_length_poset(G):\n",
    "    #G is a nx.graph, can compute either from G=nx.Graph or G=nx.from_numpy_matrix(A) where A is adjacency matrix\n",
    "    \"\"\"this returns the list of WL aggregated nodes\n",
    "    \"\"\" \n",
    "    p = np.array(WL_length_set(G)).T\n",
    "    class_set = {}\n",
    "    d_1 = []\n",
    "    for j in list(set(p[0])):\n",
    "        t = [i + 1 for i, n in enumerate(p[0]) if n == j]\n",
    "        d_1.append(t)\n",
    "    class_set[0] = d_1\n",
    "    for k in range(1, len(G._node)):\n",
    "        d = []\n",
    "        num_previous_class = len(class_set[k - 1])\n",
    "        for i in range(num_previous_class):\n",
    "            new_class_index = class_set[k - 1][i]\n",
    "            new_class = [ p[k][v - 1] for v in new_class_index ]\n",
    "            for j in list(set(new_class)):\n",
    "                t = [new_class_index[i] for i, n in enumerate(new_class) if n == j]\n",
    "                d.append(t)\n",
    "                \n",
    "        class_set[k] = d\n",
    "        if class_set[k] == class_set[k - 1]:\n",
    "            class_set.popitem()\n",
    "            break\n",
    "            \n",
    "    return class_set\n",
    "            \n",
    "        \n",
    "    \n",
    "                    "
   ]
  },
  {
   "cell_type": "code",
   "execution_count": 293,
   "metadata": {},
   "outputs": [
    {
     "data": {
      "text/plain": [
       "{1: [[1]],\n",
       " 2: [[1, 2]],\n",
       " 3: [[1, 2, 3]],\n",
       " 4: [[1, 2, 3, 4], [1, 6, 5, 4]],\n",
       " 5: [[1, 6, 5]],\n",
       " 6: [[1, 6]],\n",
       " 7: [[1, 6, 7]],\n",
       " 8: [[1, 6, 7, 8]],\n",
       " 9: [[1, 6, 5, 10, 9], [1, 6, 7, 8, 9]],\n",
       " 10: [[1, 6, 5, 10]]}"
      ]
     },
     "execution_count": 293,
     "metadata": {},
     "output_type": "execute_result"
    }
   ],
   "source": [
    "T[1]"
   ]
  },
  {
   "cell_type": "code",
   "execution_count": 294,
   "metadata": {},
   "outputs": [
    {
     "data": {
      "text/plain": [
       "(4, {0: 4, 2: 8, 3: 10})"
      ]
     },
     "execution_count": 294,
     "metadata": {},
     "output_type": "execute_result"
    }
   ],
   "source": [
    "num_of_elements_of_length_k(T[1], 4)"
   ]
  },
  {
   "cell_type": "code",
   "execution_count": 295,
   "metadata": {},
   "outputs": [
    {
     "data": {
      "text/plain": [
       "[[1, 2, 3, 4, 2, 0, 0, 0, 0, 0],\n",
       " [1, 2, 2, 3, 3, 3, 0, 0, 0, 0],\n",
       " [1, 2, 2, 3, 3, 3, 0, 0, 0, 0],\n",
       " [1, 2, 3, 4, 2, 0, 0, 0, 0, 0],\n",
       " [1, 3, 4, 4, 0, 0, 0, 0, 0, 0],\n",
       " [1, 3, 4, 4, 0, 0, 0, 0, 0, 0],\n",
       " [1, 2, 3, 4, 2, 0, 0, 0, 0, 0],\n",
       " [1, 2, 2, 3, 3, 3, 0, 0, 0, 0],\n",
       " [1, 2, 2, 3, 3, 3, 0, 0, 0, 0],\n",
       " [1, 2, 3, 4, 2, 0, 0, 0, 0, 0]]"
      ]
     },
     "execution_count": 295,
     "metadata": {},
     "output_type": "execute_result"
    }
   ],
   "source": [
    "path_length_num_set(alpha)"
   ]
  },
  {
   "cell_type": "code",
   "execution_count": 296,
   "metadata": {},
   "outputs": [
    {
     "data": {
      "text/plain": [
       "{0: [[1, 2, 3, 4, 5, 6, 7, 8, 9, 10]],\n",
       " 1: [[1, 2, 3, 4, 7, 8, 9, 10], [5, 6]],\n",
       " 2: [[2, 3, 8, 9], [1, 4, 7, 10], [5, 6]]}"
      ]
     },
     "execution_count": 296,
     "metadata": {},
     "output_type": "execute_result"
    }
   ],
   "source": [
    "path_length_poset(alpha)"
   ]
  },
  {
   "cell_type": "code",
   "execution_count": 297,
   "metadata": {},
   "outputs": [
    {
     "data": {
      "text/plain": [
       "{0: [[1, 2, 3, 4, 5, 6, 7, 8, 9, 10]],\n",
       " 1: [[1, 2, 3, 4, 7, 8, 9, 10], [5, 6]],\n",
       " 2: [[2, 3, 8, 9], [1, 4, 7, 10], [5, 6]]}"
      ]
     },
     "execution_count": 297,
     "metadata": {},
     "output_type": "execute_result"
    }
   ],
   "source": [
    "path_length_poset(beta)"
   ]
  },
  {
   "cell_type": "code",
   "execution_count": null,
   "metadata": {},
   "outputs": [],
   "source": []
  }
 ],
 "metadata": {
  "kernelspec": {
   "display_name": "sheafnn",
   "language": "python",
   "name": "sheafnn"
  },
  "language_info": {
   "codemirror_mode": {
    "name": "ipython",
    "version": 3
   },
   "file_extension": ".py",
   "mimetype": "text/x-python",
   "name": "python",
   "nbconvert_exporter": "python",
   "pygments_lexer": "ipython3",
   "version": "3.10.4"
  }
 },
 "nbformat": 4,
 "nbformat_minor": 4
}
