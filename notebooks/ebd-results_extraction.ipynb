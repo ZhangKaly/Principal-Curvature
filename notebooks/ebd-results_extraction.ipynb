{
 "cells": [
  {
   "cell_type": "code",
   "execution_count": 27,
   "metadata": {},
   "outputs": [],
   "source": [
    "import pandas as pd\n",
    "import os"
   ]
  },
  {
   "cell_type": "code",
   "execution_count": 56,
   "metadata": {},
   "outputs": [],
   "source": [
    "def get_results(path):\n",
    "    dirs = os.listdir(path)\n",
    "    dirs = [d for d in dirs if \".yaml\" not in d]\n",
    "\n",
    "    df_list = []\n",
    "    for dir_ in dirs:\n",
    "        path_ = os.path.join(path,dir_,\"metrics.csv\")\n",
    "        df = pd.read_csv(path_)\n",
    "        df_list.append(df)\n",
    "\n",
    "    df_full = pd.concat(df_list)\n",
    "\n",
    "\n",
    "    m = df_full[\"test_accuracy\"].mean()\n",
    "    s = df_full[\"test_accuracy\"].std()\n",
    "\n",
    "    return df_full, m, s"
   ]
  },
  {
   "cell_type": "code",
   "execution_count": 57,
   "metadata": {},
   "outputs": [],
   "source": [
    "df_res = []"
   ]
  },
  {
   "cell_type": "markdown",
   "metadata": {},
   "source": [
    "# MUTAG"
   ]
  },
  {
   "cell_type": "markdown",
   "metadata": {},
   "source": [
    "## OG"
   ]
  },
  {
   "cell_type": "code",
   "execution_count": 58,
   "metadata": {},
   "outputs": [
    {
     "name": "stdout",
     "output_type": "stream",
     "text": [
      " Result : 0.6947368264198304 +=  0.08025237663951557\n"
     ]
    }
   ],
   "source": [
    "path = os.path.join(\"..\",\"logs\",\"og\",\"multiruns\",\"2023-11-20_17-43-31\")\n",
    "\n",
    "df_full, m, s = get_results(path)\n",
    "\n",
    "print(f\" Result : {m} +=  {s}\")\n",
    "\n",
    "df_res.append([\"Mutag\", \"Original Graph\", m, s])"
   ]
  },
  {
   "cell_type": "markdown",
   "metadata": {},
   "source": [
    "## Path extension"
   ]
  },
  {
   "cell_type": "code",
   "execution_count": 59,
   "metadata": {},
   "outputs": [
    {
     "name": "stdout",
     "output_type": "stream",
     "text": [
      " Result : 0.6631578922271728 +=  0.07302336687986871\n"
     ]
    }
   ],
   "source": [
    "path = os.path.join(\"..\",\"logs\",\"path_length\",\"multiruns\",\"2023-11-20_17-42-42\")\n",
    "\n",
    "df_full, m, s = get_results(path)\n",
    "\n",
    "df_res.append([\"Mutag\", \"Path extension graph\", m, s])\n",
    "print(f\" Result : {m} +=  {s}\")"
   ]
  },
  {
   "cell_type": "markdown",
   "metadata": {},
   "source": [
    "# PROTEINS"
   ]
  },
  {
   "cell_type": "markdown",
   "metadata": {},
   "source": [
    "## OG"
   ]
  },
  {
   "cell_type": "code",
   "execution_count": 60,
   "metadata": {},
   "outputs": [
    {
     "name": "stdout",
     "output_type": "stream",
     "text": [
      " Result : 0.7336322784423828 +-  0.024273303417167217\n"
     ]
    }
   ],
   "source": [
    "path = os.path.join(\"..\",\"logs\",\"og\",\"multiruns\",\"2023-11-20_17-35-46\")\n",
    "\n",
    "df_full, m, s = get_results(path)\n",
    "\n",
    "df_res.append([\"PROTEINS\", \"Original Graph\", m, s])\n",
    "print(f\" Result : {m} +-  {s}\")"
   ]
  },
  {
   "cell_type": "markdown",
   "metadata": {},
   "source": [
    "## Path extension"
   ]
  },
  {
   "cell_type": "code",
   "execution_count": 61,
   "metadata": {},
   "outputs": [
    {
     "name": "stdout",
     "output_type": "stream",
     "text": [
      " Result : 0.6044843077659607 +-  0.025247872026199623\n"
     ]
    }
   ],
   "source": [
    "path = os.path.join(\"..\",\"logs\",\"path_length\",\"multiruns\",\"2023-11-20_17-36-44\")\n",
    "\n",
    "df_full, m, s = get_results(path)\n",
    "\n",
    "df_res.append([\"PROTEINS\", \"Path extension graph\", m, s])\n",
    "print(f\" Result : {m} +-  {s}\")"
   ]
  },
  {
   "cell_type": "code",
   "execution_count": 62,
   "metadata": {},
   "outputs": [
    {
     "data": {
      "text/html": [
       "<div>\n",
       "<style scoped>\n",
       "    .dataframe tbody tr th:only-of-type {\n",
       "        vertical-align: middle;\n",
       "    }\n",
       "\n",
       "    .dataframe tbody tr th {\n",
       "        vertical-align: top;\n",
       "    }\n",
       "\n",
       "    .dataframe thead th {\n",
       "        text-align: right;\n",
       "    }\n",
       "</style>\n",
       "<table border=\"1\" class=\"dataframe\">\n",
       "  <thead>\n",
       "    <tr style=\"text-align: right;\">\n",
       "      <th></th>\n",
       "      <th>Dataset</th>\n",
       "      <th>Graph</th>\n",
       "      <th>Mean Accuracy</th>\n",
       "      <th>Std Accuracy</th>\n",
       "    </tr>\n",
       "  </thead>\n",
       "  <tbody>\n",
       "    <tr>\n",
       "      <th>0</th>\n",
       "      <td>Mutag</td>\n",
       "      <td>Original Graph</td>\n",
       "      <td>0.694737</td>\n",
       "      <td>0.080252</td>\n",
       "    </tr>\n",
       "    <tr>\n",
       "      <th>1</th>\n",
       "      <td>Mutag</td>\n",
       "      <td>Path extension graph</td>\n",
       "      <td>0.663158</td>\n",
       "      <td>0.073023</td>\n",
       "    </tr>\n",
       "    <tr>\n",
       "      <th>2</th>\n",
       "      <td>PROTEINS</td>\n",
       "      <td>Original Graph</td>\n",
       "      <td>0.733632</td>\n",
       "      <td>0.024273</td>\n",
       "    </tr>\n",
       "    <tr>\n",
       "      <th>3</th>\n",
       "      <td>PROTEINS</td>\n",
       "      <td>Path extension graph</td>\n",
       "      <td>0.604484</td>\n",
       "      <td>0.025248</td>\n",
       "    </tr>\n",
       "  </tbody>\n",
       "</table>\n",
       "</div>"
      ],
      "text/plain": [
       "    Dataset                 Graph  Mean Accuracy  Std Accuracy\n",
       "0     Mutag        Original Graph       0.694737      0.080252\n",
       "1     Mutag  Path extension graph       0.663158      0.073023\n",
       "2  PROTEINS        Original Graph       0.733632      0.024273\n",
       "3  PROTEINS  Path extension graph       0.604484      0.025248"
      ]
     },
     "execution_count": 62,
     "metadata": {},
     "output_type": "execute_result"
    }
   ],
   "source": [
    "pd.DataFrame(df_res,columns=[\"Dataset\",\"Graph\",\"Mean Accuracy\", \"Std Accuracy\"]).sort_values(by = [\"Dataset\",\"Graph\"])"
   ]
  },
  {
   "cell_type": "code",
   "execution_count": null,
   "metadata": {},
   "outputs": [],
   "source": []
  }
 ],
 "metadata": {
  "kernelspec": {
   "display_name": "sheaf",
   "language": "python",
   "name": "python3"
  },
  "language_info": {
   "codemirror_mode": {
    "name": "ipython",
    "version": 3
   },
   "file_extension": ".py",
   "mimetype": "text/x-python",
   "name": "python",
   "nbconvert_exporter": "python",
   "pygments_lexer": "ipython3",
   "version": "3.9.18"
  }
 },
 "nbformat": 4,
 "nbformat_minor": 2
}
