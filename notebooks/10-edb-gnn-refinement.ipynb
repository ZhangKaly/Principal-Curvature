{
 "cells": [
  {
   "cell_type": "code",
   "execution_count": 2,
   "metadata": {},
   "outputs": [],
   "source": [
    "import torch\n",
    "import torch_geometric\n",
    "from torch_geometric.datasets import TUDataset, FakeDataset\n",
    "from torch_geometric.data import DataLoader"
   ]
  },
  {
   "cell_type": "markdown",
   "metadata": {},
   "source": [
    "### Generating example dataset"
   ]
  },
  {
   "cell_type": "code",
   "execution_count": 3,
   "metadata": {},
   "outputs": [],
   "source": [
    "ds = TUDataset(root = \"../data/\", name = \"MUTAG\")\n",
    "ds = FakeDataset(num_graphs = 100, avg_num_nodes = 10, avg_degree=2)"
   ]
  },
  {
   "cell_type": "code",
   "execution_count": 4,
   "metadata": {},
   "outputs": [
    {
     "name": "stderr",
     "output_type": "stream",
     "text": [
      "/Users/edebrouwer/miniconda3/envs/sheaf/lib/python3.9/site-packages/torch_geometric/deprecation.py:22: UserWarning: 'data.DataLoader' is deprecated, use 'loader.DataLoader' instead\n",
      "  warnings.warn(out)\n"
     ]
    }
   ],
   "source": [
    "dl = DataLoader(ds, batch_size = 32, shuffle = True)"
   ]
  },
  {
   "cell_type": "code",
   "execution_count": 5,
   "metadata": {},
   "outputs": [],
   "source": [
    "for i,b in enumerate(dl):\n",
    "    break"
   ]
  },
  {
   "cell_type": "code",
   "execution_count": 30,
   "metadata": {},
   "outputs": [
    {
     "data": {
      "text/plain": [
       "DataBatch(y=[32], edge_index=[2, 960], x=[314, 64], batch=[314], ptr=[33])"
      ]
     },
     "execution_count": 30,
     "metadata": {},
     "output_type": "execute_result"
    }
   ],
   "source": [
    "b"
   ]
  },
  {
   "cell_type": "markdown",
   "metadata": {},
   "source": [
    "### Model generation"
   ]
  },
  {
   "cell_type": "markdown",
   "metadata": {},
   "source": [
    "#### Pseudo-code\n",
    "\n",
    "- Graph rewiring"
   ]
  },
  {
   "cell_type": "code",
   "execution_count": 6,
   "metadata": {},
   "outputs": [
    {
     "data": {
      "image/png": "[encoded data removed]",
      "text/plain": [
       "<Figure size 640x480 with 1 Axes>"
      ]
     },
     "metadata": {},
     "output_type": "display_data"
    }
   ],
   "source": [
    "import networkx as nx\n",
    "\n",
    "g = torch_geometric.utils.to_networkx(b[0], to_undirected=True)\n",
    "nx.draw(g, with_labels=True)"
   ]
  },
  {
   "cell_type": "code",
   "execution_count": 93,
   "metadata": {},
   "outputs": [],
   "source": [
    "# Getting all the paths of length k\n",
    "\n",
    "def get_paths_length_k(A, k):\n",
    "    \"\"\"\n",
    "    Returns the paths of length k in the graph A\n",
    "    Shape : Num paths x k\n",
    "    \"\"\"\n",
    "    last_A = A.clone()\n",
    "    k_ = 1\n",
    "    while k > k_:\n",
    "        k_ +=1\n",
    "        if k_ == 2:\n",
    "            last_A = torch.einsum('ij,jk->ijk', A, A)\n",
    "        elif k_==3:\n",
    "            last_A = torch.einsum('ijk,kl->ijkl', last_A, A)\n",
    "        elif k_ == 4:\n",
    "            last_A = torch.einsum('ijkl,lm->ijklm', last_A, A)\n",
    "\n",
    "    paths = torch.unique(torch.stack(torch.where(last_A!=0),0).T.sort(1)[0],dim=0) \n",
    "    return paths"
   ]
  },
  {
   "cell_type": "code",
   "execution_count": 94,
   "metadata": {},
   "outputs": [],
   "source": [
    "# Create new node for each different path and link them to the original nodes\n",
    "def update_graph(paths, nodes_dict, edge_index):\n",
    "    num_nodes = len(nodes_dict)\n",
    "    for path in paths:\n",
    "        nodes_dict[num_nodes] = path.tolist()\n",
    "        \n",
    "        source_nodes = torch.Tensor([num_nodes]).repeat(3).long()\n",
    "        new_edges_0 = torch.stack([source_nodes, path],0)\n",
    "        new_edges_1 = torch.stack([path, source_nodes],0)\n",
    "        new_edges = torch.cat([new_edges_0, new_edges_1],1)\n",
    "        edge_index = torch.cat([edge_index, new_edges],1)\n",
    "        num_nodes += 1\n",
    "    return edge_index, nodes_dict"
   ]
  },
  {
   "cell_type": "code",
   "execution_count": 99,
   "metadata": {},
   "outputs": [],
   "source": [
    "# Example\n",
    "\n",
    "edge_index = b[0].edge_index # Getting the edge index of the graph\n",
    "\n",
    "A = torch_geometric.utils.to_dense_adj(b[0].edge_index)[0] # Creates adjacency matrix\n",
    "\n",
    "nodes_dict = {i: [i] for i in range(A.shape[0])} # Dictionary to keep track of the nodes\n",
    "\n",
    "paths = get_paths_length_k(A, 2) # Get all the paths of length 2\n",
    "edge_index, nodes_dict = update_graph(paths, nodes_dict, edge_index) # Append these paths to the graph"
   ]
  },
  {
   "cell_type": "markdown",
   "metadata": {},
   "source": [
    "# WIP"
   ]
  },
  {
   "cell_type": "code",
   "execution_count": null,
   "metadata": {},
   "outputs": [],
   "source": []
  },
  {
   "cell_type": "code",
   "execution_count": 73,
   "metadata": {},
   "outputs": [],
   "source": [
    "A2 = torch.einsum('ij,jk->ijk', A, A)\n",
    "A3 = torch.einsum('ijk,kl->ijkl', A2, A)\n",
    "A4 = torch.einsum('ijkl,lm->ijklm', A3, A)\n",
    "A5 = torch.einsum('ijklm,mn->ijklmn', A4, A)"
   ]
  },
  {
   "cell_type": "code",
   "execution_count": 88,
   "metadata": {},
   "outputs": [
    {
     "data": {
      "text/plain": [
       "torch.Size([65, 3])"
      ]
     },
     "execution_count": 88,
     "metadata": {},
     "output_type": "execute_result"
    }
   ],
   "source": [
    ".shape"
   ]
  },
  {
   "cell_type": "code",
   "execution_count": 77,
   "metadata": {},
   "outputs": [
    {
     "data": {
      "text/plain": [
       "tensor(22.)"
      ]
     },
     "execution_count": 77,
     "metadata": {},
     "output_type": "execute_result"
    }
   ],
   "source": [
    "A.sum()"
   ]
  },
  {
   "cell_type": "code",
   "execution_count": 74,
   "metadata": {},
   "outputs": [
    {
     "data": {
      "text/plain": [
       "tensor(0.)"
      ]
     },
     "execution_count": 74,
     "metadata": {},
     "output_type": "execute_result"
    }
   ],
   "source": []
  },
  {
   "cell_type": "code",
   "execution_count": 19,
   "metadata": {},
   "outputs": [],
   "source": [
    "from torch_geometric.nn import MessagePassing"
   ]
  },
  {
   "cell_type": "code",
   "execution_count": null,
   "metadata": {},
   "outputs": [],
   "source": [
    "class AggGraphClass(MessagePassing):\n",
    "    def __init__(self, in_channels, out_channels):\n",
    "        super().__init__(aggr='add')  # \"Add\" aggregation (Step 5).\n",
    "        self.lin = nn.Linear(in_channels, out_channels, bias=False)\n",
    "        self.bias = nn.Parameter(torch.empty(out_channels))\n",
    "\n",
    "        self.node_emb = nn.Sequential(nn.Linear(out_channels,out_channels),nn.ReLU())\n",
    "\n",
    "        self.reset_parameters()\n",
    "\n",
    "    def reset_parameters(self):\n",
    "        self.lin.reset_parameters()\n",
    "        self.bias.data.zero_()\n",
    "\n",
    "    def forward(self, x, edge_index):\n",
    "        # x has shape [N, in_channels]\n",
    "        # edge_index has shape [2, E]\n",
    "\n",
    "        ## Step 1: Add self-loops to the adjacency matrix.\n",
    "        #edge_index, _ = add_self_loops(edge_index, num_nodes=x.size(0))\n",
    "\n",
    "        # Step 2: Linearly transform node feature matrix.\n",
    "        x = self.lin(x)\n",
    "\n",
    "        # Step 3: Compute normalization.\n",
    "        row, col = edge_index\n",
    "        deg = degree(col, x.size(0), dtype=x.dtype)\n",
    "        deg_inv_sqrt = deg.pow(-0.5)\n",
    "        deg_inv_sqrt[deg_inv_sqrt == float('inf')] = 0\n",
    "        norm = deg_inv_sqrt[row] * deg_inv_sqrt[col]\n",
    "\n",
    "        # Step 4-5: Start propagating messages.\n",
    "        out = self.propagate(edge_index, x=x)\n",
    "\n",
    "        # Step 6: Apply a final bias vector.\n",
    "        out += self.bias\n",
    "\n",
    "        return out\n",
    "\n",
    "    def message(self, x_j):\n",
    "        # x_j has shape [E, out_channels]\n",
    "\n",
    "        # Step 4: Normalize node features.\n",
    "        return self.node_emb(x_j)\n",
    "    \n",
    "    def update(self, aggr_out):\n",
    "        # aggr_out has shape [N, out_channels]\n",
    "\n",
    "        # Step 5: Return new node embeddings.\n",
    "        return aggr_out"
   ]
  }
 ],
 "metadata": {
  "kernelspec": {
   "display_name": "sheaf",
   "language": "python",
   "name": "python3"
  },
  "language_info": {
   "codemirror_mode": {
    "name": "ipython",
    "version": 3
   },
   "file_extension": ".py",
   "mimetype": "text/x-python",
   "name": "python",
   "nbconvert_exporter": "python",
   "pygments_lexer": "ipython3",
   "version": "3.9.18"
  }
 },
 "nbformat": 4,
 "nbformat_minor": 2
}
