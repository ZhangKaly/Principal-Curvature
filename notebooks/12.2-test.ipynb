{
 "cells": [
  {
   "cell_type": "code",
   "execution_count": 1,
   "metadata": {},
   "outputs": [],
   "source": [
    "import sys\n",
    "sys.path.append('../')\n",
    "# import networkx as nx\n",
    "import matplotlib.pyplot as plt\n",
    "import numpy as np\n",
    "# import torch\n",
    "import pandas as pd\n",
    "from sklearn.neighbors import NearestNeighbors\n",
    "from sklearn.metrics import r2_score\n",
    "from tqdm import tqdm\n",
    "import pandas as pd\n",
    "# import skdim\n",
    "from src.comparison.point_clouds import generate_point_cloud\n",
    "from src.comparison.curvature import compute_sectional_curvature\n",
    "from src.comparison.abby_curvature import scalar_curvature_est\n",
    "from src.comparison.diffusion_curvature import diffusion_curvature\n",
    "from src.comparison.experiments import do_experiment"
   ]
  },
  {
   "cell_type": "code",
   "execution_count": 2,
   "metadata": {},
   "outputs": [
    {
     "name": "stderr",
     "output_type": "stream",
     "text": [
      "  0%|          | 0/5000 [00:00<?, ?it/s]"
     ]
    },
    {
     "name": "stdout",
     "output_type": "stream",
     "text": [
      "> \u001b[0;32m/gpfs/gibbs/pi/krishnaswamy_smita/xingzhi/sheaf-neural-network/src/comparison/curvature.py\u001b[0m(68)\u001b[0;36mcompute_sectional_curvature\u001b[0;34m()\u001b[0m\n",
      "\u001b[0;32m     66 \u001b[0;31m\u001b[0;34m\u001b[0m\u001b[0m\n",
      "\u001b[0m\u001b[0;32m     67 \u001b[0;31m    \u001b[0;32mimport\u001b[0m \u001b[0mpdb\u001b[0m\u001b[0;34m;\u001b[0m \u001b[0mpdb\u001b[0m\u001b[0;34m.\u001b[0m\u001b[0mset_trace\u001b[0m\u001b[0;34m(\u001b[0m\u001b[0;34m)\u001b[0m\u001b[0;34m\u001b[0m\u001b[0;34m\u001b[0m\u001b[0m\n",
      "\u001b[0m\u001b[0;32m---> 68 \u001b[0;31m    \u001b[0;32mif\u001b[0m \u001b[0muse_cross\u001b[0m\u001b[0;34m:\u001b[0m\u001b[0;34m\u001b[0m\u001b[0;34m\u001b[0m\u001b[0m\n",
      "\u001b[0m\u001b[0;32m     69 \u001b[0;31m        \u001b[0mO2\u001b[0m \u001b[0;34m=\u001b[0m \u001b[0mnp\u001b[0m\u001b[0;34m.\u001b[0m\u001b[0mcross\u001b[0m\u001b[0;34m(\u001b[0m\u001b[0mO\u001b[0m\u001b[0;34m[\u001b[0m\u001b[0;36m0\u001b[0m\u001b[0;34m]\u001b[0m\u001b[0;34m,\u001b[0m \u001b[0mO\u001b[0m\u001b[0;34m[\u001b[0m\u001b[0;36m1\u001b[0m\u001b[0;34m]\u001b[0m\u001b[0;34m)\u001b[0m\u001b[0;34m\u001b[0m\u001b[0;34m\u001b[0m\u001b[0m\n",
      "\u001b[0m\u001b[0;32m     70 \u001b[0;31m    \u001b[0;32melse\u001b[0m\u001b[0;34m:\u001b[0m\u001b[0;34m\u001b[0m\u001b[0;34m\u001b[0m\u001b[0m\n",
      "\u001b[0m\n",
      "array([[ 0.82122341,  0.48775678, -0.29611725],\n",
      "       [ 0.16317462, -0.69802421, -0.69723472],\n",
      "       [ 0.54677797, -0.52426665,  0.65282335]])\n",
      "*** NameError: name 'tau_nbhd' is not defined\n",
      "array([[-0.49754241,  0.50042606,  0.232372  ],\n",
      "       [-0.4834744 ,  0.49007445,  0.20866759],\n",
      "       [-0.5251518 ,  0.48727295,  0.24534105],\n",
      "       ...,\n",
      "       [-0.73371054, -0.30223348, -0.31303609],\n",
      "       [-1.30309824,  0.11349034, -0.21387357],\n",
      "       [-1.36213516,  0.10779487, -0.07987872]])\n",
      "array([[-0.49754241,  0.50042606,  0.232372  ],\n",
      "       [-0.4834744 ,  0.49007445,  0.20866759],\n",
      "       [-0.5251518 ,  0.48727295,  0.24534105],\n",
      "       ...,\n",
      "       [-0.73371054, -0.30223348, -0.31303609],\n",
      "       [-1.30309824,  0.11349034, -0.21387357],\n",
      "       [-1.36213516,  0.10779487, -0.07987872]])\n",
      "array([[-0.49754241,  0.50042606,  0.232372  ],\n",
      "       [-0.4834744 ,  0.49007445,  0.20866759],\n",
      "       [-0.5251518 ,  0.48727295,  0.24534105],\n",
      "       ...,\n",
      "       [-0.73371054, -0.30223348, -0.31303609],\n",
      "       [-1.30309824,  0.11349034, -0.21387357],\n",
      "       [-1.36213516,  0.10779487, -0.07987872]])\n",
      "array([[-0.49754241,  0.50042606,  0.232372  ],\n",
      "       [-0.4834744 ,  0.49007445,  0.20866759],\n",
      "       [-0.5251518 ,  0.48727295,  0.24534105],\n",
      "       ...,\n",
      "       [-0.73371054, -0.30223348, -0.31303609],\n",
      "       [-1.30309824,  0.11349034, -0.21387357],\n",
      "       [-1.36213516,  0.10779487, -0.07987872]])\n",
      "array([[-0.49754241,  0.50042606,  0.232372  ],\n",
      "       [-0.4834744 ,  0.49007445,  0.20866759],\n",
      "       [-0.5251518 ,  0.48727295,  0.24534105],\n",
      "       ...,\n",
      "       [-0.73371054, -0.30223348, -0.31303609],\n",
      "       [-1.30309824,  0.11349034, -0.21387357],\n",
      "       [-1.36213516,  0.10779487, -0.07987872]])\n",
      "1758\n",
      "(1758, 3)\n"
     ]
    },
    {
     "name": "stderr",
     "output_type": "stream",
     "text": [
      "  0%|          | 0/5000 [01:15<?, ?it/s]\n"
     ]
    }
   ],
   "source": [
    "do_experiment('torus', True, 'plots/torus', noise=0., max_min_num=120, use_cross=True)"
   ]
  },
  {
   "cell_type": "code",
   "execution_count": 3,
   "metadata": {},
   "outputs": [],
   "source": [
    "ti = np.random.rand(10,3)"
   ]
  },
  {
   "cell_type": "code",
   "execution_count": 4,
   "metadata": {},
   "outputs": [
    {
     "data": {
      "text/plain": [
       "array([[0.38959525, 0.01510745, 0.89827307],\n",
       "       [0.527044  , 0.84980226, 0.0599047 ],\n",
       "       [0.22745811, 0.25938   , 0.38669149],\n",
       "       [0.80286637, 0.38655787, 0.20465353],\n",
       "       [0.06499026, 0.07949175, 0.76004721],\n",
       "       [0.44480299, 0.72618112, 0.68228712],\n",
       "       [0.13536246, 0.14288793, 0.75534202],\n",
       "       [0.72126829, 0.37803077, 0.07742226],\n",
       "       [0.01209802, 0.28815695, 0.00922227],\n",
       "       [0.23007262, 0.41950074, 0.12141577]])"
      ]
     },
     "execution_count": 4,
     "metadata": {},
     "output_type": "execute_result"
    }
   ],
   "source": [
    "ti"
   ]
  },
  {
   "cell_type": "code",
   "execution_count": 14,
   "metadata": {},
   "outputs": [
    {
     "ename": "AxisError",
     "evalue": "axis 1 is out of bounds for array of dimension 0",
     "output_type": "error",
     "traceback": [
      "\u001b[0;31m---------------------------------------------------------------------------\u001b[0m",
      "\u001b[0;31mAxisError\u001b[0m                                 Traceback (most recent call last)",
      "Cell \u001b[0;32mIn[14], line 1\u001b[0m\n\u001b[0;32m----> 1\u001b[0m \u001b[43mnp\u001b[49m\u001b[38;5;241;43m.\u001b[39;49m\u001b[43msquare\u001b[49m\u001b[43m(\u001b[49m\u001b[43mnp\u001b[49m\u001b[38;5;241;43m.\u001b[39;49m\u001b[43mlinalg\u001b[49m\u001b[38;5;241;43m.\u001b[39;49m\u001b[43mnorm\u001b[49m\u001b[43m(\u001b[49m\u001b[43mti\u001b[49m\u001b[43m)\u001b[49m\u001b[43m)\u001b[49m\u001b[38;5;241;43m.\u001b[39;49m\u001b[43msum\u001b[49m\u001b[43m(\u001b[49m\u001b[43maxis\u001b[49m\u001b[38;5;241;43m=\u001b[39;49m\u001b[38;5;241;43m1\u001b[39;49m\u001b[43m)\u001b[49m\n",
      "File \u001b[0;32m/gpfs/gibbs/pi/krishnaswamy_smita/xingzhi/.conda_envs/mioflow/lib/python3.10/site-packages/numpy/core/_methods.py:49\u001b[0m, in \u001b[0;36m_sum\u001b[0;34m(a, axis, dtype, out, keepdims, initial, where)\u001b[0m\n\u001b[1;32m     47\u001b[0m \u001b[38;5;28;01mdef\u001b[39;00m \u001b[38;5;21m_sum\u001b[39m(a, axis\u001b[38;5;241m=\u001b[39m\u001b[38;5;28;01mNone\u001b[39;00m, dtype\u001b[38;5;241m=\u001b[39m\u001b[38;5;28;01mNone\u001b[39;00m, out\u001b[38;5;241m=\u001b[39m\u001b[38;5;28;01mNone\u001b[39;00m, keepdims\u001b[38;5;241m=\u001b[39m\u001b[38;5;28;01mFalse\u001b[39;00m,\n\u001b[1;32m     48\u001b[0m          initial\u001b[38;5;241m=\u001b[39m_NoValue, where\u001b[38;5;241m=\u001b[39m\u001b[38;5;28;01mTrue\u001b[39;00m):\n\u001b[0;32m---> 49\u001b[0m     \u001b[38;5;28;01mreturn\u001b[39;00m \u001b[43mumr_sum\u001b[49m\u001b[43m(\u001b[49m\u001b[43ma\u001b[49m\u001b[43m,\u001b[49m\u001b[43m \u001b[49m\u001b[43maxis\u001b[49m\u001b[43m,\u001b[49m\u001b[43m \u001b[49m\u001b[43mdtype\u001b[49m\u001b[43m,\u001b[49m\u001b[43m \u001b[49m\u001b[43mout\u001b[49m\u001b[43m,\u001b[49m\u001b[43m \u001b[49m\u001b[43mkeepdims\u001b[49m\u001b[43m,\u001b[49m\u001b[43m \u001b[49m\u001b[43minitial\u001b[49m\u001b[43m,\u001b[49m\u001b[43m \u001b[49m\u001b[43mwhere\u001b[49m\u001b[43m)\u001b[49m\n",
      "\u001b[0;31mAxisError\u001b[0m: axis 1 is out of bounds for array of dimension 0"
     ]
    }
   ],
   "source": [
    "np.square(np.linalg.norm(ti[2]))"
   ]
  },
  {
   "cell_type": "code",
   "execution_count": 12,
   "metadata": {},
   "outputs": [
    {
     "data": {
      "text/plain": [
       "0.2685454859668309"
      ]
     },
     "execution_count": 12,
     "metadata": {},
     "output_type": "execute_result"
    }
   ],
   "source": [
    "np.square(ti[1]).sum()"
   ]
  },
  {
   "cell_type": "code",
   "execution_count": 15,
   "metadata": {},
   "outputs": [
    {
     "data": {
      "text/plain": [
       "array([0.95890719, 1.00352783, 0.26854549, 0.83590447, 0.58821443,\n",
       "       1.19070444, 0.60928152, 0.66912942, 0.08326584, 0.24365607])"
      ]
     },
     "execution_count": 15,
     "metadata": {},
     "output_type": "execute_result"
    }
   ],
   "source": [
    "np.square(ti).sum(axis=1)"
   ]
  },
  {
   "cell_type": "code",
   "execution_count": 25,
   "metadata": {},
   "outputs": [],
   "source": [
    "O2 = np.random.rand(3)\n",
    "tau_nbrs = np.random.rand(10,3)\n",
    "ti = tau_nbrs[1:] - tau_nbrs[0]\n",
    "norms = np.square(ti).sum(axis=1)\n",
    "tensor_all2 = 2 * (O2 * ti).sum(axis=1) / norms\n",
    "\n",
    "tensor_all = []\n",
    "for i in np.arange(1, len(tau_nbrs)):\n",
    "    tensor = 2 * (sum(O2 *  (tau_nbrs[i] - tau_nbrs[0])))/np.linalg.norm(tau_nbrs[i] - tau_nbrs[0])**2\n",
    "    tensor_all.append(tensor)\n",
    "    "
   ]
  },
  {
   "cell_type": "code",
   "execution_count": 26,
   "metadata": {},
   "outputs": [
    {
     "data": {
      "text/plain": [
       "array([3.57381037, 0.33359788, 0.07753854, 2.48881756, 0.85425387,\n",
       "       3.98839383, 2.33813761, 1.33899509, 1.33942672])"
      ]
     },
     "execution_count": 26,
     "metadata": {},
     "output_type": "execute_result"
    }
   ],
   "source": [
    "tensor_all2"
   ]
  },
  {
   "cell_type": "code",
   "execution_count": 27,
   "metadata": {},
   "outputs": [
    {
     "data": {
      "text/plain": [
       "[3.573810374419844,\n",
       " 0.3335978771539343,\n",
       " 0.07753854386391718,\n",
       " 2.4888175601073894,\n",
       " 0.8542538737798661,\n",
       " 3.9883938266685477,\n",
       " 2.3381376111117516,\n",
       " 1.3389950915746667,\n",
       " 1.3394267213211077]"
      ]
     },
     "execution_count": 27,
     "metadata": {},
     "output_type": "execute_result"
    }
   ],
   "source": [
    "tensor_all"
   ]
  },
  {
   "cell_type": "code",
   "execution_count": 21,
   "metadata": {},
   "outputs": [
    {
     "data": {
      "text/plain": [
       "array([0.        , 0.45935563, 0.66268585, 0.81223824, 0.87073795,\n",
       "       0.34534742, 1.44425899, 0.25037212, 0.35415256, 0.30480286])"
      ]
     },
     "execution_count": 21,
     "metadata": {},
     "output_type": "execute_result"
    }
   ],
   "source": [
    "norms"
   ]
  },
  {
   "cell_type": "code",
   "execution_count": null,
   "metadata": {},
   "outputs": [],
   "source": []
  }
 ],
 "metadata": {
  "kernelspec": {
   "display_name": "mioflow",
   "language": "python",
   "name": "python3"
  },
  "language_info": {
   "codemirror_mode": {
    "name": "ipython",
    "version": 3
   },
   "file_extension": ".py",
   "mimetype": "text/x-python",
   "name": "python",
   "nbconvert_exporter": "python",
   "pygments_lexer": "ipython3",
   "version": "3.10.13"
  }
 },
 "nbformat": 4,
 "nbformat_minor": 2
}
