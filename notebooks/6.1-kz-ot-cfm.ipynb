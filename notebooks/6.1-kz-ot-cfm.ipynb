{
 "cells": [
  {
   "cell_type": "code",
   "execution_count": 1,
   "metadata": {},
   "outputs": [
    {
     "name": "stderr",
     "output_type": "stream",
     "text": [
      "2023-09-26 08:36:15.039373: I tensorflow/core/platform/cpu_feature_guard.cc:193] This TensorFlow binary is optimized with oneAPI Deep Neural Network Library (oneDNN) to use the following CPU instructions in performance-critical operations:  AVX2 AVX512F AVX512_VNNI FMA\n",
      "To enable them in other operations, rebuild TensorFlow with the appropriate compiler flags.\n",
      "2023-09-26 08:36:16.622853: I tensorflow/core/util/port.cc:104] oneDNN custom operations are on. You may see slightly different numerical results due to floating-point round-off errors from different computation orders. To turn them off, set the environment variable `TF_ENABLE_ONEDNN_OPTS=0`.\n",
      "2023-09-26 08:36:19.126542: W tensorflow/compiler/xla/stream_executor/platform/default/dso_loader.cc:64] Could not load dynamic library 'libnvinfer.so.7'; dlerror: libnvinfer.so.7: cannot open shared object file: No such file or directory\n",
      "2023-09-26 08:36:19.127451: W tensorflow/compiler/xla/stream_executor/platform/default/dso_loader.cc:64] Could not load dynamic library 'libnvinfer_plugin.so.7'; dlerror: libnvinfer_plugin.so.7: cannot open shared object file: No such file or directory\n",
      "2023-09-26 08:36:19.127464: W tensorflow/compiler/tf2tensorrt/utils/py_utils.cc:38] TF-TRT Warning: Cannot dlopen some TensorRT libraries. If you would like to use Nvidia GPU with TensorRT, please make sure the missing libraries mentioned above are installed properly.\n"
     ]
    }
   ],
   "source": [
    "import matplotlib.pyplot as plt\n",
    "import numpy as np\n",
    "import ot as pot\n",
    "import torch\n",
    "from torchdyn.datasets import *\n",
    "from numpy.linalg import norm "
   ]
  },
  {
   "cell_type": "code",
   "execution_count": 2,
   "metadata": {},
   "outputs": [],
   "source": [
    "def generate_sphere_point_cloud(num_points, radius=1):\n",
    "    phi = torch.rand(num_points) * 2 * math.pi\n",
    "    theta = torch.acos(2 * torch.rand(num_points) - 1)\n",
    "\n",
    "    x = radius * torch.sin(theta) * torch.cos(phi)\n",
    "    y = radius * torch.sin(theta) * torch.sin(phi)\n",
    "    z = radius * torch.cos(theta)\n",
    "\n",
    "    return torch.stack((x, y, z), dim=1)\n",
    "\n",
    "# Parameters\n",
    "n_samples = 5000\n",
    "\n",
    "# Generate a sphere point cloud with 5000 points and radius 1\n",
    "sphere_cloud = generate_sphere_point_cloud(n_samples, radius=1)"
   ]
  },
  {
   "cell_type": "code",
   "execution_count": 3,
   "metadata": {},
   "outputs": [
    {
     "data": {
      "image/png": "[encoded data removed]",
      "text/plain": [
       "<Figure size 432x288 with 1 Axes>"
      ]
     },
     "metadata": {
      "needs_background": "light"
     },
     "output_type": "display_data"
    }
   ],
   "source": [
    "# Visualize the point cloud\n",
    "fig = plt.figure()\n",
    "ax = fig.add_subplot(111, projection='3d')\n",
    "ax.scatter(sphere_cloud[:, 0], sphere_cloud[:, 1], sphere_cloud[:, 2], s=5)\n",
    "ax.set_aspect('equal')\n",
    "ax.set_title(\"Generated Sphere Point Cloud\")\n",
    "ax.view_init(90, 40)\n",
    "plt.show()"
   ]
  },
  {
   "cell_type": "code",
   "execution_count": 4,
   "metadata": {},
   "outputs": [],
   "source": [
    "import math\n",
    "\n",
    "def eight_normal_sample(n, dim, scale=1, var=1):\n",
    "    m = torch.distributions.multivariate_normal.MultivariateNormal(\n",
    "        torch.zeros(dim), math.sqrt(var) * torch.eye(dim)\n",
    "    )\n",
    "    centers = [\n",
    "        (1, 0),\n",
    "        (-1, 0),\n",
    "        (0, 1),\n",
    "        (0, -1),\n",
    "        (1.0 / np.sqrt(2), 1.0 / np.sqrt(2)),\n",
    "        (1.0 / np.sqrt(2), -1.0 / np.sqrt(2)),\n",
    "        (-1.0 / np.sqrt(2), 1.0 / np.sqrt(2)),\n",
    "        (-1.0 / np.sqrt(2), -1.0 / np.sqrt(2)),\n",
    "    ]\n",
    "    centers = torch.tensor(centers) * scale\n",
    "    noise = m.sample((n,))\n",
    "    multi = torch.multinomial(torch.ones(8), n, replacement=True)\n",
    "    data = []\n",
    "    for i in range(n):\n",
    "        data.append(centers[multi[i]] + noise[i])\n",
    "    data = torch.stack(data)\n",
    "    return data\n",
    "\n",
    "def normal_sample(n, dim):\n",
    "    m = torch.distributions.multivariate_normal.MultivariateNormal(\n",
    "        torch.zeros(dim), torch.eye(dim)\n",
    "    )\n",
    "    return m.sample_n(n)\n",
    "\n",
    "class MLP(torch.nn.Module):\n",
    "    def __init__(self, dim, w=512, time_varying=False):\n",
    "        super().__init__()\n",
    "        self.time_varying = time_varying\n",
    "        self.net = torch.nn.Sequential(\n",
    "            torch.nn.Linear(dim + (1 if time_varying else 0), w),\n",
    "            torch.nn.LeakyReLU(),\n",
    "            torch.nn.Linear(w, w),\n",
    "            torch.nn.LeakyReLU(),\n",
    "            torch.nn.Linear(w, w),\n",
    "            torch.nn.LeakyReLU(),\n",
    "            torch.nn.Linear(w, w),\n",
    "            torch.nn.LeakyReLU(),\n",
    "            torch.nn.Linear(w, dim),\n",
    "        )\n",
    "\n",
    "    def forward(self, x):\n",
    "        return self.net(x)\n"
   ]
  },
  {
   "cell_type": "code",
   "execution_count": 5,
   "metadata": {},
   "outputs": [],
   "source": [
    "import torchdyn\n",
    "from torchdyn.core import NeuralODE\n",
    "\n",
    "class CNF(torch.nn.Module):\n",
    "    def __init__(self, net, trace_estimator=None, noise_dist=None):\n",
    "        super().__init__()\n",
    "        self.net = net\n",
    "        self.trace_estimator = trace_estimator if trace_estimator is not None else autograd_trace\n",
    "        self.noise_dist, self.noise = noise_dist, None\n",
    "\n",
    "    def forward(self, t, x):\n",
    "        with torch.set_grad_enabled(True):\n",
    "            x_in = x[:, 1:].requires_grad_(\n",
    "                True\n",
    "            )  # first dimension reserved to divergence propagation\n",
    "            # the neural network will handle the data-dynamics here\n",
    "            x_out = self.net(torch.cat([x_in, t * torch.ones(x.shape[0], 1)], dim=-1))\n",
    "            trJ = self.trace_estimator(x_out, x_in, noise=self.noise)\n",
    "        return (\n",
    "            torch.cat([-trJ[:, None], x_out], 1) + 0 * x\n",
    "        )  # `+ 0*x` has the only purpose of connecting x[:, 0] to autograd graph\n",
    "\n",
    "    def backward(self, t, x):\n",
    "        with torch.set_grad_enabled(True):\n",
    "            x_in = x[:, 1:].requires_grad_(\n",
    "                True\n",
    "            )  # first dimension reserved to divergence propagation\n",
    "            # the neural network will handle the data-dynamics here\n",
    "            x_out = -self.net(torch.cat([x_in, t * torch.ones(x.shape[0], 1)], dim=-1))\n",
    "            trJ = self.trace_estimator(x_out, x_in, noise=self.noise)\n",
    "        return (\n",
    "            torch.cat([-trJ[:, None], x_out], 1) + 0 * x\n",
    "        )  # `+ 0*x` has the only purpose of connecting x[:, 0] to autograd graph"
   ]
  },
  {
   "cell_type": "code",
   "execution_count": 6,
   "metadata": {},
   "outputs": [
    {
     "data": {
      "text/plain": [
       "tensor([ 0.6536,  0.3836, -0.6525])"
      ]
     },
     "execution_count": 6,
     "metadata": {},
     "output_type": "execute_result"
    }
   ],
   "source": [
    "x_0 = sphere_cloud[0]\n",
    "x_1 = sphere_cloud[1]\n",
    "x_0"
   ]
  },
  {
   "cell_type": "code",
   "execution_count": 45,
   "metadata": {},
   "outputs": [
    {
     "ename": "RuntimeError",
     "evalue": "The size of tensor a (3) must match the size of tensor b (256) at non-singleton dimension 1",
     "output_type": "error",
     "traceback": [
      "\u001b[0;31m---------------------------------------------------------------------------\u001b[0m",
      "\u001b[0;31mRuntimeError\u001b[0m                              Traceback (most recent call last)",
      "Input \u001b[0;32mIn [45]\u001b[0m, in \u001b[0;36m<cell line: 14>\u001b[0;34m()\u001b[0m\n\u001b[1;32m     18\u001b[0m x0 \u001b[38;5;241m=\u001b[39m x_0\u001b[38;5;241m.\u001b[39mrepeat((batch_size, \u001b[38;5;241m1\u001b[39m)) \n\u001b[1;32m     19\u001b[0m x1 \u001b[38;5;241m=\u001b[39m x_1\u001b[38;5;241m.\u001b[39mrepeat((batch_size, \u001b[38;5;241m1\u001b[39m)) \u001b[38;5;241m+\u001b[39m normal_sample(batch_size, dim)\n\u001b[0;32m---> 20\u001b[0m xt \u001b[38;5;241m=\u001b[39m \u001b[43m(\u001b[49m\u001b[43mx1\u001b[49m\u001b[43m \u001b[49m\u001b[38;5;241;43m-\u001b[39;49m\u001b[43m \u001b[49m\u001b[43mx0\u001b[49m\u001b[43m)\u001b[49m\u001b[43m \u001b[49m\u001b[38;5;241;43m*\u001b[39;49m\u001b[43m \u001b[49m\u001b[43mt\u001b[49m\n\u001b[1;32m     22\u001b[0m \u001b[38;5;66;03m#xt = x_init \u001b[39;00m\n\u001b[1;32m     23\u001b[0m \u001b[38;5;250m\u001b[39m\u001b[38;5;124;03m\"\"\"\u001b[39;00m\n\u001b[1;32m     24\u001b[0m \u001b[38;5;124;03m# sample some random times\u001b[39;00m\n\u001b[1;32m     25\u001b[0m \u001b[38;5;124;03ma, b = pot.unif(x0.size()[0]), pot.unif(x1.size()[0])\u001b[39;00m\n\u001b[0;32m   (...)\u001b[0m\n\u001b[1;32m     34\u001b[0m \u001b[38;5;124;03mi, j = np.divmod(choices, pi.shape[1])\u001b[39;00m\n\u001b[1;32m     35\u001b[0m \u001b[38;5;124;03m\"\"\"\u001b[39;00m\n",
      "\u001b[0;31mRuntimeError\u001b[0m: The size of tensor a (3) must match the size of tensor b (256) at non-singleton dimension 1"
     ]
    }
   ],
   "source": [
    "import time\n",
    "\n",
    "# First loss\n",
    "sigma_min = 0.05\n",
    "dim = 3\n",
    "model = MLP(dim=dim, time_varying=True)\n",
    "\n",
    "\n",
    "\n",
    "batch_size = 256\n",
    "optimizer = torch.optim.Adam(model.parameters())\n",
    "\n",
    "start = time.time()\n",
    "for k in range(1000):\n",
    "    optimizer.zero_grad()\n",
    "    #t = torch.linspace(0, 1, steps = batch_size)\n",
    "    #i = torch.randint(2, batch_size, (1,))\n",
    "    t = torch.rand(1)\n",
    "    x0 = x_0.repeat((batch_size, 1)) \n",
    "    x1 = x_1.repeat((batch_size, 1)) + normal_sample(batch_size, dim)\n",
    "    xt = (x1 - x0) * t\n",
    "    \n",
    "    #xt = x_init \n",
    "    \"\"\"\n",
    "    # sample some random times\n",
    "    a, b = pot.unif(x0.size()[0]), pot.unif(x1.size()[0])\n",
    "    M = torch.cdist(x0, x1) ** 2\n",
    "    M = M / M.max()\n",
    "    # pi = pot.sinkhorn(a, b, M.detach().cpu().numpy(), reg=0.01)\n",
    "    pi = pot.unbalanced.sinkhorn_knopp_unbalanced(a, b, M.detach().cpu().numpy(), 0.01, reg_m=10)\n",
    "    # Sample random interpolations on pi\n",
    "    p = pi.flatten()\n",
    "    p = p / p.sum()\n",
    "    choices = np.random.choice(pi.shape[0] * pi.shape[1], p=p, size=batch_size)\n",
    "    i, j = np.divmod(choices, pi.shape[1])\n",
    "    \"\"\"\n",
    "    \n",
    "    mu_t = x_0 * (1 - t) + x_1 * t\n",
    "    sigma_t = sigma_min\n",
    "    x = mu_t + sigma_t * normal_sample(batch_size, dim).float()\n",
    "    ut = x_1 - x_0\n",
    "    vt = model(torch.cat([x, t], dim=-1))\n",
    "    loss = torch.mean((vt - ut) ** 2)\n",
    "    loss.backward()\n",
    "    optimizer.step()\n",
    "    if k % 100 == 0:\n",
    "        end = time.time()\n",
    "        print(f\"{k}: loss {loss.item():0.3f} time {(end - start) / 100:0.2f}\")\n",
    "        start = end\n",
    "        continue"
   ]
  },
  {
   "cell_type": "code",
   "execution_count": 49,
   "metadata": {},
   "outputs": [
    {
     "data": {
      "text/plain": [
       "tensor([0.3263])"
      ]
     },
     "execution_count": 49,
     "metadata": {},
     "output_type": "execute_result"
    }
   ],
   "source": [
    "torch.rand(10)[torch.randint(3, 5, (1,))]"
   ]
  },
  {
   "cell_type": "code",
   "execution_count": 13,
   "metadata": {},
   "outputs": [],
   "source": [
    "torch.save(model, \"geo.pt\")"
   ]
  },
  {
   "cell_type": "code",
   "execution_count": 14,
   "metadata": {},
   "outputs": [],
   "source": [
    "model = torch.load(\"geo.pt\")"
   ]
  },
  {
   "cell_type": "code",
   "execution_count": 30,
   "metadata": {},
   "outputs": [
    {
     "data": {
      "image/png": "[encoded data removed]",
      "text/plain": [
       "<Figure size 432x432 with 1 Axes>"
      ]
     },
     "metadata": {
      "needs_background": "light"
     },
     "output_type": "display_data"
    }
   ],
   "source": [
    "class torch_wrapper(torch.nn.Module):\n",
    "    \"\"\"Wraps model to torchdyn compatible format.\"\"\"\n",
    "\n",
    "    def __init__(self, model):\n",
    "        super().__init__()\n",
    "        self.model = model\n",
    "\n",
    "    def forward(self, t, x):\n",
    "        return model(torch.cat([x, t.repeat(x.shape[0])[:, None]], 1))\n",
    "\n",
    "\n",
    "node = NeuralODE(\n",
    "    torch_wrapper(model), solver=\"dopri5\", sensitivity=\"adjoint\", atol=1e-1, rtol=1e-1\n",
    ")\n",
    "dim = 3\n",
    "full_traj = (\n",
    "    node.trajectory(\n",
    "        x_1.repeat((64, 1)).float(),\n",
    "        t_span=torch.linspace(1, 0, 100),\n",
    "    )\n",
    "    .detach()\n",
    "    .cpu()\n",
    ")\n",
    "full_traj.shape\n",
    "traj = full_traj\n",
    "n = 2000\n",
    "plt.figure(figsize=(6, 6))\n",
    "plt.scatter(traj[0, :n, 0], traj[0, :n, 1], s=10, alpha=0.8, c=\"black\")\n",
    "plt.scatter(traj[:, :n, 0], traj[:, :n, 1], s=0.2, alpha=0.2, c=\"olive\")\n",
    "plt.scatter(traj[-1, :n, 0], traj[-1, :n, 1], s=4, alpha=1, c=\"blue\")\n",
    "plt.legend([\"Prior sample z(S)\", \"Flow\", \"z(0)\"])\n",
    "plt.show()"
   ]
  },
  {
   "cell_type": "code",
   "execution_count": 31,
   "metadata": {},
   "outputs": [],
   "source": [
    "def normal_sample(n, dim):\n",
    "    m = torch.distributions.multivariate_normal.MultivariateNormal(\n",
    "        torch.zeros(dim), torch.eye(dim)\n",
    "    )\n",
    "    return m.sample_n(n)"
   ]
  },
  {
   "cell_type": "code",
   "execution_count": 35,
   "metadata": {},
   "outputs": [],
   "source": [
    "t = normal_sample(1000, 2)"
   ]
  },
  {
   "cell_type": "code",
   "execution_count": 36,
   "metadata": {},
   "outputs": [
    {
     "data": {
      "text/plain": [
       "<matplotlib.collections.PathCollection at 0x7fdcf2e3f1f0>"
      ]
     },
     "execution_count": 36,
     "metadata": {},
     "output_type": "execute_result"
    },
    {
     "data": {
      "image/png": "[encoded data removed]",
      "text/plain": [
       "<Figure size 432x288 with 1 Axes>"
      ]
     },
     "metadata": {
      "needs_background": "light"
     },
     "output_type": "display_data"
    }
   ],
   "source": [
    "plt.scatter(t[:, 0], t[:, 1])"
   ]
  },
  {
   "cell_type": "code",
   "execution_count": null,
   "metadata": {},
   "outputs": [],
   "source": []
  }
 ],
 "metadata": {
  "kernelspec": {
   "display_name": "otenv",
   "language": "python",
   "name": "otenv"
  },
  "language_info": {
   "codemirror_mode": {
    "name": "ipython",
    "version": 3
   },
   "file_extension": ".py",
   "mimetype": "text/x-python",
   "name": "python",
   "nbconvert_exporter": "python",
   "pygments_lexer": "ipython3",
   "version": "3.10.4"
  }
 },
 "nbformat": 4,
 "nbformat_minor": 4
}
