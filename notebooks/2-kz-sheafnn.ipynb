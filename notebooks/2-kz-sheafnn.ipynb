{
 "cells": [
  {
   "cell_type": "code",
   "execution_count": 1,
   "metadata": {},
   "outputs": [],
   "source": [
    "import sys\n",
    "import os\n",
    "import random\n",
    "import torch\n",
    "import torch.nn.functional as F\n",
    "import git\n",
    "import numpy as np\n",
    "from tqdm import tqdm\n",
    "\n",
    "sys.path.append(\"../\")\n",
    "\n",
    "from src.models.disc_models import DiscreteDiagSheafDiffusion, DiscreteBundleSheafDiffusion, DiscreteGeneralSheafDiffusion\n",
    "from src.utils.parser import get_parser\n",
    "from src.utils.heterophilic import get_dataset, get_fixed_splits"
   ]
  },
  {
   "cell_type": "code",
   "execution_count": 2,
   "metadata": {},
   "outputs": [],
   "source": [
    "def reset_wandb_env():\n",
    "    exclude = {\n",
    "        \"WANDB_PROJECT\",\n",
    "        \"WANDB_ENTITY\",\n",
    "        \"WANDB_API_KEY\",\n",
    "    }\n",
    "    for k, v in os.environ.items():\n",
    "        if k.startswith(\"WANDB_\") and k not in exclude:\n",
    "            del os.environ[k]\n",
    "\n",
    "\n",
    "def train(model, optimizer, data):\n",
    "    model.train()\n",
    "    optimizer.zero_grad()\n",
    "    out = model(data.x)[data.train_mask]\n",
    "    nll = F.nll_loss(out, data.y[data.train_mask])\n",
    "    loss = nll\n",
    "    loss.backward()\n",
    "\n",
    "    optimizer.step()\n",
    "    del out\n",
    "\n",
    "def test(model, data):\n",
    "    model.eval()\n",
    "    with torch.no_grad():\n",
    "        logits, accs, losses, preds = model(data.x), [], [], []\n",
    "        for _, mask in data('train_mask', 'val_mask', 'test_mask'):\n",
    "            pred = logits[mask].max(1)[1]\n",
    "            acc = pred.eq(data.y[mask]).sum().item() / mask.sum().item()\n",
    "\n",
    "            loss = F.nll_loss(logits[mask], data.y[mask])\n",
    "\n",
    "            preds.append(pred.detach().cpu())\n",
    "            accs.append(acc)\n",
    "            losses.append(loss.detach().cpu())\n",
    "        return accs, preds, losses\n",
    "\n",
    "def run_exp(args, dataset, model_cls, fold):\n",
    "    data = dataset[0]\n",
    "    data = get_fixed_splits(data, args['dataset'], fold)\n",
    "    data = data.to(args['device'])\n",
    "\n",
    "    model = model_cls(data.edge_index, args)\n",
    "    model = model.to(args['device'])\n",
    "\n",
    "    sheaf_learner_params, other_params = model.grouped_parameters()\n",
    "    optimizer = torch.optim.Adam([\n",
    "        {'params': sheaf_learner_params, 'weight_decay': args['sheaf_decay']},\n",
    "        {'params': other_params, 'weight_decay': args['weight_decay']}\n",
    "    ], lr=args['lr'])\n",
    "\n",
    "    epoch = 0\n",
    "    best_val_acc = test_acc = 0\n",
    "    best_val_loss = float('inf')\n",
    "    val_loss_history = []\n",
    "    val_acc_history = []\n",
    "    best_epoch = 0\n",
    "    bad_counter = 0\n",
    "\n",
    "    for epoch in range(args['epochs']):\n",
    "        train(model, optimizer, data)\n",
    "\n",
    "        [train_acc, val_acc, tmp_test_acc], preds, [\n",
    "            train_loss, val_loss, tmp_test_loss] = test(model, data)\n",
    "        if fold == 0:\n",
    "            res_dict = {\n",
    "                f'fold{fold}_train_acc': train_acc,\n",
    "                f'fold{fold}_train_loss': train_loss,\n",
    "                f'fold{fold}_val_acc': val_acc,\n",
    "                f'fold{fold}_val_loss': val_loss,\n",
    "                f'fold{fold}_tmp_test_acc': tmp_test_acc,\n",
    "                f'fold{fold}_tmp_test_loss': tmp_test_loss,\n",
    "            }\n",
    "            wandb.log(res_dict, step=epoch)\n",
    "\n",
    "        new_best_trigger = val_acc > best_val_acc if args['stop_strategy'] == 'acc' else val_loss < best_val_loss\n",
    "        if new_best_trigger:\n",
    "            best_val_acc = val_acc\n",
    "            best_val_loss = val_loss\n",
    "            test_acc = tmp_test_acc\n",
    "            best_epoch = epoch\n",
    "            bad_counter = 0\n",
    "        else:\n",
    "            bad_counter += 1\n",
    "\n",
    "        if bad_counter == args['early_stopping']:\n",
    "            break\n",
    "\n",
    "    print(f\"Fold {fold} | Epochs: {epoch} | Best epoch: {best_epoch}\")\n",
    "    print(f\"Test acc: {test_acc:.4f}\")\n",
    "    print(f\"Best val acc: {best_val_acc:.4f}\")\n",
    "\n",
    "    if \"ODE\" not in args['model']:\n",
    "        # Debugging for discrete models\n",
    "        for i in range(len(model.sheaf_learners)):\n",
    "            L_max = model.sheaf_learners[i].L.detach().max().item()\n",
    "            L_min = model.sheaf_learners[i].L.detach().min().item()\n",
    "            L_avg = model.sheaf_learners[i].L.detach().mean().item()\n",
    "            L_abs_avg = model.sheaf_learners[i].L.detach().abs().mean().item()\n",
    "            print(f\"Laplacian {i}: Max: {L_max:.4f}, Min: {L_min:.4f}, Avg: {L_avg:.4f}, Abs avg: {L_abs_avg:.4f}\")\n",
    "\n",
    "        with np.printoptions(precision=3, suppress=True):\n",
    "            for i in range(0, args['layers']):\n",
    "                print(f\"Epsilons {i}: {model.epsilons[i].detach().cpu().numpy().flatten()}\")\n",
    "\n",
    "    wandb.log({'best_test_acc': test_acc, 'best_val_acc': best_val_acc, 'best_epoch': best_epoch})\n",
    "    keep_running = False if test_acc < args['min_acc'] else True\n",
    "\n",
    "    return test_acc, best_val_acc, keep_running\n"
   ]
  },
  {
   "cell_type": "code",
   "execution_count": 6,
   "metadata": {},
   "outputs": [
    {
     "name": "stdout",
     "output_type": "stream",
     "text": [
      "\u001b[31mERROR: sentry-sdk 1.17.0 has requirement urllib3>=1.26.11; python_version >= \"3.6\", but you'll have urllib3 1.24.2 which is incompatible.\u001b[0m\n"
     ]
    },
    {
     "data": {
      "text/html": [
       "wandb version 0.14.0 is available!  To upgrade, please run:\n",
       " $ pip install wandb --upgrade"
      ],
      "text/plain": [
       "<IPython.core.display.HTML object>"
      ]
     },
     "metadata": {},
     "output_type": "display_data"
    },
    {
     "data": {
      "text/html": [
       "Tracking run with wandb version 0.13.7"
      ],
      "text/plain": [
       "<IPython.core.display.HTML object>"
      ]
     },
     "metadata": {},
     "output_type": "display_data"
    },
    {
     "data": {
      "text/html": [
       "Run data is saved locally in <code>/home/mila/y/yanlei.zhang/Research/sheaf-neural-network/notebooks/wandb/run-20230320_154033-13s5uomc</code>"
      ],
      "text/plain": [
       "<IPython.core.display.HTML object>"
      ]
     },
     "metadata": {},
     "output_type": "display_data"
    },
    {
     "data": {
      "text/html": [
       "Syncing run <strong><a href=\"https://wandb.ai/sheafnn/sheafnn/runs/13s5uomc\" target=\"_blank\">silvery-sky-13</a></strong> to <a href=\"https://wandb.ai/sheafnn/sheafnn\" target=\"_blank\">Weights & Biases</a> (<a href=\"https://wandb.me/run\" target=\"_blank\">docs</a>)<br/>"
      ],
      "text/plain": [
       "<IPython.core.display.HTML object>"
      ]
     },
     "metadata": {},
     "output_type": "display_data"
    },
    {
     "name": "stderr",
     "output_type": "stream",
     "text": [
      " 10%|█         | 1/10 [00:06<00:56,  6.28s/it]"
     ]
    },
    {
     "name": "stdout",
     "output_type": "stream",
     "text": [
      "Fold 0 | Epochs: 274 | Best epoch: 74\n",
      "Test acc: 0.7838\n",
      "Best val acc: 0.7797\n",
      "Laplacian 0: Max: 0.0208, Min: -0.0714, Avg: -0.0219, Abs avg: 0.0237\n",
      "Laplacian 1: Max: 0.0332, Min: -0.0744, Avg: -0.0211, Abs avg: 0.0254\n",
      "Laplacian 2: Max: 0.0691, Min: -0.1484, Avg: -0.0268, Abs avg: 0.0383\n",
      "Laplacian 3: Max: 0.2540, Min: -0.2322, Avg: -0.0009, Abs avg: 0.0807\n",
      "Epsilons 0: [0.971 0.948 0.81 ]\n",
      "Epsilons 1: [0.984 0.959 0.842]\n",
      "Epsilons 2: [0.985 0.977 0.848]\n",
      "Epsilons 3: [1.    1.022 0.861]\n"
     ]
    },
    {
     "name": "stderr",
     "output_type": "stream",
     "text": [
      " 20%|██        | 2/10 [00:16<01:10,  8.78s/it]"
     ]
    },
    {
     "name": "stdout",
     "output_type": "stream",
     "text": [
      "Fold 1 | Epochs: 480 | Best epoch: 280\n",
      "Test acc: 0.9189\n",
      "Best val acc: 0.8305\n",
      "Laplacian 0: Max: 0.0120, Min: -0.0884, Avg: -0.0262, Abs avg: 0.0284\n",
      "Laplacian 1: Max: 0.0290, Min: -0.0806, Avg: -0.0243, Abs avg: 0.0294\n",
      "Laplacian 2: Max: 0.0324, Min: -0.0799, Avg: -0.0210, Abs avg: 0.0270\n",
      "Laplacian 3: Max: 0.4184, Min: -0.4446, Avg: -0.0127, Abs avg: 0.0996\n",
      "Epsilons 0: [1.166 1.154 1.063]\n",
      "Epsilons 1: [1.136 1.177 1.044]\n",
      "Epsilons 2: [1.162 1.162 1.069]\n",
      "Epsilons 3: [1.19  1.177 1.098]\n"
     ]
    },
    {
     "name": "stderr",
     "output_type": "stream",
     "text": [
      " 30%|███       | 3/10 [00:24<00:56,  8.09s/it]"
     ]
    },
    {
     "name": "stdout",
     "output_type": "stream",
     "text": [
      "Fold 2 | Epochs: 331 | Best epoch: 131\n",
      "Test acc: 0.8108\n",
      "Best val acc: 0.8983\n",
      "Laplacian 0: Max: 0.0432, Min: -0.1063, Avg: -0.0287, Abs avg: 0.0339\n",
      "Laplacian 1: Max: 0.0685, Min: -0.1029, Avg: -0.0165, Abs avg: 0.0374\n",
      "Laplacian 2: Max: 0.3174, Min: -0.3817, Avg: -0.0253, Abs avg: 0.0763\n",
      "Laplacian 3: Max: 0.1129, Min: -0.1132, Avg: -0.0060, Abs avg: 0.0410\n",
      "Epsilons 0: [1.022 0.982 0.97 ]\n",
      "Epsilons 1: [1.038 0.983 0.99 ]\n",
      "Epsilons 2: [1.077 0.992 1.   ]\n",
      "Epsilons 3: [1.055 0.991 0.977]\n"
     ]
    },
    {
     "name": "stderr",
     "output_type": "stream",
     "text": [
      " 40%|████      | 4/10 [00:29<00:42,  7.16s/it]"
     ]
    },
    {
     "name": "stdout",
     "output_type": "stream",
     "text": [
      "Fold 3 | Epochs: 257 | Best epoch: 57\n",
      "Test acc: 0.8919\n",
      "Best val acc: 0.8305\n",
      "Laplacian 0: Max: 0.0271, Min: -0.0842, Avg: -0.0229, Abs avg: 0.0272\n",
      "Laplacian 1: Max: 0.0337, Min: -0.0752, Avg: -0.0181, Abs avg: 0.0249\n",
      "Laplacian 2: Max: 0.2009, Min: -0.3842, Avg: -0.0444, Abs avg: 0.0801\n",
      "Laplacian 3: Max: 0.0655, Min: -0.0695, Avg: -0.0047, Abs avg: 0.0230\n",
      "Epsilons 0: [0.937 0.895 0.95 ]\n",
      "Epsilons 1: [0.935 0.942 0.946]\n",
      "Epsilons 2: [0.98  1.032 0.966]\n",
      "Epsilons 3: [0.939 1.004 0.963]\n"
     ]
    },
    {
     "name": "stderr",
     "output_type": "stream",
     "text": [
      " 50%|█████     | 5/10 [00:35<00:33,  6.60s/it]"
     ]
    },
    {
     "name": "stdout",
     "output_type": "stream",
     "text": [
      "Fold 4 | Epochs: 254 | Best epoch: 54\n",
      "Test acc: 0.8378\n",
      "Best val acc: 0.9492\n",
      "Laplacian 0: Max: 0.0378, Min: -0.0796, Avg: -0.0226, Abs avg: 0.0278\n",
      "Laplacian 1: Max: 0.0675, Min: -0.1061, Avg: -0.0274, Abs avg: 0.0414\n",
      "Laplacian 2: Max: 0.1733, Min: -0.1978, Avg: -0.0101, Abs avg: 0.0544\n",
      "Laplacian 3: Max: 0.2629, Min: -0.2793, Avg: -0.0199, Abs avg: 0.0633\n",
      "Epsilons 0: [0.958 0.985 0.898]\n",
      "Epsilons 1: [0.956 0.984 0.912]\n",
      "Epsilons 2: [0.973 1.02  0.935]\n",
      "Epsilons 3: [0.974 1.01  0.936]\n"
     ]
    },
    {
     "name": "stderr",
     "output_type": "stream",
     "text": [
      " 60%|██████    | 6/10 [00:43<00:28,  7.03s/it]"
     ]
    },
    {
     "name": "stdout",
     "output_type": "stream",
     "text": [
      "Fold 5 | Epochs: 348 | Best epoch: 148\n",
      "Test acc: 0.8378\n",
      "Best val acc: 0.9322\n",
      "Laplacian 0: Max: 0.0244, Min: -0.0847, Avg: -0.0230, Abs avg: 0.0277\n",
      "Laplacian 1: Max: 0.0273, Min: -0.0893, Avg: -0.0204, Abs avg: 0.0251\n",
      "Laplacian 2: Max: 0.0790, Min: -0.0993, Avg: -0.0063, Abs avg: 0.0308\n",
      "Laplacian 3: Max: 0.1982, Min: -0.6358, Avg: -0.0780, Abs avg: 0.0969\n",
      "Epsilons 0: [1.088 1.061 1.101]\n",
      "Epsilons 1: [1.108 1.061 1.099]\n",
      "Epsilons 2: [1.101 1.044 1.077]\n",
      "Epsilons 3: [1.101 1.083 1.128]\n"
     ]
    },
    {
     "name": "stderr",
     "output_type": "stream",
     "text": [
      " 70%|███████   | 7/10 [00:51<00:21,  7.26s/it]"
     ]
    },
    {
     "name": "stdout",
     "output_type": "stream",
     "text": [
      "Fold 6 | Epochs: 350 | Best epoch: 150\n",
      "Test acc: 0.9459\n",
      "Best val acc: 0.8814\n",
      "Laplacian 0: Max: 0.0192, Min: -0.0819, Avg: -0.0237, Abs avg: 0.0256\n",
      "Laplacian 1: Max: 0.0271, Min: -0.0794, Avg: -0.0227, Abs avg: 0.0284\n",
      "Laplacian 2: Max: 0.1084, Min: -0.2020, Avg: -0.0328, Abs avg: 0.0497\n",
      "Laplacian 3: Max: 0.5875, Min: -0.8511, Avg: -0.0885, Abs avg: 0.1592\n",
      "Epsilons 0: [1.036 1.071 0.994]\n",
      "Epsilons 1: [1.045 1.059 1.008]\n",
      "Epsilons 2: [1.075 1.097 1.072]\n",
      "Epsilons 3: [1.059 1.081 1.084]\n"
     ]
    },
    {
     "name": "stderr",
     "output_type": "stream",
     "text": [
      " 80%|████████  | 8/10 [00:56<00:13,  6.72s/it]"
     ]
    },
    {
     "name": "stdout",
     "output_type": "stream",
     "text": [
      "Fold 7 | Epochs: 247 | Best epoch: 47\n",
      "Test acc: 0.7027\n",
      "Best val acc: 0.8305\n",
      "Laplacian 0: Max: 0.0418, Min: -0.0636, Avg: -0.0193, Abs avg: 0.0247\n",
      "Laplacian 1: Max: 0.0490, Min: -0.0903, Avg: -0.0212, Abs avg: 0.0330\n",
      "Laplacian 2: Max: 0.0610, Min: -0.1384, Avg: -0.0155, Abs avg: 0.0226\n",
      "Laplacian 3: Max: 0.0930, Min: -0.1898, Avg: -0.0223, Abs avg: 0.0379\n",
      "Epsilons 0: [0.995 0.89  0.923]\n",
      "Epsilons 1: [1.008 0.923 0.925]\n",
      "Epsilons 2: [1.007 0.916 0.974]\n",
      "Epsilons 3: [1.007 0.933 0.984]\n"
     ]
    },
    {
     "name": "stderr",
     "output_type": "stream",
     "text": [
      " 90%|█████████ | 9/10 [01:08<00:08,  8.24s/it]"
     ]
    },
    {
     "name": "stdout",
     "output_type": "stream",
     "text": [
      "Fold 8 | Epochs: 526 | Best epoch: 326\n",
      "Test acc: 0.7838\n",
      "Best val acc: 0.8983\n",
      "Laplacian 0: Max: 0.0249, Min: -0.0675, Avg: -0.0214, Abs avg: 0.0260\n",
      "Laplacian 1: Max: 0.0600, Min: -0.0805, Avg: -0.0200, Abs avg: 0.0358\n",
      "Laplacian 2: Max: 0.0930, Min: -0.0960, Avg: -0.0125, Abs avg: 0.0317\n",
      "Laplacian 3: Max: 0.5287, Min: -0.4440, Avg: -0.0018, Abs avg: 0.1121\n",
      "Epsilons 0: [1.107 1.227 1.091]\n",
      "Epsilons 1: [1.116 1.216 1.091]\n",
      "Epsilons 2: [1.11  1.228 1.106]\n",
      "Epsilons 3: [1.156 1.234 1.154]\n"
     ]
    },
    {
     "name": "stderr",
     "output_type": "stream",
     "text": [
      "100%|██████████| 10/10 [01:17<00:00,  7.73s/it]"
     ]
    },
    {
     "name": "stdout",
     "output_type": "stream",
     "text": [
      "Fold 9 | Epochs: 419 | Best epoch: 219\n",
      "Test acc: 0.8919\n",
      "Best val acc: 0.7966\n",
      "Laplacian 0: Max: 0.0272, Min: -0.0770, Avg: -0.0230, Abs avg: 0.0260\n",
      "Laplacian 1: Max: 0.0411, Min: -0.0919, Avg: -0.0231, Abs avg: 0.0286\n",
      "Laplacian 2: Max: 0.0472, Min: -0.0799, Avg: -0.0176, Abs avg: 0.0283\n",
      "Laplacian 3: Max: 0.1199, Min: -0.1435, Avg: -0.0174, Abs avg: 0.0399\n",
      "Epsilons 0: [1.056 1.077 1.069]\n",
      "Epsilons 1: [1.077 1.096 1.117]\n",
      "Epsilons 2: [1.064 1.118 1.104]\n",
      "Epsilons 3: [1.097 1.115 1.124]\n"
     ]
    },
    {
     "name": "stderr",
     "output_type": "stream",
     "text": [
      "\n"
     ]
    }
   ],
   "source": [
    "#first loss\n",
    "\n",
    "# setup the parameters\n",
    "parser = get_parser()\n",
    "args = parser.parse_args(\"\")\n",
    "\n",
    "repo = git.Repo(search_parent_directories=True)\n",
    "sha = repo.head.object.hexsha\n",
    "\n",
    "#rewrite and add some parameters\n",
    "args.d = 3\n",
    "args.layers = 4\n",
    "args.dropout = 0.7\n",
    "args.model = \"BundleSheaf\"\n",
    "args.entity = \"sheafnn\"\n",
    "\n",
    "model_cls = DiscreteBundleSheafDiffusion\n",
    "dataset = get_dataset(args.dataset)\n",
    "\n",
    "args.graph_size = dataset[0].x.size(0)\n",
    "args.input_dim = dataset.num_features\n",
    "args.output_dim = dataset.num_classes\n",
    "args.device = torch.device(f'cuda:{args.cuda}' if torch.cuda.is_available() else 'cpu')\n",
    "assert args.normalised or args.deg_normalised\n",
    "if args.sheaf_decay is None:\n",
    "    args.sheaf_decay = args.weight_decay\n",
    "\n",
    "\n",
    "if args.model == 'DiagSheafODE':\n",
    "    model_cls = DiagSheafDiffusion\n",
    "elif args.model == 'BundleSheafODE':\n",
    "    model_cls = BundleSheafDiffusion\n",
    "elif args.model == 'GeneralSheafODE':\n",
    "    model_cls = GeneralSheafDiffusion\n",
    "elif args.model == 'DiagSheaf':\n",
    "    model_cls = DiscreteDiagSheafDiffusion\n",
    "elif args.model == 'BundleSheaf':\n",
    "    model_cls = DiscreteBundleSheafDiffusion\n",
    "elif args.model == 'GeneralSheaf':\n",
    "    model_cls = DiscreteGeneralSheafDiffusion\n",
    "else:\n",
    "    raise ValueError(f'Unknown model')\n",
    "\n",
    "\n",
    "# Set the seed for everything\n",
    "torch.manual_seed(args.seed)\n",
    "torch.cuda.manual_seed(args.seed)\n",
    "torch.cuda.manual_seed_all(args.seed)\n",
    "np.random.seed(args.seed)\n",
    "random.seed(args.seed)\n",
    "\n",
    "results = []\n",
    "\n",
    "!pip install wandb -qqq\n",
    "import wandb\n",
    "wandb.init(project=\"sheafnn\", config=vars(args), entity=args.entity)\n",
    "    \n",
    "#train the diffusion process\n",
    "\n",
    "\n",
    "for fold in tqdm(range(args.folds)):\n",
    "        test_acc, best_val_acc, keep_running = run_exp(wandb.config, dataset, model_cls, fold)\n",
    "        results.append([test_acc, best_val_acc])\n",
    "        if not keep_running:\n",
    "            break\n",
    "\n",
    "\n"
   ]
  },
  {
   "cell_type": "code",
   "execution_count": 7,
   "metadata": {},
   "outputs": [
    {
     "data": {
      "text/html": [
       "Waiting for W&B process to finish... <strong style=\"color:green\">(success).</strong>"
      ],
      "text/plain": [
       "<IPython.core.display.HTML object>"
      ]
     },
     "metadata": {},
     "output_type": "display_data"
    },
    {
     "data": {
      "application/vnd.jupyter.widget-view+json": {
       "model_id": "7333146163f649699102e031708f9794",
       "version_major": 2,
       "version_minor": 0
      },
      "text/plain": [
       "VBox(children=(Label(value='0.005 MB of 0.005 MB uploaded (0.000 MB deduped)\\r'), FloatProgress(value=1.0, max…"
      ]
     },
     "metadata": {},
     "output_type": "display_data"
    },
    {
     "data": {
      "text/html": [
       "<style>\n",
       "    table.wandb td:nth-child(1) { padding: 0 10px; text-align: left ; width: auto;} td:nth-child(2) {text-align: left ; width: 100%}\n",
       "    .wandb-row { display: flex; flex-direction: row; flex-wrap: wrap; justify-content: flex-start; width: 100% }\n",
       "    .wandb-col { display: flex; flex-direction: column; flex-basis: 100%; flex: 1; padding: 10px; }\n",
       "    </style>\n",
       "<div class=\"wandb-row\"><div class=\"wandb-col\"><h3>Run history:</h3><br/><table class=\"wandb\"><tr><td>best_epoch</td><td>▂▇▃▁▁▄▄▁█▅</td></tr><tr><td>best_test_acc</td><td>▃▇▄▆▅▅█▁▃▆</td></tr><tr><td>best_val_acc</td><td>▁▃▆▃█▇▅▃▆▂</td></tr><tr><td>fold0_tmp_test_acc</td><td>▁▂▂▂▄▇█▇▇█▇▆▇▆██▇▇▇███▇▇▆▇▇▇▇█▆▇▇▇▇▇██▇█</td></tr><tr><td>fold0_tmp_test_loss</td><td>█▆▄▄▃▂▁▁▁▁▁▂▂▂▂▂▂▂▂▃▃▃▃▃▃▃▃▄▃▃▃▅▄▃▃▃▄▄▃▄</td></tr><tr><td>fold0_train_acc</td><td>▁▁▁▄▄▇██████████████████████████████████</td></tr><tr><td>fold0_train_loss</td><td>█▇▆▅▄▃▂▁▁▁▁▁▁▁▁▁▁▁▁▁▁▁▁▁▁▁▁▁▁▁▁▁▁▁▁▁▁▁▁▁</td></tr><tr><td>fold0_val_acc</td><td>▁▁▁▂▂▅▆▆▆▆▆▆▇▇▇▇▆▆▆▇▇▇▇▇▇▇▆▇▇▇▇▇▇▇█▇▇▇▆▇</td></tr><tr><td>fold0_val_loss</td><td>█▇▆▅▄▃▂▁▁▁▁▁▁▁▁▁▂▂▂▁▂▁▁▂▂▂▁▂▂▁▂▂▂▂▁▁▂▁▁▂</td></tr><tr><td>test_acc</td><td>▁</td></tr><tr><td>test_acc_std</td><td>▁</td></tr><tr><td>val_acc</td><td>▁</td></tr></table><br/></div><div class=\"wandb-col\"><h3>Run summary:</h3><br/><table class=\"wandb\"><tr><td>best_epoch</td><td>219</td></tr><tr><td>best_test_acc</td><td>0.89189</td></tr><tr><td>best_val_acc</td><td>0.79661</td></tr><tr><td>fold0_tmp_test_acc</td><td>0.81081</td></tr><tr><td>fold0_tmp_test_loss</td><td>0.87521</td></tr><tr><td>fold0_train_acc</td><td>1.0</td></tr><tr><td>fold0_train_loss</td><td>0.00082</td></tr><tr><td>fold0_val_acc</td><td>0.79661</td></tr><tr><td>fold0_val_loss</td><td>0.63614</td></tr><tr><td>test_acc</td><td>84.05405</td></tr><tr><td>test_acc_std</td><td>6.99055</td></tr><tr><td>val_acc</td><td>86.27119</td></tr></table><br/></div></div>"
      ],
      "text/plain": [
       "<IPython.core.display.HTML object>"
      ]
     },
     "metadata": {},
     "output_type": "display_data"
    },
    {
     "data": {
      "text/html": [
       "Synced <strong style=\"color:#cdcd00\">silvery-sky-13</strong>: <a href=\"https://wandb.ai/sheafnn/sheafnn/runs/13s5uomc\" target=\"_blank\">https://wandb.ai/sheafnn/sheafnn/runs/13s5uomc</a><br/>Synced 5 W&B file(s), 0 media file(s), 0 artifact file(s) and 0 other file(s)"
      ],
      "text/plain": [
       "<IPython.core.display.HTML object>"
      ]
     },
     "metadata": {},
     "output_type": "display_data"
    },
    {
     "data": {
      "text/html": [
       "Find logs at: <code>./wandb/run-20230320_154033-13s5uomc/logs</code>"
      ],
      "text/plain": [
       "<IPython.core.display.HTML object>"
      ]
     },
     "metadata": {},
     "output_type": "display_data"
    }
   ],
   "source": [
    "test_acc_mean, val_acc_mean = np.mean(results, axis=0) * 100\n",
    "test_acc_std = np.sqrt(np.var(results, axis=0)[0]) * 100\n",
    "\n",
    "wandb_results = {'test_acc': test_acc_mean, 'val_acc': val_acc_mean, 'test_acc_std': test_acc_std}\n",
    "wandb.log(wandb_results)\n",
    "wandb.finish()\n"
   ]
  },
  {
   "cell_type": "code",
   "execution_count": 8,
   "metadata": {},
   "outputs": [
    {
     "name": "stdout",
     "output_type": "stream",
     "text": [
      "BundleSheaf on texas | SHA: 055f7b1c80e5028eb8f58d3f62de531e68dc908d\n",
      "Test acc: 84.0541 +/- 6.9905 | Val acc: 86.2712\n"
     ]
    }
   ],
   "source": [
    "model_name = args.model if args.evectors == 0 else f\"{args.model}+LP{args.evectors}\"\n",
    "print(f'{model_name} on {args.dataset} | SHA: {sha}')\n",
    "print(f'Test acc: {test_acc_mean:.4f} +/- {test_acc_std:.4f} | Val acc: {val_acc_mean:.4f}')\n"
   ]
  },
  {
   "cell_type": "code",
   "execution_count": null,
   "metadata": {},
   "outputs": [],
   "source": []
  }
 ],
 "metadata": {
  "kernelspec": {
   "display_name": "sheafnn",
   "language": "python",
   "name": "sheafnn"
  },
  "language_info": {
   "codemirror_mode": {
    "name": "ipython",
    "version": 3
   },
   "file_extension": ".py",
   "mimetype": "text/x-python",
   "name": "python",
   "nbconvert_exporter": "python",
   "pygments_lexer": "ipython3",
   "version": "3.10.4"
  }
 },
 "nbformat": 4,
 "nbformat_minor": 4
}
