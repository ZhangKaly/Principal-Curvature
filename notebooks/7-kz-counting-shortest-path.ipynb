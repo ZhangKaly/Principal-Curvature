{
 "cells": [
  {
   "cell_type": "code",
   "execution_count": 1,
   "metadata": {},
   "outputs": [],
   "source": [
    "import networkx as nx\n",
    "import matplotlib.pyplot as plt\n",
    "import numpy as np\n",
    "import torch\n",
    "alpha = nx.Graph()\n",
    "beta = nx.Graph()"
   ]
  },
  {
   "cell_type": "code",
   "execution_count": 2,
   "metadata": {},
   "outputs": [
    {
     "data": {
      "image/png": "[encoded data removed]",
      "text/plain": [
       "<Figure size 432x288 with 2 Axes>"
      ]
     },
     "metadata": {},
     "output_type": "display_data"
    }
   ],
   "source": [
    "alpha.add_edges_from([(1, 2), (2, 3), (3, 4), (4, 5), (5, 6), (6, 1), (6, 7), (7, 8), (8, 9), (9, 10), (10, 5)])\n",
    "beta.add_edges_from([(1, 2), (2, 3), (3, 4), (4, 5), (5, 1), (5, 6), (6, 7), (7, 8), (8, 9), (9, 10), (10, 6)])\n",
    "subax1 = plt.subplot(121)\n",
    "nx.draw(alpha, with_labels=True, font_weight='bold')\n",
    "subax2 = plt.subplot(122)\n",
    "nx.draw(beta, with_labels=True, font_weight='bold')"
   ]
  },
  {
   "cell_type": "code",
   "execution_count": 3,
   "metadata": {},
   "outputs": [
    {
     "name": "stderr",
     "output_type": "stream",
     "text": [
      "/tmp/ipykernel_61240/2994533232.py:1: FutureWarning: adjacency_matrix will return a scipy.sparse array instead of a matrix in Networkx 3.0.\n",
      "  adj = nx.adjacency_matrix(alpha).todense()\n"
     ]
    },
    {
     "data": {
      "text/plain": [
       "matrix([[0, 1, 0, 0, 0, 1, 0, 0, 0, 0],\n",
       "        [1, 0, 1, 0, 0, 0, 0, 0, 0, 0],\n",
       "        [0, 1, 0, 1, 0, 0, 0, 0, 0, 0],\n",
       "        [0, 0, 1, 0, 1, 0, 0, 0, 0, 0],\n",
       "        [0, 0, 0, 1, 0, 1, 0, 0, 0, 1],\n",
       "        [1, 0, 0, 0, 1, 0, 1, 0, 0, 0],\n",
       "        [0, 0, 0, 0, 0, 1, 0, 1, 0, 0],\n",
       "        [0, 0, 0, 0, 0, 0, 1, 0, 1, 0],\n",
       "        [0, 0, 0, 0, 0, 0, 0, 1, 0, 1],\n",
       "        [0, 0, 0, 0, 1, 0, 0, 0, 1, 0]])"
      ]
     },
     "execution_count": 3,
     "metadata": {},
     "output_type": "execute_result"
    }
   ],
   "source": [
    "adj = nx.adjacency_matrix(alpha).todense()\n",
    "adj"
   ]
  },
  {
   "cell_type": "code",
   "execution_count": 10,
   "metadata": {},
   "outputs": [],
   "source": [
    "def num_of_elements_of_length_k(lst, k):\n",
    "    #lst: a list in the form {1: a, 2: b}\n",
    "    #k: the required length\n",
    "    i = 0\n",
    "    idx_set = {}\n",
    "    for idx in range(1, len(lst) + 1):\n",
    "        if len(lst[idx]) == k:\n",
    "            idx_set[i] = idx\n",
    "            i = i + 1\n",
    "    return i, idx_set\n",
    "\n",
    "def WL_length_set(G):\n",
    "    #G is a nx.graph, can compute either from G=nx.Graph or G=nx.from_numpy_matrix(A) where A is adjacency matrix\n",
    "    \"\"\"this returns a list of lengths\n",
    "    for example: \n",
    "    [[1, 4, 6],\n",
    "     [1, 3, 5],\n",
    "     [1, 2, 4]]\n",
    "     the first row of the list tells us the number of paths that are connected to node one of length = index - 1\n",
    "     in this case, first row in second column entry 4 tells us that there are 4 paths that are connected to node 1 with length 2 - 1.\n",
    "    \"\"\" \n",
    "    path_set = nx.shortest_path(G)\n",
    "    length_set = [ {} for _ in range(len(G._node)) ]\n",
    "    \n",
    "    for i in range(len(G._node)):\n",
    "        for j in range(len(G._node)):\n",
    "            length_set[i][j], the_set = num_of_elements_of_length_k(path_set[i + 1], j +1)\n",
    "    length_set = [list(idx.values()) for idx in length_set] #convert to a list of lists\n",
    "    return length_set\n",
    "\n",
    "def WL_poset(G):\n",
    "    #G is a nx.graph, can compute either from G=nx.Graph or G=nx.from_numpy_matrix(A) where A is adjacency matrix\n",
    "    \"\"\"this returns the list of WL aggregated nodes\n",
    "    \"\"\" \n",
    "    p = np.array(WL_length_set(G)).T\n",
    "    class_set = []\n",
    "    for k in range(len(G._node)):\n",
    "        max_num = max(p[k])\n",
    "        for j in range(1, max_num + 1):\n",
    "            b = [i +1 for i, n in enumerate(p[k]) if n == j]\n",
    "            class_set.append(b)\n",
    "                    \n",
    "    return class_set\n",
    "            \n",
    "        \n",
    "    \n",
    "                    "
   ]
  },
  {
   "cell_type": "code",
   "execution_count": 7,
   "metadata": {},
   "outputs": [
    {
     "data": {
      "text/plain": [
       "[[1, 2, 3, 4, 5, 6, 7, 8, 9, 10],\n",
       " [],\n",
       " [1, 2, 3, 4, 7, 8, 9, 10],\n",
       " [5, 6],\n",
       " [],\n",
       " [2, 3, 8, 9],\n",
       " [1, 4, 7, 10],\n",
       " [5, 6],\n",
       " [],\n",
       " [2, 3, 5, 6, 8, 9],\n",
       " [1, 4, 7, 10],\n",
       " [1, 4, 7, 10],\n",
       " [2, 3, 8, 9],\n",
       " [2, 3, 8, 9]]"
      ]
     },
     "execution_count": 7,
     "metadata": {},
     "output_type": "execute_result"
    }
   ],
   "source": [
    "WL_poset(alpha)"
   ]
  },
  {
   "cell_type": "code",
   "execution_count": 9,
   "metadata": {},
   "outputs": [
    {
     "data": {
      "text/plain": [
       "[[1, 2, 3, 3, 1, 0, 0, 0, 0, 0],\n",
       " [1, 2, 2, 2, 2, 1, 0, 0, 0, 0],\n",
       " [1, 2, 2, 2, 2, 1, 0, 0, 0, 0],\n",
       " [1, 2, 3, 3, 1, 0, 0, 0, 0, 0],\n",
       " [1, 3, 4, 2, 0, 0, 0, 0, 0, 0],\n",
       " [1, 3, 4, 2, 0, 0, 0, 0, 0, 0],\n",
       " [1, 2, 3, 3, 1, 0, 0, 0, 0, 0],\n",
       " [1, 2, 2, 2, 2, 1, 0, 0, 0, 0],\n",
       " [1, 2, 2, 2, 2, 1, 0, 0, 0, 0],\n",
       " [1, 2, 3, 3, 1, 0, 0, 0, 0, 0]]"
      ]
     },
     "execution_count": 9,
     "metadata": {},
     "output_type": "execute_result"
    }
   ],
   "source": [
    "WL_length_set(alpha)"
   ]
  },
  {
   "cell_type": "markdown",
   "metadata": {},
   "source": [
    "## The following is the scratch in the process of designing WL_poset"
   ]
  },
  {
   "cell_type": "code",
   "execution_count": 196,
   "metadata": {},
   "outputs": [
    {
     "name": "stdout",
     "output_type": "stream",
     "text": [
      "[[1 1 1 1 1 1 1 1 1 1]\n",
      " [2 2 2 2 3 3 2 2 2 2]\n",
      " [3 2 2 3 4 4 3 2 2 3]\n",
      " [3 2 2 3 2 2 3 2 2 3]\n",
      " [1 2 2 1 0 0 1 2 2 1]\n",
      " [0 1 1 0 0 0 0 1 1 0]\n",
      " [0 0 0 0 0 0 0 0 0 0]\n",
      " [0 0 0 0 0 0 0 0 0 0]\n",
      " [0 0 0 0 0 0 0 0 0 0]\n",
      " [0 0 0 0 0 0 0 0 0 0]]\n"
     ]
    },
    {
     "data": {
      "text/plain": [
       "[0, 1, 2, 3, 4, 5, 6, 7, 8, 9]"
      ]
     },
     "execution_count": 196,
     "metadata": {},
     "output_type": "execute_result"
    }
   ],
   "source": [
    "a = WL_length_set(alpha)\n",
    "b = np.array(a).T\n",
    "print(b)\n",
    "[i for i, n in enumerate(b[0]) if n == 1]\n"
   ]
  },
  {
   "cell_type": "code",
   "execution_count": 197,
   "metadata": {},
   "outputs": [
    {
     "data": {
      "text/plain": [
       "[[1, 2, 3, 2, 2, 0, 0, 0, 0, 0],\n",
       " [1, 2, 2, 1, 2, 2, 0, 0, 0, 0],\n",
       " [1, 2, 2, 1, 2, 2, 0, 0, 0, 0],\n",
       " [1, 2, 3, 2, 2, 0, 0, 0, 0, 0],\n",
       " [1, 3, 4, 2, 0, 0, 0, 0, 0, 0],\n",
       " [1, 3, 4, 2, 0, 0, 0, 0, 0, 0],\n",
       " [1, 2, 3, 2, 2, 0, 0, 0, 0, 0],\n",
       " [1, 2, 2, 1, 2, 2, 0, 0, 0, 0],\n",
       " [1, 2, 2, 1, 2, 2, 0, 0, 0, 0],\n",
       " [1, 2, 3, 2, 2, 0, 0, 0, 0, 0]]"
      ]
     },
     "execution_count": 197,
     "metadata": {},
     "output_type": "execute_result"
    }
   ],
   "source": [
    "WL_length_set(beta)"
   ]
  },
  {
   "cell_type": "code",
   "execution_count": 18,
   "metadata": {},
   "outputs": [
    {
     "name": "stdout",
     "output_type": "stream",
     "text": [
      "{1: [1], 2: [1, 2], 6: [1, 6], 3: [1, 2, 3], 5: [1, 6, 5], 7: [1, 6, 7], 4: [1, 2, 3, 4], 10: [1, 6, 5, 10], 8: [1, 6, 7, 8], 9: [1, 6, 5, 10, 9]}\n"
     ]
    },
    {
     "data": {
      "text/plain": [
       "(3, {0: 3, 1: 5, 2: 7})"
      ]
     },
     "execution_count": 18,
     "metadata": {},
     "output_type": "execute_result"
    }
   ],
   "source": [
    "# now let's test if the function num_of_elements_in_length_k works\n",
    "p = nx.shortest_path(alpha)\n",
    "print(p[1])\n",
    "num_of_elements_of_length_k(p[1], 3)"
   ]
  },
  {
   "cell_type": "code",
   "execution_count": 21,
   "metadata": {},
   "outputs": [
    {
     "data": {
      "image/png": "[encoded data removed]",
      "text/plain": [
       "<Figure size 432x288 with 1 Axes>"
      ]
     },
     "metadata": {},
     "output_type": "display_data"
    }
   ],
   "source": [
    "nx.draw(alpha, with_labels=True, font_weight='bold')"
   ]
  },
  {
   "cell_type": "code",
   "execution_count": 20,
   "metadata": {},
   "outputs": [
    {
     "data": {
      "text/plain": [
       "{1: {1: [1],\n",
       "  2: [1, 2],\n",
       "  6: [1, 6],\n",
       "  3: [1, 2, 3],\n",
       "  5: [1, 6, 5],\n",
       "  7: [1, 6, 7],\n",
       "  4: [1, 2, 3, 4],\n",
       "  10: [1, 6, 5, 10],\n",
       "  8: [1, 6, 7, 8],\n",
       "  9: [1, 6, 5, 10, 9]},\n",
       " 2: {2: [2],\n",
       "  1: [2, 1],\n",
       "  3: [2, 3],\n",
       "  6: [2, 1, 6],\n",
       "  4: [2, 3, 4],\n",
       "  5: [2, 1, 6, 5],\n",
       "  7: [2, 1, 6, 7],\n",
       "  10: [2, 1, 6, 5, 10],\n",
       "  8: [2, 1, 6, 7, 8],\n",
       "  9: [2, 1, 6, 5, 10, 9]},\n",
       " 3: {3: [3],\n",
       "  2: [3, 2],\n",
       "  4: [3, 4],\n",
       "  1: [3, 2, 1],\n",
       "  5: [3, 4, 5],\n",
       "  6: [3, 2, 1, 6],\n",
       "  10: [3, 4, 5, 10],\n",
       "  7: [3, 2, 1, 6, 7],\n",
       "  9: [3, 4, 5, 10, 9],\n",
       "  8: [3, 2, 1, 6, 7, 8]},\n",
       " 4: {4: [4],\n",
       "  3: [4, 3],\n",
       "  5: [4, 5],\n",
       "  2: [4, 3, 2],\n",
       "  6: [4, 5, 6],\n",
       "  10: [4, 5, 10],\n",
       "  1: [4, 3, 2, 1],\n",
       "  7: [4, 5, 6, 7],\n",
       "  9: [4, 5, 10, 9],\n",
       "  8: [4, 5, 6, 7, 8]},\n",
       " 5: {5: [5],\n",
       "  4: [5, 4],\n",
       "  6: [5, 6],\n",
       "  10: [5, 10],\n",
       "  3: [5, 4, 3],\n",
       "  1: [5, 6, 1],\n",
       "  7: [5, 6, 7],\n",
       "  9: [5, 10, 9],\n",
       "  2: [5, 4, 3, 2],\n",
       "  8: [5, 6, 7, 8]},\n",
       " 6: {6: [6],\n",
       "  5: [6, 5],\n",
       "  1: [6, 1],\n",
       "  7: [6, 7],\n",
       "  4: [6, 5, 4],\n",
       "  10: [6, 5, 10],\n",
       "  2: [6, 1, 2],\n",
       "  8: [6, 7, 8],\n",
       "  3: [6, 5, 4, 3],\n",
       "  9: [6, 5, 10, 9]},\n",
       " 7: {7: [7],\n",
       "  6: [7, 6],\n",
       "  8: [7, 8],\n",
       "  5: [7, 6, 5],\n",
       "  1: [7, 6, 1],\n",
       "  9: [7, 8, 9],\n",
       "  4: [7, 6, 5, 4],\n",
       "  10: [7, 6, 5, 10],\n",
       "  2: [7, 6, 1, 2],\n",
       "  3: [7, 6, 5, 4, 3]},\n",
       " 8: {8: [8],\n",
       "  7: [8, 7],\n",
       "  9: [8, 9],\n",
       "  6: [8, 7, 6],\n",
       "  10: [8, 9, 10],\n",
       "  5: [8, 7, 6, 5],\n",
       "  1: [8, 7, 6, 1],\n",
       "  4: [8, 7, 6, 5, 4],\n",
       "  2: [8, 7, 6, 1, 2],\n",
       "  3: [8, 7, 6, 5, 4, 3]},\n",
       " 9: {9: [9],\n",
       "  8: [9, 8],\n",
       "  10: [9, 10],\n",
       "  7: [9, 8, 7],\n",
       "  5: [9, 10, 5],\n",
       "  6: [9, 8, 7, 6],\n",
       "  4: [9, 10, 5, 4],\n",
       "  1: [9, 8, 7, 6, 1],\n",
       "  3: [9, 10, 5, 4, 3],\n",
       "  2: [9, 8, 7, 6, 1, 2]},\n",
       " 10: {10: [10],\n",
       "  9: [10, 9],\n",
       "  5: [10, 5],\n",
       "  8: [10, 9, 8],\n",
       "  4: [10, 5, 4],\n",
       "  6: [10, 5, 6],\n",
       "  7: [10, 9, 8, 7],\n",
       "  3: [10, 5, 4, 3],\n",
       "  1: [10, 5, 6, 1],\n",
       "  2: [10, 5, 4, 3, 2]}}"
      ]
     },
     "execution_count": 20,
     "metadata": {},
     "output_type": "execute_result"
    }
   ],
   "source": [
    "nx.shortest_path(alpha)"
   ]
  },
  {
   "cell_type": "code",
   "execution_count": null,
   "metadata": {},
   "outputs": [],
   "source": []
  }
 ],
 "metadata": {
  "kernelspec": {
   "display_name": "sheafnn",
   "language": "python",
   "name": "sheafnn"
  },
  "language_info": {
   "codemirror_mode": {
    "name": "ipython",
    "version": 3
   },
   "file_extension": ".py",
   "mimetype": "text/x-python",
   "name": "python",
   "nbconvert_exporter": "python",
   "pygments_lexer": "ipython3",
   "version": "3.10.4"
  }
 },
 "nbformat": 4,
 "nbformat_minor": 4
}
