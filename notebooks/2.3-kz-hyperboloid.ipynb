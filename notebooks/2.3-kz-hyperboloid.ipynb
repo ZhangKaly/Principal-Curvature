{
 "cells": [
  {
   "cell_type": "markdown",
   "metadata": {},
   "source": [
    "## Implement of a curvature\n",
    "\n",
    "Here we compute the transport map $\\mathbf{O}_{ij}:= \\mathscr{F}^T_{v \\unlhd e}\\mathscr{F}_{u \\unlhd e}$ according to  https://arxiv.org/pdf/2206.08702.pdf and https://arxiv.org/pdf/1102.0075.pdf"
   ]
  },
  {
   "cell_type": "code",
   "execution_count": 1,
   "metadata": {},
   "outputs": [],
   "source": [
    "import networkx as nx\n",
    "import matplotlib.pyplot as plt\n",
    "import numpy as np\n",
    "import torch\n",
    "import pandas as pd\n",
    "from sklearn.neighbors import NearestNeighbors\n",
    "from tqdm import tqdm\n",
    "import pandas as pd"
   ]
  },
  {
   "cell_type": "code",
   "execution_count": 8,
   "metadata": {},
   "outputs": [
    {
     "data": {
      "image/png": "[encoded data removed]",
      "text/plain": [
       "<Figure size 432x288 with 1 Axes>"
      ]
     },
     "metadata": {
      "needs_background": "light"
     },
     "output_type": "display_data"
    }
   ],
   "source": [
    "def generate_hyperboloid_cloud(a, b, c, num_points=5000):\n",
    "    \n",
    "    u = np.random.uniform(-1.5,1.5,num_points)\n",
    "    v = np.random.uniform(0, 2 * np.pi, num_points)\n",
    "\n",
    "    x = a*np.cosh(u)*np.cos(v)\n",
    "    y = b*np.cosh(u)*np.sin(v)\n",
    "    z = c*np.sinh(u)\n",
    "\n",
    "    return np.column_stack((x, y, z))\n",
    "\n",
    "\n",
    "np.random.seed(40)\n",
    "# Generate a sphere point cloud with 1000 points and radius 1\n",
    "hyperboloid = generate_hyperboloid_cloud(1, 1, 0.5)\n",
    "\n",
    "# Visualize the point cloud\n",
    "fig = plt.figure()\n",
    "ax = fig.add_subplot(111, projection='3d')\n",
    "ax.scatter(hyperboloid[:, 0], hyperboloid[:, 1], hyperboloid[:, 2], s=5)\n",
    "ax.set_title(\"Generated Point Cloud\")\n",
    "ax.view_init(0, 0)\n",
    "plt.show()"
   ]
  },
  {
   "cell_type": "code",
   "execution_count": 9,
   "metadata": {},
   "outputs": [],
   "source": [
    "def sub_vectors_between(set_vectors, a, b):\n",
    "    # this function selects a set of vectors whose entries are between a and b\n",
    "    \n",
    "    filtered_vector = [[x for x in v if a < x < b] for v in set_vectors ]\n",
    "    return filtered_vector        \n",
    "\n",
    "def list_vector_indices_upto(list_indices, list_of_nums):\n",
    "    result_list = [[list_indices[i][j] for j in range(list_of_nums[i] + 1)] for i in range(len(list_indices))]\n",
    "    return result_list\n",
    "\n",
    "def list_vector_of_index(set_vectors, list_indices):\n",
    "    \n",
    "    list_result_vectors = [np.array([set_vectors[i] for i in list_indices[j]]) for j in range(len(list_indices))]\n",
    "    return list_result_vectors \n",
    "\n",
    "\n",
    "\n",
    "def find_basis(point_cloud, x, epsilon_PCA = 0.1, dim = 2, tau_ratio = 1.5):\n",
    "    #point_cloud: the manifold \n",
    "    #x: np.array of shape 1 by p, the point where the curvature is evaluated at, e.g., [[1, 2, 3]]\n",
    "    #epsilon: the radius of local PCA\n",
    "    #dim: the dimension of the manifold\n",
    "    #tau_ratio: the ratio is tau radius (where we evaluate the curvature)/ epsilon_sqrt\n",
    "    epsilon_sqrt = np.sqrt(epsilon_PCA)\n",
    "    tau = tau_ratio * epsilon_sqrt\n",
    "\n",
    "    # Number of neighbors to find, we take 5% of the total population\n",
    "    k = int(0.2 * point_cloud.shape[0])\n",
    "    \n",
    "    # Create a NearestNeighbors model\n",
    "    nbrs = NearestNeighbors(n_neighbors=k, algorithm='ball_tree').fit(point_cloud)\n",
    "\n",
    "    # Find k nearest neighbors\n",
    "    dist_i, indx_i = nbrs.kneighbors(x)\n",
    "    # Find epsilon neighborhood\n",
    "    dist_epsilon = sub_vectors_between(dist_i, 0, epsilon_sqrt)\n",
    "    len_dist_epsilon = [len(v) for v in dist_epsilon]\n",
    "    epsilon_neighborhood = list_vector_of_index(point_cloud, list_vector_indices_upto(indx_i, len_dist_epsilon))[0]\n",
    "    # Find tau neighborhood\n",
    "    dist_tau = sub_vectors_between(dist_i, 0, tau)\n",
    "    len_dist_tau = [len(v) for v in dist_tau]\n",
    "    tau_neighborhood = list_vector_of_index(point_cloud, list_vector_indices_upto(indx_i, len_dist_tau))[0]\n",
    "    num = len(tau_neighborhood)\n",
    "    \n",
    "    distances, indices = nbrs.kneighbors(tau_neighborhood)\n",
    "    \n",
    "    distances_epsilon = sub_vectors_between(distances, 0, epsilon_sqrt) # this is the list of distances in the epsilon\n",
    "    list_len_dist_epsilon = [len(v) for v in distances_epsilon] #this gives the list of lengths in the distance_epsilon \n",
    "    \n",
    "    tau_epsilon_neighborhood = list_vector_of_index(point_cloud, list_vector_indices_upto(indices, list_len_dist_epsilon))\n",
    "    list_X_i = [tau_epsilon_neighborhood[i][1:] - tau_neighborhood[i] for i in range(num)]\n",
    "    \n",
    "    \n",
    "    #list_D_i = [np.diag(np.sqrt(np.exp(- np.array(distances_epsilon[i]) ** 2 / epsilon_PCA))) for i in range(num)]\n",
    "    list_D_i = [np.diag(np.sqrt(np.exp( - 5 * np.array(distances_epsilon[i]) ** 2 / epsilon_PCA))) for \n",
    "                i in range(num)]\n",
    "    list_B_i = [list_X_i[j].T @ list_D_i[j] for j in range(num)]\n",
    "    O = []\n",
    "    for q in range(num):\n",
    "        U, S, VT = np.linalg.svd(list_B_i[q], full_matrices = False)\n",
    "        O_i = U[:dim, :]\n",
    "        O.append(O_i)\n",
    "        \n",
    "    return epsilon_neighborhood, tau_neighborhood, tau_epsilon_neighborhood, O\n",
    "\n"
   ]
  },
  {
   "cell_type": "markdown",
   "metadata": {},
   "source": [
    "## Use triangle"
   ]
  },
  {
   "cell_type": "code",
   "execution_count": 10,
   "metadata": {},
   "outputs": [],
   "source": [
    "def compute_curvature_v2(point_cloud, query_point, epsilon_PCA = 0.1, dim = 2, tau_ratio = 1.5):\n",
    "    \n",
    "    ep_neighbor, tau_neighbor, tau_epsilon_neighbor, O = find_basis(point_cloud, query_point, epsilon_PCA = epsilon_PCA,\n",
    "                                                                    dim = dim, tau_ratio = tau_ratio)\n",
    "    \n",
    "    transport_maps = np.zeros((len(tau_neighbor), len(tau_neighbor), dim, dim))\n",
    "    for i in range(len(tau_neighbor)):\n",
    "        for j in range(len(tau_neighbor)):\n",
    "            U, S, VT = np.linalg.svd(O[i] @ O[j].T, full_matrices = False)\n",
    "            O_ij = U @ VT\n",
    "            transport_maps[i,j] = O_ij\n",
    "            \n",
    "    tensor_av = []\n",
    "\n",
    "    O_init = O[0]\n",
    "    for i in np.arange(1, len(tau_neighbor)):\n",
    "        for j in np.arange(i + 1, len(tau_neighbor)):\n",
    "            O_fin = O_init.T @ transport_maps[0, i] @ transport_maps[i, j] @ transport_maps[j, 0]\n",
    "            v_init = O_init[0]\n",
    "            v_fin = O_fin.T[0]\n",
    "            \n",
    "            cosin = (v_init @ v_fin.T) / (np.linalg.norm(v_init) * np.linalg.norm(v_fin))\n",
    "            angle = np.arccos(cosin)\n",
    "            area = np.linalg.norm(np.cross(tau_neighbor[i] - tau_neighbor[0], tau_neighbor[j] - tau_neighbor[0])) / 2\n",
    "            \n",
    "            tensor = (2 * np.pi - angle) / area \n",
    "            \n",
    "            tensor_av.append(tensor)\n",
    "                               \n",
    "    \n",
    "    tensor_av = np.exp(sum(tensor_av)/len(tensor_av) * 0.0001)\n",
    "         \n",
    "    return transport_maps, tensor_av \n",
    " "
   ]
  },
  {
   "cell_type": "code",
   "execution_count": 11,
   "metadata": {},
   "outputs": [],
   "source": [
    "hyper_cutted_index = []\n",
    "for i in range(len(hyperboloid)):\n",
    "    if abs(hyperboloid[i, 2]) <= 0.9:\n",
    "        hyper_cutted_index.append(i)"
   ]
  },
  {
   "cell_type": "code",
   "execution_count": 12,
   "metadata": {},
   "outputs": [
    {
     "name": "stderr",
     "output_type": "stream",
     "text": [
      " 61%|██████    | 610/1000 [49:06<38:13,  5.88s/it]  /tmp/ipykernel_64480/4202095317.py:23: RuntimeWarning: invalid value encountered in arccos\n",
      "  angle = np.arccos(cosin)\n",
      " 64%|██████▍   | 644/1000 [52:32<30:12,  5.09s/it]/tmp/ipykernel_64480/4202095317.py:23: RuntimeWarning: invalid value encountered in arccos\n",
      "  angle = np.arccos(cosin)\n",
      "100%|██████████| 1000/1000 [1:21:17<00:00,  4.88s/it]\n"
     ]
    }
   ],
   "source": [
    "\n",
    "num_eval = int(len(hyperboloid)/5)\n",
    "\n",
    "curvature = []\n",
    "for i in tqdm(hyper_cutted_index[: 1000]):\n",
    "    a, b = compute_curvature_v2(hyperboloid, np.expand_dims(hyperboloid[i], axis=0), epsilon_PCA = 0.1, tau_ratio = 2)\n",
    "\n",
    "    curvature.append(b)\n"
   ]
  },
  {
   "cell_type": "code",
   "execution_count": 24,
   "metadata": {},
   "outputs": [
    {
     "data": {
      "text/plain": [
       "(4153,)"
      ]
     },
     "execution_count": 24,
     "metadata": {},
     "output_type": "execute_result"
    }
   ],
   "source": [
    "np.array(hyper_cutted_index).shape"
   ]
  },
  {
   "cell_type": "code",
   "execution_count": 15,
   "metadata": {},
   "outputs": [
    {
     "data": {
      "image/png": "[encoded data removed]",
      "text/plain": [
       "<Figure size 432x288 with 1 Axes>"
      ]
     },
     "metadata": {
      "needs_background": "light"
     },
     "output_type": "display_data"
    }
   ],
   "source": [
    "v = np.array(curvature).T\n",
    "cc = - v\n",
    "fig = plt.figure()\n",
    "ax = fig.add_subplot(111, projection='3d')\n",
    "scatter = ax.scatter(hyperboloid[hyper_cutted_index[:1000], 0], hyperboloid[hyper_cutted_index[:1000], 1], hyperboloid[hyper_cutted_index[:1000], 2], s=2, c = cc)\n",
    "ax.set_title(\"Curvature on torus point cloud\")\n",
    "ax.view_init(0, 45)\n",
    "plt.axis('off')\n",
    "ax.set_aspect('equal')\n",
    "plt.show()"
   ]
  },
  {
   "cell_type": "code",
   "execution_count": null,
   "metadata": {},
   "outputs": [],
   "source": []
  }
 ],
 "metadata": {
  "kernelspec": {
   "display_name": "sheafnn",
   "language": "python",
   "name": "sheafnn"
  },
  "language_info": {
   "codemirror_mode": {
    "name": "ipython",
    "version": 3
   },
   "file_extension": ".py",
   "mimetype": "text/x-python",
   "name": "python",
   "nbconvert_exporter": "python",
   "pygments_lexer": "ipython3",
   "version": "3.10.4"
  }
 },
 "nbformat": 4,
 "nbformat_minor": 4
}
