{
 "cells": [
  {
   "cell_type": "code",
   "execution_count": null,
   "metadata": {},
   "outputs": [],
   "source": [
    "import networkx as nx\n",
    "import matplotlib.pyplot as plt\n",
    "import numpy as np\n",
    "import torch\n",
    "import math"
   ]
  },
  {
   "cell_type": "code",
   "execution_count": 44,
   "metadata": {},
   "outputs": [],
   "source": [
    "def shortest_paths(G):\n",
    "    #this gives a dictionary of all shortest paths from all nodes\n",
    "    #G is a nx.graph, can compute either from G=nx.Graph or G=nx.from_numpy_matrix(A) where A is adjacency matrix\n",
    "    P = [ {} for _ in range(1, len(G._node) + 1) ]\n",
    "    Q = {}\n",
    "    for i in range(0, len(G._node) ):\n",
    "        for j in range(0, len(G._node)):\n",
    "            P[i][j] = [v for v in nx.all_shortest_paths(G, source=i, target=j)]\n",
    "        Q[i] = P[i] \n",
    "    return Q\n",
    "\n",
    "def num_of_elements_of_length_k(lst, k):\n",
    "    #lst: a list in the form {1: [[a, b], [c, d]], 2: [[e]]}\n",
    "    #k: the required length\n",
    "    i = 0\n",
    "    idx_set = {}\n",
    "    for idx in range(0, len(lst)):\n",
    "        if len(lst[idx][0]) == k:\n",
    "            idx_set[i] = idx\n",
    "            i = i + len(lst[idx])\n",
    "    return i, idx_set"
   ]
  },
  {
   "cell_type": "code",
   "execution_count": 45,
   "metadata": {},
   "outputs": [
    {
     "data": {
      "image/png": "[encoded data removed]",
      "text/plain": [
       "<Figure size 432x288 with 1 Axes>"
      ]
     },
     "metadata": {},
     "output_type": "display_data"
    }
   ],
   "source": [
    "G1 = nx.cycle_graph(10)\n",
    "G1.add_edge(0, 5)\n",
    "\n",
    "G21 = nx.cycle_graph(5)\n",
    "G22 = nx.cycle_graph(5)\n",
    "mapping = {i: i+5 for i in range(5)}\n",
    "G22 = nx.relabel_nodes(G22, mapping)\n",
    "G2 = nx.union(G21, G22)\n",
    "G2.add_edge(0, 5)\n",
    "\n",
    "nx.draw(G1, with_labels=True, font_weight='bold')"
   ]
  },
  {
   "cell_type": "code",
   "execution_count": 46,
   "metadata": {},
   "outputs": [],
   "source": [
    "features = {}\n",
    "for i in range(len(G1)):\n",
    "    l = dict(enumerate(np.ones(10)))\n",
    "    features[i] = l\n",
    "nx.set_node_attributes(G1, features)"
   ]
  },
  {
   "cell_type": "code",
   "execution_count": 47,
   "metadata": {},
   "outputs": [
    {
     "data": {
      "text/plain": [
       "{0: 1.0,\n",
       " 1: 1.0,\n",
       " 2: 1.0,\n",
       " 3: 1.0,\n",
       " 4: 1.0,\n",
       " 5: 1.0,\n",
       " 6: 1.0,\n",
       " 7: 1.0,\n",
       " 8: 1.0,\n",
       " 9: 1.0}"
      ]
     },
     "execution_count": 47,
     "metadata": {},
     "output_type": "execute_result"
    }
   ],
   "source": [
    "G1.nodes[1]"
   ]
  },
  {
   "cell_type": "code",
   "execution_count": 59,
   "metadata": {},
   "outputs": [],
   "source": [
    "def sub_vectors_between(set_vectors, a, b):\n",
    "    # this function selects a set of vectors whose entries are between a and b\n",
    "    \n",
    "    filtered_vector = [[x for x in v if a < x < b] for v in set_vectors ]\n",
    "    return filtered_vector        \n",
    "\n",
    "def list_vector_indices_upto(list_indices, list_of_nums):\n",
    "    result_list = [[list_indices[i][j] for j in range(list_of_nums[i] + 1)] for i in range(len(list_indices))]\n",
    "    return result_list\n",
    "\n",
    "def list_vector_of_index(set_vectors, list_indices):\n",
    "    \n",
    "    list_result_vectors = [np.array([set_vectors[i] for i in list_indices[j]]) for j in range(len(list_indices))]\n",
    "    return list_result_vectors \n",
    "\n",
    "\n",
    "\n",
    "def find_stalks_graph(G, x, hop_PCA = 1, stalk_dim = 2):\n",
    "    #G: the nx.Graph\n",
    "    #x: label of the node, shape of 1 by n, the point where the basis is evaluated at, e.g., [[1, 2, 3]]\n",
    "    #epsilon: the radius of local PCA\n",
    "    #dim: the dimension of the manifold\n",
    "    #tau_ratio: the ratio is tau radius (where we evaluate the curvature)/ epsilon_sqrt\n",
    "    hop_PCA = hop_PCA\n",
    "    \n",
    "    # Number of neighbors at x of hop_PCA steps \n",
    "    k = num_of_elements_of_length_k(shortest_paths(G)[x], hop_PCA + 1)[0]\n",
    "    \n",
    "    # Select the node of neighbors\n",
    "    nbrs = num_of_elements_of_length_k(shortest_paths(G)[x], hop_PCA + 1)[1]\n",
    "    if len(nbrs) == 0:\n",
    "        O_i = np.array([0])\n",
    "    elif len(nbrs) == 1:\n",
    "        O_i = np.array(list(G.nodes[nbrs[0]].values())) -  np.array(list(G.nodes[x].values()))\n",
    "    else:\n",
    "        X_i = []\n",
    "        for i in range(len(nbrs)):\n",
    "            xi = np.array(list(G.nodes[nbrs[i]].values()))\n",
    "            x0 = np.array(list(G.nodes[x].values()))\n",
    "            dist = xi - x0\n",
    "            X_i.append(dist)\n",
    "            #X_i.append(xi)\n",
    "        X_i = np.vstack(X_i)\n",
    "        prob = []\n",
    "        for i in nbrs.values():\n",
    "            nn = len(list(G.neighbors(i)))\n",
    "            prob.append(nn)\n",
    "        D_i = np.diag(prob) / sum(prob)\n",
    "        B_i = X_i.T @ D_i\n",
    "        U, S, VT = np.linalg.svd(B_i, full_matrices = False)\n",
    "        #dim = len(nbrs) + stalk_dim\n",
    "        O_i = U[:, :stalk_dim]\n",
    "        \n",
    "    return  O_i\n",
    "\n",
    "def transport_map_graphs(G):\n",
    "    transport_maps = {}\n",
    "    for i in G.nodes:\n",
    "        O_i = find_stalks_graph(G, i)\n",
    "        transport_maps_j = {}\n",
    "        for j in G.nodes:\n",
    "            O_j = find_stalks_graph(G, j)\n",
    "            if i == j:\n",
    "                O_ij = np.identity(O_j.shape[0])\n",
    "                transport_maps_j[j] = O_ij\n",
    "            elif G.has_edge(i, j):\n",
    "                U, S, VT = np.linalg.svd(O_i.T @ O_j, full_matrices = False)\n",
    "                O_ij = U @ VT\n",
    "                transport_maps_j[j] = O_ij\n",
    "            else:\n",
    "                transport_maps_j[j] = np.array([0])\n",
    "        transport_maps[i] = transport_maps_j\n",
    "    return transport_maps\n",
    "                \n",
    "                \n",
    "            \n",
    "            \n",
    "                \n",
    "                \n",
    "    "
   ]
  },
  {
   "cell_type": "code",
   "execution_count": 63,
   "metadata": {},
   "outputs": [
    {
     "name": "stdout",
     "output_type": "stream",
     "text": [
      "[1. 1.]\n",
      "[1. 1.]\n",
      "[1. 1.]\n",
      "[1. 1.]\n",
      "[1. 1.]\n",
      "[1. 1.]\n",
      "[1. 1.]\n",
      "[1. 1.]\n",
      "[1. 1.]\n",
      "[1. 1.]\n"
     ]
    }
   ],
   "source": [
    "Coor = []\n",
    "for i in G1.nodes:\n",
    "    aggregation = []\n",
    "    for j in list(G1.neighbors(i)):\n",
    "        k = np.array(find_stalks_graph(G1, j, hop_PCA = 1) @ transport_map_graphs(G1)[j][i])\n",
    "        \n",
    "        aggregation.append(k)\n",
    "    aggregated = sum(aggregation)/len(list(G1.neighbors(i)))\n",
    "    U, S, V= np.linalg.svd(aggregated.T, full_matrices = False)\n",
    "    print(S)\n",
    "    Coor.append(U[0])\n"
   ]
  },
  {
   "cell_type": "code",
   "execution_count": 64,
   "metadata": {},
   "outputs": [
    {
     "data": {
      "image/png": "[encoded data removed]",
      "text/plain": [
       "<Figure size 432x288 with 1 Axes>"
      ]
     },
     "metadata": {
      "needs_background": "light"
     },
     "output_type": "display_data"
    }
   ],
   "source": [
    "Coor = np.vstack(Coor)\n",
    "fig = plt.figure()\n",
    "ax = fig.add_subplot(111)\n",
    "scatter = ax.scatter(Coor[:, 0], Coor[:, 1])\n",
    "plt.show()"
   ]
  },
  {
   "cell_type": "code",
   "execution_count": 65,
   "metadata": {},
   "outputs": [
    {
     "data": {
      "image/png": "[encoded data removed]",
      "text/plain": [
       "<Figure size 432x288 with 1 Axes>"
      ]
     },
     "metadata": {
      "needs_background": "light"
     },
     "output_type": "display_data"
    }
   ],
   "source": [
    "from adjustText import adjust_text\n",
    "\n",
    "fig, ax = plt.subplots()\n",
    "ax.scatter(Coor[:, 0], Coor[:, 1])\n",
    "labels = ['{}'.format(i) for i in range(len(G1))]\n",
    "texts = []\n",
    "for x, y, text in zip(Coor[:, 0], Coor[:, 1], labels):\n",
    "    texts.append(ax.text(x, y, text))\n",
    "adjust_text(texts, force_text=0.05, arrowprops=dict(arrowstyle=\"-|>\",color='r', alpha=0.5))\n",
    "plt.show()"
   ]
  },
  {
   "cell_type": "code",
   "execution_count": 53,
   "metadata": {},
   "outputs": [
    {
     "data": {
      "image/png": "[encoded data removed]",
      "text/plain": [
       "<Figure size 432x288 with 1 Axes>"
      ]
     },
     "metadata": {},
     "output_type": "display_data"
    }
   ],
   "source": [
    "nx.draw(G1, with_labels=True, font_weight='bold')"
   ]
  },
  {
   "cell_type": "code",
   "execution_count": 21,
   "metadata": {},
   "outputs": [
    {
     "data": {
      "text/plain": [
       "<dict_keyiterator at 0x7f32ad5a5b70>"
      ]
     },
     "execution_count": 21,
     "metadata": {},
     "output_type": "execute_result"
    }
   ],
   "source": [
    "G1.neighbors(0)"
   ]
  },
  {
   "cell_type": "code",
   "execution_count": 22,
   "metadata": {},
   "outputs": [
    {
     "data": {
      "text/plain": [
       "array([[1, 0, 0],\n",
       "       [0, 2, 0],\n",
       "       [0, 0, 3]])"
      ]
     },
     "execution_count": 22,
     "metadata": {},
     "output_type": "execute_result"
    }
   ],
   "source": [
    "np.diag([1,2,3])"
   ]
  },
  {
   "cell_type": "code",
   "execution_count": null,
   "metadata": {},
   "outputs": [],
   "source": []
  }
 ],
 "metadata": {
  "kernelspec": {
   "display_name": "sheafnn",
   "language": "python",
   "name": "sheafnn"
  },
  "language_info": {
   "codemirror_mode": {
    "name": "ipython",
    "version": 3
   },
   "file_extension": ".py",
   "mimetype": "text/x-python",
   "name": "python",
   "nbconvert_exporter": "python",
   "pygments_lexer": "ipython3",
   "version": "3.10.4"
  }
 },
 "nbformat": 4,
 "nbformat_minor": 4
}
